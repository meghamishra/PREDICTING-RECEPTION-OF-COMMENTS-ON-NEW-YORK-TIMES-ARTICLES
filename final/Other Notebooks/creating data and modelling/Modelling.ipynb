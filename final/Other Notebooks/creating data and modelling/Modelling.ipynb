{
  "nbformat": 4,
  "nbformat_minor": 0,
  "metadata": {
    "colab": {
      "name": "Modelling.ipynb",
      "provenance": [],
      "collapsed_sections": [],
      "machine_shape": "hm"
    },
    "kernelspec": {
      "name": "python3",
      "display_name": "Python 3"
    }
  },
  "cells": [
    {
      "cell_type": "code",
      "metadata": {
        "id": "tGPHr9AgCP-X",
        "colab_type": "code",
        "outputId": "3fde5396-62ac-4e43-f486-87b997526d75",
        "colab": {
          "base_uri": "https://localhost:8080/",
          "height": 110
        }
      },
      "source": [
        "# !pip install sklearn-extensions"
      ],
      "execution_count": 0,
      "outputs": [
        {
          "output_type": "stream",
          "text": [
            "Requirement already satisfied: sklearn-extensions in /usr/local/lib/python3.6/dist-packages (0.0.2)\n",
            "Requirement already satisfied: scipy>=0.16.0 in /usr/local/lib/python3.6/dist-packages (from sklearn-extensions) (1.3.3)\n",
            "Requirement already satisfied: scikit-learn>=0.15 in /usr/local/lib/python3.6/dist-packages (from sklearn-extensions) (0.21.3)\n",
            "Requirement already satisfied: numpy>=1.9.0 in /usr/local/lib/python3.6/dist-packages (from sklearn-extensions) (1.17.4)\n",
            "Requirement already satisfied: joblib>=0.11 in /usr/local/lib/python3.6/dist-packages (from scikit-learn>=0.15->sklearn-extensions) (0.14.0)\n"
          ],
          "name": "stdout"
        }
      ]
    },
    {
      "cell_type": "code",
      "metadata": {
        "id": "WdsnbQi27oaZ",
        "colab_type": "code",
        "colab": {}
      },
      "source": [
        "import pandas as pd\n",
        "import numpy as np\n",
        "from sklearn.metrics import mean_squared_error,mean_absolute_error\n",
        "from sklearn.model_selection import learning_curve, GridSearchCV\n",
        "from sklearn.preprocessing import PolynomialFeatures\n",
        "from sklearn.kernel_ridge import KernelRidge\n",
        "from sklearn.linear_model import ElasticNet, Lasso\n",
        "from sklearn.pipeline import make_pipeline\n",
        "from sklearn.base import BaseEstimator, TransformerMixin\n",
        "from sklearn.linear_model import LinearRegression\n",
        "from sklearn.ensemble import RandomForestRegressor,RandomForestClassifier\n",
        "import xgboost as xgb\n",
        "from xgboost import plot_importance\n",
        "import warnings \n",
        "warnings.filterwarnings('ignore')\n"
      ],
      "execution_count": 0,
      "outputs": []
    },
    {
      "cell_type": "code",
      "metadata": {
        "id": "p1JTz4tB8FVz",
        "colab_type": "code",
        "outputId": "2f25b79f-4962-4163-e6a3-fef5761b7272",
        "colab": {
          "base_uri": "https://localhost:8080/",
          "height": 120
        }
      },
      "source": [
        "from google.colab import drive\n",
        "drive.mount('/content/gdrive')"
      ],
      "execution_count": 0,
      "outputs": [
        {
          "output_type": "stream",
          "text": [
            "Go to this URL in a browser: https://accounts.google.com/o/oauth2/auth?client_id=947318989803-6bn6qk8qdgf4n4g3pfee6491hc0brc4i.apps.googleusercontent.com&redirect_uri=urn%3aietf%3awg%3aoauth%3a2.0%3aoob&response_type=code&scope=email%20https%3a%2f%2fwww.googleapis.com%2fauth%2fdocs.test%20https%3a%2f%2fwww.googleapis.com%2fauth%2fdrive%20https%3a%2f%2fwww.googleapis.com%2fauth%2fdrive.photos.readonly%20https%3a%2f%2fwww.googleapis.com%2fauth%2fpeopleapi.readonly\n",
            "\n",
            "Enter your authorization code:\n",
            "··········\n",
            "Mounted at /content/gdrive\n"
          ],
          "name": "stdout"
        }
      ]
    },
    {
      "cell_type": "code",
      "metadata": {
        "id": "TsqL9tAa8IUA",
        "colab_type": "code",
        "colab": {}
      },
      "source": [
        "# Loading the datasets\n",
        "df_train = pd.read_csv(\"gdrive/My Drive/520_proj/preFinal/Final/CIS_520_PROJECT_DATA/TRAIN_DATA.csv\")\n",
        "df_test = pd.read_csv(\"gdrive/My Drive/520_proj/preFinal/Final/CIS_520_PROJECT_DATA/VALIDATION_DATA.csv\")\n",
        "df_val = pd.read_csv(\"gdrive/My Drive/520_proj/preFinal/Final/CIS_520_PROJECT_DATA/UNSEEN_TESTING_DATA.csv\")"
      ],
      "execution_count": 0,
      "outputs": []
    },
    {
      "cell_type": "code",
      "metadata": {
        "id": "2rsjq2mM9Iil",
        "colab_type": "code",
        "outputId": "5d72ac5d-17f3-4a55-971a-9a17829634d8",
        "colab": {
          "base_uri": "https://localhost:8080/",
          "height": 127
        }
      },
      "source": [
        "\n",
        "df_train.head(2)"
      ],
      "execution_count": 0,
      "outputs": [
        {
          "output_type": "execute_result",
          "data": {
            "text/html": [
              "<div>\n",
              "<style scoped>\n",
              "    .dataframe tbody tr th:only-of-type {\n",
              "        vertical-align: middle;\n",
              "    }\n",
              "\n",
              "    .dataframe tbody tr th {\n",
              "        vertical-align: top;\n",
              "    }\n",
              "\n",
              "    .dataframe thead th {\n",
              "        text-align: right;\n",
              "    }\n",
              "</style>\n",
              "<table border=\"1\" class=\"dataframe\">\n",
              "  <thead>\n",
              "    <tr style=\"text-align: right;\">\n",
              "      <th></th>\n",
              "      <th>0</th>\n",
              "      <th>1</th>\n",
              "      <th>2</th>\n",
              "      <th>3</th>\n",
              "      <th>4</th>\n",
              "      <th>5</th>\n",
              "      <th>6</th>\n",
              "      <th>7</th>\n",
              "      <th>8</th>\n",
              "      <th>9</th>\n",
              "      <th>10</th>\n",
              "      <th>11</th>\n",
              "      <th>12</th>\n",
              "      <th>13</th>\n",
              "      <th>14</th>\n",
              "      <th>15</th>\n",
              "      <th>16</th>\n",
              "      <th>17</th>\n",
              "      <th>18</th>\n",
              "      <th>19</th>\n",
              "      <th>20</th>\n",
              "      <th>21</th>\n",
              "      <th>22</th>\n",
              "      <th>23</th>\n",
              "      <th>24</th>\n",
              "      <th>25</th>\n",
              "      <th>26</th>\n",
              "      <th>27</th>\n",
              "      <th>28</th>\n",
              "      <th>29</th>\n",
              "      <th>commentID</th>\n",
              "      <th>createDate</th>\n",
              "      <th>articleWordCount</th>\n",
              "      <th>depth</th>\n",
              "      <th>recommendations</th>\n",
              "      <th>replyCount</th>\n",
              "      <th>userIDRC</th>\n",
              "      <th>editorsSelection</th>\n",
              "      <th>ratio_comment_article</th>\n",
              "      <th>word_count</th>\n",
              "      <th>comment</th>\n",
              "      <th>reporterReply</th>\n",
              "      <th>userReply</th>\n",
              "      <th>0_LDA</th>\n",
              "      <th>1_LDA</th>\n",
              "      <th>2_LDA</th>\n",
              "      <th>3_LDA</th>\n",
              "      <th>4_LDA</th>\n",
              "      <th>5_LDA</th>\n",
              "      <th>6_LDA</th>\n",
              "      <th>7_LDA</th>\n",
              "      <th>8_LDA</th>\n",
              "      <th>9_LDA</th>\n",
              "      <th>10_LDA</th>\n",
              "      <th>11_LDA</th>\n",
              "      <th>12_LDA</th>\n",
              "      <th>13_LDA</th>\n",
              "      <th>14_LDA</th>\n",
              "      <th>15_LDA</th>\n",
              "      <th>16_LDA</th>\n",
              "      <th>17_LDA</th>\n",
              "      <th>18_LDA</th>\n",
              "      <th>19_LDA</th>\n",
              "      <th>articleID</th>\n",
              "      <th>articleRelevance</th>\n",
              "      <th>Sentiment</th>\n",
              "    </tr>\n",
              "  </thead>\n",
              "  <tbody>\n",
              "    <tr>\n",
              "      <th>0</th>\n",
              "      <td>0.082981</td>\n",
              "      <td>-0.097531</td>\n",
              "      <td>-0.022281</td>\n",
              "      <td>0.035595</td>\n",
              "      <td>0.002903</td>\n",
              "      <td>0.008946</td>\n",
              "      <td>-0.004116</td>\n",
              "      <td>0.016800</td>\n",
              "      <td>0.004000</td>\n",
              "      <td>-0.054189</td>\n",
              "      <td>0.077229</td>\n",
              "      <td>0.077173</td>\n",
              "      <td>-0.018401</td>\n",
              "      <td>0.005129</td>\n",
              "      <td>0.002620</td>\n",
              "      <td>-0.020919</td>\n",
              "      <td>0.067789</td>\n",
              "      <td>0.031618</td>\n",
              "      <td>0.013293</td>\n",
              "      <td>0.029003</td>\n",
              "      <td>-0.029955</td>\n",
              "      <td>0.036427</td>\n",
              "      <td>0.005118</td>\n",
              "      <td>-0.010949</td>\n",
              "      <td>-0.030049</td>\n",
              "      <td>0.014499</td>\n",
              "      <td>0.025284</td>\n",
              "      <td>0.013931</td>\n",
              "      <td>0.008188</td>\n",
              "      <td>-0.000378</td>\n",
              "      <td>21059310.0</td>\n",
              "      <td>9070.0</td>\n",
              "      <td>1254.0</td>\n",
              "      <td>1.0</td>\n",
              "      <td>17.0</td>\n",
              "      <td>0.0</td>\n",
              "      <td>0.000000</td>\n",
              "      <td>0.0</td>\n",
              "      <td>592.00000</td>\n",
              "      <td>327.0</td>\n",
              "      <td>1.0</td>\n",
              "      <td>0.0</td>\n",
              "      <td>0.0</td>\n",
              "      <td>0.015234</td>\n",
              "      <td>0.000000</td>\n",
              "      <td>0.001474</td>\n",
              "      <td>0.002076</td>\n",
              "      <td>0.000541</td>\n",
              "      <td>0.012121</td>\n",
              "      <td>0.006296</td>\n",
              "      <td>0.000000</td>\n",
              "      <td>0.000510</td>\n",
              "      <td>0.000000</td>\n",
              "      <td>0.000000</td>\n",
              "      <td>0.000207</td>\n",
              "      <td>0.108492</td>\n",
              "      <td>0.0</td>\n",
              "      <td>0.000400</td>\n",
              "      <td>0.000469</td>\n",
              "      <td>0.000320</td>\n",
              "      <td>0.000157</td>\n",
              "      <td>0.000000</td>\n",
              "      <td>0.001834</td>\n",
              "      <td>587575d295d0e0392607a033</td>\n",
              "      <td>0.035309</td>\n",
              "      <td>0.4767</td>\n",
              "    </tr>\n",
              "    <tr>\n",
              "      <th>1</th>\n",
              "      <td>0.080163</td>\n",
              "      <td>0.047493</td>\n",
              "      <td>-0.014904</td>\n",
              "      <td>0.005567</td>\n",
              "      <td>-0.004679</td>\n",
              "      <td>-0.010961</td>\n",
              "      <td>-0.000744</td>\n",
              "      <td>-0.006526</td>\n",
              "      <td>0.057172</td>\n",
              "      <td>0.030394</td>\n",
              "      <td>-0.031720</td>\n",
              "      <td>-0.003787</td>\n",
              "      <td>-0.021565</td>\n",
              "      <td>0.002246</td>\n",
              "      <td>0.014513</td>\n",
              "      <td>0.046155</td>\n",
              "      <td>0.060575</td>\n",
              "      <td>-0.040848</td>\n",
              "      <td>-0.047009</td>\n",
              "      <td>0.062050</td>\n",
              "      <td>0.005777</td>\n",
              "      <td>-0.013676</td>\n",
              "      <td>0.031962</td>\n",
              "      <td>0.024183</td>\n",
              "      <td>0.042047</td>\n",
              "      <td>0.013725</td>\n",
              "      <td>0.052387</td>\n",
              "      <td>0.009911</td>\n",
              "      <td>-0.017457</td>\n",
              "      <td>-0.009532</td>\n",
              "      <td>20991167.0</td>\n",
              "      <td>52691.0</td>\n",
              "      <td>1233.0</td>\n",
              "      <td>2.0</td>\n",
              "      <td>3.0</td>\n",
              "      <td>0.0</td>\n",
              "      <td>44.684211</td>\n",
              "      <td>0.0</td>\n",
              "      <td>12.52381</td>\n",
              "      <td>149.0</td>\n",
              "      <td>0.0</td>\n",
              "      <td>0.0</td>\n",
              "      <td>1.0</td>\n",
              "      <td>0.000000</td>\n",
              "      <td>0.000655</td>\n",
              "      <td>0.002676</td>\n",
              "      <td>0.000213</td>\n",
              "      <td>0.004868</td>\n",
              "      <td>0.000209</td>\n",
              "      <td>0.000000</td>\n",
              "      <td>0.000562</td>\n",
              "      <td>0.038849</td>\n",
              "      <td>0.001519</td>\n",
              "      <td>0.000933</td>\n",
              "      <td>0.003135</td>\n",
              "      <td>0.000254</td>\n",
              "      <td>0.0</td>\n",
              "      <td>0.001058</td>\n",
              "      <td>0.000990</td>\n",
              "      <td>0.001085</td>\n",
              "      <td>0.000253</td>\n",
              "      <td>0.000428</td>\n",
              "      <td>0.019422</td>\n",
              "      <td>586d000995d0e03926078eb2</td>\n",
              "      <td>-0.071916</td>\n",
              "      <td>0.8176</td>\n",
              "    </tr>\n",
              "  </tbody>\n",
              "</table>\n",
              "</div>"
            ],
            "text/plain": [
              "          0         1  ...  articleRelevance  Sentiment\n",
              "0  0.082981 -0.097531  ...          0.035309     0.4767\n",
              "1  0.080163  0.047493  ...         -0.071916     0.8176\n",
              "\n",
              "[2 rows x 66 columns]"
            ]
          },
          "metadata": {
            "tags": []
          },
          "execution_count": 4
        }
      ]
    },
    {
      "cell_type": "code",
      "metadata": {
        "id": "WNDAG2AF88dH",
        "colab_type": "code",
        "colab": {}
      },
      "source": [
        "y=df_train['recommendations']\n",
        "X=df_train.drop(['recommendations','articleID','commentID'],axis=1)\n",
        "\n",
        "y_test=df_test['recommendations']\n",
        "X_test=df_test.drop(['recommendations','articleID','commentID'],axis=1)\n",
        "\n",
        "y_val=df_val['recommendations']\n",
        "X_val=df_val.drop(['recommendations','articleID','commentID'],axis=1)\n"
      ],
      "execution_count": 0,
      "outputs": []
    },
    {
      "cell_type": "code",
      "metadata": {
        "id": "Bd-BXljQ5pHH",
        "colab_type": "code",
        "colab": {}
      },
      "source": [
        "yc = (y>3)*1\n",
        "yc_test = (y_test>3)*1\n",
        "yc_val=(y_val>3)*1"
      ],
      "execution_count": 0,
      "outputs": []
    },
    {
      "cell_type": "code",
      "metadata": {
        "id": "YCG2C0pT-A2R",
        "colab_type": "code",
        "colab": {}
      },
      "source": [
        "y = np.log(y+1)\n",
        "y_test = np.log(y_test+1)\n",
        "y_val=np.log(y_val+1)"
      ],
      "execution_count": 0,
      "outputs": []
    },
    {
      "cell_type": "markdown",
      "metadata": {
        "id": "4y_HAg9NQvVj",
        "colab_type": "text"
      },
      "source": [
        "### Baseline results"
      ]
    },
    {
      "cell_type": "code",
      "metadata": {
        "id": "GQFNf2xN-kw9",
        "colab_type": "code",
        "outputId": "a9133564-ad6e-43a9-8813-416385a94dc3",
        "colab": {
          "base_uri": "https://localhost:8080/",
          "height": 69
        }
      },
      "source": [
        "print(\"train_baseline\", mean_absolute_error(np.log(4)*np.ones(len(y)),y))\n",
        "print(\"test_baseline\", mean_absolute_error(np.log(4)*np.ones(len(y_test)),y_test))\n",
        "print(\"val_baseline\", mean_absolute_error(np.log(4)*np.ones(len(y_val)),y_val))"
      ],
      "execution_count": 0,
      "outputs": [
        {
          "output_type": "stream",
          "text": [
            "train_baseline 1.0339134991386294\n",
            "test_baseline 1.0423609445633808\n",
            "val_baseline 1.0331021099138706\n"
          ],
          "name": "stdout"
        }
      ]
    },
    {
      "cell_type": "markdown",
      "metadata": {
        "id": "CqtoOH9tQ1a_",
        "colab_type": "text"
      },
      "source": [
        "### Polynomial Regression of Degree 2"
      ]
    },
    {
      "cell_type": "code",
      "metadata": {
        "id": "9-Ixv-jk-5Hv",
        "colab_type": "code",
        "colab": {}
      },
      "source": [
        "\n",
        "poly= PolynomialFeatures(degree = 2)\n",
        "lr=LinearRegression()\n",
        "poly.fit(X)\n",
        "Xset=poly.transform(X)\n",
        "\n",
        "lr.fit(Xset,y)\n",
        "y_pred_train=lr.predict(Xset) \n",
        "\n",
        "Xset_test=poly.transform(X_test)\n",
        "y_pred_test=lr.predict(Xset_test) \n"
      ],
      "execution_count": 0,
      "outputs": []
    },
    {
      "cell_type": "code",
      "metadata": {
        "id": "vIDZqRdiCvZe",
        "colab_type": "code",
        "outputId": "53080a0d-33a4-4e09-e59e-813e7ba50ecf",
        "colab": {
          "base_uri": "https://localhost:8080/",
          "height": 52
        }
      },
      "source": [
        "print(\"train polynomial regression deg 2\", mean_absolute_error(y_pred_train,y))\n",
        "print(\"test_polynomial regression deg 2\", mean_absolute_error(y_pred_test,y_test))"
      ],
      "execution_count": 0,
      "outputs": [
        {
          "output_type": "stream",
          "text": [
            "train polynomial regression deg 2 0.8634768758011226\n",
            "test_polynomial regression deg 2 0.9131437052565387\n"
          ],
          "name": "stdout"
        }
      ]
    },
    {
      "cell_type": "markdown",
      "metadata": {
        "id": "Mew6RUg6FQOl",
        "colab_type": "text"
      },
      "source": [
        "######Lasso Regression"
      ]
    },
    {
      "cell_type": "code",
      "metadata": {
        "id": "p_pgOc99RC9J",
        "colab_type": "code",
        "colab": {}
      },
      "source": [
        "\n",
        "poly= PolynomialFeatures(degree = 2)\n",
        "lr=Lasso(selection='random')\n",
        "poly.fit(X)\n",
        "Xset=poly.transform(X)\n",
        "\n",
        "lr.fit(Xset,y)\n",
        "y_pred_train=lr.predict(Xset) \n",
        "\n",
        "Xset_test=poly.transform(X_test)\n",
        "y_pred_test=lr.predict(Xset_test) \n"
      ],
      "execution_count": 0,
      "outputs": []
    },
    {
      "cell_type": "code",
      "metadata": {
        "id": "T6cxZX7dE6IO",
        "colab_type": "code",
        "outputId": "a3691a1f-099f-44d8-9ba8-bbacde3babbc",
        "colab": {
          "base_uri": "https://localhost:8080/",
          "height": 52
        }
      },
      "source": [
        "print(\"train polynomial regression deg 2\", mean_absolute_error(y_pred_train,y))\n",
        "print(\"test_polynomial regression deg 2\", mean_absolute_error(y_pred_test,y_test))\n"
      ],
      "execution_count": 0,
      "outputs": [
        {
          "output_type": "stream",
          "text": [
            "train polynomial regression deg 2 0.9132701185062434\n",
            "test_polynomial regression deg 2 0.9441814187502625\n"
          ],
          "name": "stdout"
        }
      ]
    },
    {
      "cell_type": "code",
      "metadata": {
        "id": "gQmzr2fyE7uq",
        "colab_type": "code",
        "colab": {}
      },
      "source": [
        "poly= PolynomialFeatures(degree = 2)\n",
        "lr=ElasticNet()\n",
        "poly.fit(X)\n",
        "Xset=poly.transform(X)\n",
        "\n",
        "lr.fit(Xset,y)\n",
        "y_pred_train=lr.predict(Xset) \n",
        "\n",
        "Xset_test=poly.transform(X_test)\n",
        "y_pred_test=lr.predict(Xset_test) \n"
      ],
      "execution_count": 0,
      "outputs": []
    },
    {
      "cell_type": "code",
      "metadata": {
        "id": "pHn2okoyGgb4",
        "colab_type": "code",
        "outputId": "93fe5ec8-522c-421a-8ec3-4680021f4756",
        "colab": {
          "base_uri": "https://localhost:8080/",
          "height": 52
        }
      },
      "source": [
        "print(\"train polynomial regression deg 2\", mean_absolute_error(y_pred_train,y))\n",
        "print(\"test_polynomial regression deg 2\", mean_absolute_error(y_pred_test,y_test))\n"
      ],
      "execution_count": 0,
      "outputs": [
        {
          "output_type": "stream",
          "text": [
            "train polynomial regression deg 2 0.909878177616495\n",
            "test_polynomial regression deg 2 0.9424973977609978\n"
          ],
          "name": "stdout"
        }
      ]
    },
    {
      "cell_type": "markdown",
      "metadata": {
        "id": "41JP9I8qHG_F",
        "colab_type": "text"
      },
      "source": [
        "###### Thus, the results were the best for the polynomial regression without any penalty. This was probably because the model was very simple and thus, regularization only degraded the model."
      ]
    },
    {
      "cell_type": "code",
      "metadata": {
        "id": "jMzh_jeLG7tW",
        "colab_type": "code",
        "colab": {}
      },
      "source": [
        ""
      ],
      "execution_count": 0,
      "outputs": []
    },
    {
      "cell_type": "markdown",
      "metadata": {
        "id": "kCWVL1qERECN",
        "colab_type": "text"
      },
      "source": [
        "#### Ensembling:\n",
        "Creating 2-step Model:\n",
        "Converting the given problem to Classification by predicting 0 and 1 based on the median ( 0 being lower than the median and 1 being greater than it). Next we apply regression on the two classes to predict the actual log of recommendation values.\n",
        "\n",
        "We have used Random forest Classifier for the Binary Classifcation and Random Forest Regressor for further predicting log(recommendation) values "
      ]
    },
    {
      "cell_type": "code",
      "metadata": {
        "id": "TM94HNKL6coE",
        "colab_type": "code",
        "colab": {}
      },
      "source": [
        "param_grid = {\n",
        "    'max_depth': [20, 50, 80],\n",
        "    'max_features': [None, 'log2'],\n",
        "    'n_estimators': [50, 100]\n",
        "}# Create a based model\n",
        "rf = RandomForestClassifier()# Instantiate the grid search model\n",
        "grid_search = GridSearchCV(estimator = rf, param_grid = param_grid, \n",
        "                          cv = 3, n_jobs = -1, verbose = 10)"
      ],
      "execution_count": 0,
      "outputs": []
    },
    {
      "cell_type": "code",
      "metadata": {
        "id": "ObF4ZGcV_FR3",
        "colab_type": "code",
        "outputId": "71fda657-687d-4e19-a240-8a8f27dfba0b",
        "colab": {
          "base_uri": "https://localhost:8080/",
          "height": 485
        }
      },
      "source": [
        "grid_search.fit(X, yc)"
      ],
      "execution_count": 0,
      "outputs": [
        {
          "output_type": "stream",
          "text": [
            "Fitting 3 folds for each of 12 candidates, totalling 36 fits\n"
          ],
          "name": "stdout"
        },
        {
          "output_type": "stream",
          "text": [
            "[Parallel(n_jobs=-1)]: Using backend LokyBackend with 4 concurrent workers.\n",
            "[Parallel(n_jobs=-1)]: Done   5 tasks      | elapsed:  9.5min\n",
            "[Parallel(n_jobs=-1)]: Done  10 tasks      | elapsed: 15.8min\n",
            "[Parallel(n_jobs=-1)]: Done  17 tasks      | elapsed: 34.1min\n",
            "[Parallel(n_jobs=-1)]: Done  24 tasks      | elapsed: 42.9min\n",
            "[Parallel(n_jobs=-1)]: Done  33 out of  36 | elapsed: 57.9min remaining:  5.3min\n",
            "[Parallel(n_jobs=-1)]: Done  36 out of  36 | elapsed: 65.6min finished\n"
          ],
          "name": "stderr"
        },
        {
          "output_type": "execute_result",
          "data": {
            "text/plain": [
              "GridSearchCV(cv=3, error_score='raise-deprecating',\n",
              "             estimator=RandomForestClassifier(bootstrap=True, class_weight=None,\n",
              "                                              criterion='gini', max_depth=None,\n",
              "                                              max_features='auto',\n",
              "                                              max_leaf_nodes=None,\n",
              "                                              min_impurity_decrease=0.0,\n",
              "                                              min_impurity_split=None,\n",
              "                                              min_samples_leaf=1,\n",
              "                                              min_samples_split=2,\n",
              "                                              min_weight_fraction_leaf=0.0,\n",
              "                                              n_estimators='warn', n_jobs=None,\n",
              "                                              oob_score=False,\n",
              "                                              random_state=None, verbose=0,\n",
              "                                              warm_start=False),\n",
              "             iid='warn', n_jobs=-1,\n",
              "             param_grid={'max_depth': [20, 50, 80],\n",
              "                         'max_features': [None, 'log2'],\n",
              "                         'n_estimators': [50, 100]},\n",
              "             pre_dispatch='2*n_jobs', refit=True, return_train_score=False,\n",
              "             scoring=None, verbose=10)"
            ]
          },
          "metadata": {
            "tags": []
          },
          "execution_count": 10
        }
      ]
    },
    {
      "cell_type": "code",
      "metadata": {
        "id": "Xkm2SbR33RPz",
        "colab_type": "code",
        "outputId": "bb66f0d7-5a5f-4777-8bcc-feae5b8bc16a",
        "colab": {
          "base_uri": "https://localhost:8080/",
          "height": 33
        }
      },
      "source": [
        "grid_search.best_params_"
      ],
      "execution_count": 0,
      "outputs": [
        {
          "output_type": "execute_result",
          "data": {
            "text/plain": [
              "{'max_depth': 20, 'max_features': None, 'n_estimators': 100}"
            ]
          },
          "metadata": {
            "tags": []
          },
          "execution_count": 21
        }
      ]
    },
    {
      "cell_type": "code",
      "metadata": {
        "id": "yE1eWnvCOLR6",
        "colab_type": "code",
        "colab": {}
      },
      "source": [
        "# rf=RandomForestClassifier(max_depth=50, max_leaf_nodes=50,n_estimators=50)\n",
        "# grid_search.fit(X,yc)"
      ],
      "execution_count": 0,
      "outputs": []
    },
    {
      "cell_type": "code",
      "metadata": {
        "id": "FNfp1hmJ7wwm",
        "colab_type": "code",
        "colab": {}
      },
      "source": [
        "X['classified']=grid_search.predict(X)\n",
        "X_test['classified']=grid_search.predict(X_test)\n",
        "# X_val['classified']=rf.predict(X_val)"
      ],
      "execution_count": 0,
      "outputs": []
    },
    {
      "cell_type": "code",
      "metadata": {
        "id": "vlbiSbYc8RWw",
        "colab_type": "code",
        "colab": {}
      },
      "source": [
        "X1 = X[X['classified']==1]\n",
        "X0 = X[X['classified']==0]\n",
        "X1_test = X_test[X_test['classified']==1]\n",
        "X0_test = X_test[X_test['classified']==0]\n",
        "y1 = y[X['classified']==1]\n",
        "y0 = y[X['classified']==0]\n",
        "y1_test = y_test[X_test['classified']==1]\n",
        "y0_test = y_test[X_test['classified']==0]\n",
        "\n",
        "\n",
        "# X1_val = X_val[X_val['classified']==1]\n",
        "# X0_val = X_val[X_val['classified']==0]\n",
        "# y1_val = y_val[X_val['classified']==1]\n",
        "# y0_val = y_val[X_val['classified']==0]\n"
      ],
      "execution_count": 0,
      "outputs": []
    },
    {
      "cell_type": "code",
      "metadata": {
        "id": "AvFqB8sO8RTK",
        "colab_type": "code",
        "outputId": "82767697-2fed-483f-a46b-932db8490e5f",
        "colab": {
          "base_uri": "https://localhost:8080/",
          "height": 67
        }
      },
      "source": [
        "param_grid = {\n",
        "    'max_depth': [20, 50, 80],\n",
        "    'max_features': [None, 'log2'],\n",
        "    'n_estimators': [50, 100]\n",
        "}# Create a based mode\n",
        "rf = RandomForestRegressor()# Instantiate the grid search model\n",
        "grid_search_reg1 = GridSearchCV(estimator = rf, param_grid = param_grid, \n",
        "                          cv = 3, n_jobs = -1, verbose = 2)\n",
        "\n",
        "grid_search_reg1.fit(X1,y1)\n",
        "# rf1= RandomForestRegressor(max_depth=50,1 max_leaf_nodes=50,n_estimators=50)\n",
        "# rf1.fit(X1,y1)\n",
        "y1_pred = grid_search_reg1.predict(X1_test)\n",
        "# y1_val_pred=grid_search_reg1.predict(X1_val)\n",
        "mae1 = mean_absolute_error(y1_pred,y1_test)\n",
        "# mae1_val = mean_absolute_error(y1_val_pred,y1_val)"
      ],
      "execution_count": 0,
      "outputs": [
        {
          "output_type": "stream",
          "text": [
            "Fitting 3 folds for each of 12 candidates, totalling 36 fits\n"
          ],
          "name": "stdout"
        },
        {
          "output_type": "stream",
          "text": [
            "[Parallel(n_jobs=-1)]: Using backend LokyBackend with 4 concurrent workers.\n",
            "[Parallel(n_jobs=-1)]: Done  36 out of  36 | elapsed: 31.6min finished\n"
          ],
          "name": "stderr"
        }
      ]
    },
    {
      "cell_type": "code",
      "metadata": {
        "id": "HSg4SlHN3iwe",
        "colab_type": "code",
        "outputId": "60904145-292c-4498-8242-ba86c9b97489",
        "colab": {
          "base_uri": "https://localhost:8080/",
          "height": 33
        }
      },
      "source": [
        "grid_search_reg1.best_params_"
      ],
      "execution_count": 0,
      "outputs": [
        {
          "output_type": "execute_result",
          "data": {
            "text/plain": [
              "{'max_depth': 20, 'max_features': None, 'n_estimators': 100}"
            ]
          },
          "metadata": {
            "tags": []
          },
          "execution_count": 22
        }
      ]
    },
    {
      "cell_type": "code",
      "metadata": {
        "id": "QxV3O6tB8916",
        "colab_type": "code",
        "outputId": "a3bd90a9-a27f-46a5-8e0b-2508a30281c4",
        "colab": {
          "base_uri": "https://localhost:8080/",
          "height": 117
        }
      },
      "source": [
        "param_grid = {\n",
        "    'max_depth': [20, 50, 80],\n",
        "    'max_features': [None, 'log2'],\n",
        "    'n_estimators': [50, 100]\n",
        "}# Create a based mode\n",
        "rf = RandomForestRegressor()# Instantiate the grid search model\n",
        "grid_search_reg0 = GridSearchCV(estimator = rf, param_grid = param_grid, \n",
        "                          cv = 3, n_jobs = -1, verbose = 2)\n",
        "\n",
        "grid_search_reg0.fit(X0,y0)\n",
        "rf0= RandomForestRegressor(max_depth=50, max_leaf_nodes=50,n_estimators=50)\n",
        "grid_search_reg0.fit(X0,y0)\n",
        "y0_pred = grid_search_reg0.predict(X0_test)\n",
        "# y0_val_pred=grid_search_reg0.predict(X0_val)\n",
        "mae0 = mean_absolute_error(y0_pred,y0_test)\n",
        "# mae0_val = mean_absolute_error(y0_val_pred,y0_val)"
      ],
      "execution_count": 0,
      "outputs": [
        {
          "output_type": "stream",
          "text": [
            "Fitting 3 folds for each of 12 candidates, totalling 36 fits\n"
          ],
          "name": "stdout"
        },
        {
          "output_type": "stream",
          "text": [
            "[Parallel(n_jobs=-1)]: Using backend LokyBackend with 4 concurrent workers.\n",
            "[Parallel(n_jobs=-1)]: Done  36 out of  36 | elapsed: 28.9min finished\n"
          ],
          "name": "stderr"
        },
        {
          "output_type": "stream",
          "text": [
            "Fitting 3 folds for each of 12 candidates, totalling 36 fits\n"
          ],
          "name": "stdout"
        },
        {
          "output_type": "stream",
          "text": [
            "[Parallel(n_jobs=-1)]: Using backend LokyBackend with 4 concurrent workers.\n",
            "[Parallel(n_jobs=-1)]: Done  36 out of  36 | elapsed: 29.0min finished\n"
          ],
          "name": "stderr"
        }
      ]
    },
    {
      "cell_type": "code",
      "metadata": {
        "id": "ROAzcL-QTuXe",
        "colab_type": "code",
        "outputId": "74adce18-45ba-4d40-fafa-b87cb23c0a8a",
        "colab": {
          "base_uri": "https://localhost:8080/",
          "height": 33
        }
      },
      "source": [
        "mae_net_test=(y1_test.shape[0]*mae1 + y0_test.shape[0]*mae0)/(y1_test.shape[0] + y0_test.shape[0])\n",
        "mae_net_test"
      ],
      "execution_count": 0,
      "outputs": [
        {
          "output_type": "execute_result",
          "data": {
            "text/plain": [
              "0.9748516788402078"
            ]
          },
          "metadata": {
            "tags": []
          },
          "execution_count": 20
        }
      ]
    },
    {
      "cell_type": "markdown",
      "metadata": {
        "id": "G5NNmPKpUI7w",
        "colab_type": "text"
      },
      "source": [
        "#### XGBoost Regressor"
      ]
    },
    {
      "cell_type": "code",
      "metadata": {
        "id": "ywED_HiMnQrE",
        "colab_type": "code",
        "outputId": "c4a9c02b-64ad-4264-bd11-92dc0eaeab92",
        "colab": {
          "base_uri": "https://localhost:8080/",
          "height": 870
        }
      },
      "source": [
        "XGB_=xgb.XGBRegressor(max_depth= 10, eta= 0.4,eval_metric='mae',subsample=0.5)\n",
        "\n",
        "eval_set = [(X, y), (X_test, y_test)]\n",
        "XGB_.fit(X, y, early_stopping_rounds=5, eval_metric=['mae'], eval_set=eval_set, verbose=True)"
      ],
      "execution_count": 0,
      "outputs": [
        {
          "output_type": "stream",
          "text": [
            "[03:04:44] WARNING: /workspace/src/objective/regression_obj.cu:152: reg:linear is now deprecated in favor of reg:squarederror.\n",
            "[0]\tvalidation_0-mae:1.27134\tvalidation_1-mae:1.27327\n",
            "Multiple eval metrics have been passed: 'validation_1-mae' will be used for early stopping.\n",
            "\n",
            "Will train until validation_1-mae hasn't improved in 5 rounds.\n",
            "[1]\tvalidation_0-mae:1.19019\tvalidation_1-mae:1.20179\n",
            "[2]\tvalidation_0-mae:1.12506\tvalidation_1-mae:1.14406\n",
            "[3]\tvalidation_0-mae:1.06858\tvalidation_1-mae:1.0952\n",
            "[4]\tvalidation_0-mae:1.01978\tvalidation_1-mae:1.05336\n",
            "[5]\tvalidation_0-mae:0.979355\tvalidation_1-mae:1.01934\n",
            "[6]\tvalidation_0-mae:0.945498\tvalidation_1-mae:0.994612\n",
            "[7]\tvalidation_0-mae:0.917291\tvalidation_1-mae:0.972209\n",
            "[8]\tvalidation_0-mae:0.894258\tvalidation_1-mae:0.953545\n",
            "[9]\tvalidation_0-mae:0.874013\tvalidation_1-mae:0.938897\n",
            "[10]\tvalidation_0-mae:0.85695\tvalidation_1-mae:0.926289\n",
            "[11]\tvalidation_0-mae:0.842533\tvalidation_1-mae:0.917073\n",
            "[12]\tvalidation_0-mae:0.830792\tvalidation_1-mae:0.908925\n",
            "[13]\tvalidation_0-mae:0.820272\tvalidation_1-mae:0.905196\n",
            "[14]\tvalidation_0-mae:0.811334\tvalidation_1-mae:0.899385\n",
            "[15]\tvalidation_0-mae:0.802814\tvalidation_1-mae:0.894353\n",
            "[16]\tvalidation_0-mae:0.795638\tvalidation_1-mae:0.890348\n",
            "[17]\tvalidation_0-mae:0.789544\tvalidation_1-mae:0.887808\n",
            "[18]\tvalidation_0-mae:0.783934\tvalidation_1-mae:0.885097\n",
            "[19]\tvalidation_0-mae:0.779211\tvalidation_1-mae:0.88327\n",
            "[20]\tvalidation_0-mae:0.774841\tvalidation_1-mae:0.881798\n",
            "[21]\tvalidation_0-mae:0.770831\tvalidation_1-mae:0.88202\n",
            "[22]\tvalidation_0-mae:0.766752\tvalidation_1-mae:0.881162\n",
            "[23]\tvalidation_0-mae:0.763592\tvalidation_1-mae:0.880155\n",
            "[24]\tvalidation_0-mae:0.760607\tvalidation_1-mae:0.879287\n",
            "[25]\tvalidation_0-mae:0.757729\tvalidation_1-mae:0.879153\n",
            "[26]\tvalidation_0-mae:0.754879\tvalidation_1-mae:0.879117\n",
            "[27]\tvalidation_0-mae:0.752491\tvalidation_1-mae:0.879439\n",
            "[28]\tvalidation_0-mae:0.749845\tvalidation_1-mae:0.879268\n",
            "[29]\tvalidation_0-mae:0.746884\tvalidation_1-mae:0.87902\n",
            "[30]\tvalidation_0-mae:0.744597\tvalidation_1-mae:0.878736\n",
            "[31]\tvalidation_0-mae:0.742377\tvalidation_1-mae:0.878715\n",
            "[32]\tvalidation_0-mae:0.740171\tvalidation_1-mae:0.879602\n",
            "[33]\tvalidation_0-mae:0.738557\tvalidation_1-mae:0.879502\n",
            "[34]\tvalidation_0-mae:0.736526\tvalidation_1-mae:0.879152\n",
            "[35]\tvalidation_0-mae:0.733823\tvalidation_1-mae:0.878843\n",
            "[36]\tvalidation_0-mae:0.731687\tvalidation_1-mae:0.878818\n",
            "Stopping. Best iteration:\n",
            "[31]\tvalidation_0-mae:0.742377\tvalidation_1-mae:0.878715\n",
            "\n"
          ],
          "name": "stdout"
        },
        {
          "output_type": "execute_result",
          "data": {
            "text/plain": [
              "XGBRegressor(base_score=0.5, booster='gbtree', colsample_bylevel=1,\n",
              "             colsample_bynode=1, colsample_bytree=1, eta=0.4, eval_metric='mae',\n",
              "             gamma=0, importance_type='gain', learning_rate=0.1,\n",
              "             max_delta_step=0, max_depth=10, min_child_weight=1, missing=None,\n",
              "             n_estimators=100, n_jobs=1, nthread=None, objective='reg:linear',\n",
              "             random_state=0, reg_alpha=0, reg_lambda=1, scale_pos_weight=1,\n",
              "             seed=None, silent=None, subsample=0.5, verbosity=1)"
            ]
          },
          "metadata": {
            "tags": []
          },
          "execution_count": 17
        }
      ]
    },
    {
      "cell_type": "code",
      "metadata": {
        "id": "0uyfn4hHWDtB",
        "colab_type": "code",
        "outputId": "52674463-634e-49c3-b1ed-fb0cc353cf17",
        "colab": {
          "base_uri": "https://localhost:8080/",
          "height": 33
        }
      },
      "source": [
        "ypred = XGB_.predict(X_test)\n",
        "mean_absolute_error(ypred,y_test)"
      ],
      "execution_count": 0,
      "outputs": [
        {
          "output_type": "execute_result",
          "data": {
            "text/plain": [
              "0.8787174779038688"
            ]
          },
          "metadata": {
            "tags": []
          },
          "execution_count": 23
        }
      ]
    },
    {
      "cell_type": "code",
      "metadata": {
        "id": "Q2KoFPkFWGn9",
        "colab_type": "code",
        "outputId": "bb05135d-7b60-4b23-fba0-c02123725ecf",
        "colab": {
          "base_uri": "https://localhost:8080/",
          "height": 33
        }
      },
      "source": [
        "ypred = XGB_.predict(X_val)\n",
        "mean_absolute_error(ypred,y_val)"
      ],
      "execution_count": 0,
      "outputs": [
        {
          "output_type": "execute_result",
          "data": {
            "text/plain": [
              "0.8641138109046761"
            ]
          },
          "metadata": {
            "tags": []
          },
          "execution_count": 24
        }
      ]
    },
    {
      "cell_type": "code",
      "metadata": {
        "id": "zF1jzIZPV6mt",
        "colab_type": "code",
        "outputId": "0308dda3-77f4-4ea6-ae4f-fc5b82c0c5a6",
        "colab": {
          "base_uri": "https://localhost:8080/",
          "height": 312
        }
      },
      "source": [
        "\n",
        "plot_importance(XGB_,height = 0.2,max_num_features=20)"
      ],
      "execution_count": 0,
      "outputs": [
        {
          "output_type": "execute_result",
          "data": {
            "text/plain": [
              "<matplotlib.axes._subplots.AxesSubplot at 0x7ff9a09e3860>"
            ]
          },
          "metadata": {
            "tags": []
          },
          "execution_count": 25
        },
        {
          "output_type": "display_data",
          "data": {
            "image/png": "[encoded data removed]",
            "text/plain": [
              "<Figure size 432x288 with 1 Axes>"
            ]
          },
          "metadata": {
            "tags": []
          }
        }
      ]
    },
    {
      "cell_type": "code",
      "metadata": {
        "id": "AoADUsG1WLiQ",
        "colab_type": "code",
        "outputId": "c3713daf-db75-47fa-cdec-8c8a6a36c5ed",
        "colab": {
          "base_uri": "https://localhost:8080/",
          "height": 281
        }
      },
      "source": [
        "from matplotlib import pyplot\n",
        "results = XGB_.evals_result()\n",
        "epochs = len(results['validation_0']['mae'])\n",
        "x_axis = range(0, epochs)\n",
        "# plot log loss\n",
        "fig, ax = pyplot.subplots()\n",
        "ax.plot(x_axis, results['validation_0']['mae'], label='Train')\n",
        "ax.plot(x_axis, results['validation_1']['mae'], label='Test')\n",
        "ax.legend()\n",
        "pyplot.ylabel('mae')\n",
        "pyplot.title('XGBoost mae')\n",
        "pyplot.show()\n"
      ],
      "execution_count": 0,
      "outputs": [
        {
          "output_type": "display_data",
          "data": {
            "image/png": "[encoded data removed]",
            "text/plain": [
              "<Figure size 432x288 with 1 Axes>"
            ]
          },
          "metadata": {
            "tags": []
          }
        }
      ]
    },
    {
      "cell_type": "code",
      "metadata": {
        "id": "XE5fdsSEYZ15",
        "colab_type": "code",
        "colab": {}
      },
      "source": [
        ""
      ],
      "execution_count": 0,
      "outputs": []
    }
  ]
}