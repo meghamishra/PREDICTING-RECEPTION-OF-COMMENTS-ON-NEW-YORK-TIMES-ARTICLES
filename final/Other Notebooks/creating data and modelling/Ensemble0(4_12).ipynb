{
 "cells": [
  {
   "cell_type": "code",
   "execution_count": null,
   "metadata": {
    "colab_type": "text",
    "id": "laGTwCAxUEbZ"
   },
   "outputs": [],
   "source": []
  },
  {
   "cell_type": "code",
   "execution_count": 0,
   "metadata": {
    "colab": {},
    "colab_type": "code",
    "id": "kUfupOtolMaZ"
   },
   "outputs": [],
   "source": [
    "import pandas as pd\n",
    "import numpy as np\n",
    "import glob\n",
    "pd.set_option('display.max_columns',500)\n",
    "pd.set_option('display.max_rows',1000)\n",
    "\n",
    "# from textblob import TextBlob\n",
    "\n",
    "import warnings \n",
    "warnings.filterwarnings('ignore')\n",
    "\n",
    "import matplotlib as mpl\n",
    "import matplotlib.pyplot as plt\n",
    "import seaborn as sns\n",
    "from bs4 import BeautifulSoup\n",
    "import urllib.request\n",
    "import re\n",
    "import csv\n",
    "\n",
    "import matplotlib.pyplot as plt\n",
    "from sklearn.svm import SVR\n",
    "from sklearn.linear_model import LinearRegression\n",
    "from sklearn.metrics import mean_squared_error, r2_score\n",
    "from sklearn.preprocessing import PolynomialFeatures\n",
    "from sklearn.model_selection import KFold\n",
    "from sklearn.model_selection import train_test_split\n",
    "from sklearn.metrics import mean_absolute_error\n",
    "import warnings\n",
    "warnings.filterwarnings(\"ignore\")\n",
    "\n",
    "import re\n",
    "import numpy as np\n",
    "import pandas as pd\n",
    "from pprint import pprint\n",
    "\n",
    "# Gensim\n",
    "import gensim\n",
    "import gensim.corpora as corpora\n",
    "from gensim.utils import simple_preprocess\n",
    "from gensim.models import CoherenceModel\n",
    "\n",
    "# spacy for lemmatization\n",
    "import spacy\n",
    "\n",
    "# Plotting tools\n",
    "\n",
    "# Enable logging for gensim - optional\n",
    "import logging\n",
    "logging.basicConfig(format='%(asctime)s : %(levelname)s : %(message)s', level=logging.ERROR)\n",
    "\n",
    "import warnings\n",
    "warnings.filterwarnings(\"ignore\",category=DeprecationWarning)\n",
    "from sklearn.ensemble import RandomForestRegressor,RandomForestClassifier\n",
    "from sklearn.ensemble import AdaBoostRegressor\n",
    "from sklearn.tree import DecisionTreeClassifier\n",
    "from sklearn.metrics import mean_absolute_error\n",
    "from sklearn.neighbors import KNeighborsClassifier"
   ]
  },
  {
   "cell_type": "code",
   "execution_count": 2,
   "metadata": {
    "colab": {
     "base_uri": "https://localhost:8080/",
     "height": 130
    },
    "colab_type": "code",
    "id": "OAXnNl0ZlSZ-",
    "outputId": "ddabafe9-b0e4-4533-fd4f-a2ab06468b68"
   },
   "outputs": [
    {
     "name": "stdout",
     "output_type": "stream",
     "text": [
      "Go to this URL in a browser: https://accounts.google.com/o/oauth2/auth?client_id=947318989803-6bn6qk8qdgf4n4g3pfee6491hc0brc4i.apps.googleusercontent.com&redirect_uri=urn%3aietf%3awg%3aoauth%3a2.0%3aoob&response_type=code&scope=email%20https%3a%2f%2fwww.googleapis.com%2fauth%2fdocs.test%20https%3a%2f%2fwww.googleapis.com%2fauth%2fdrive%20https%3a%2f%2fwww.googleapis.com%2fauth%2fdrive.photos.readonly%20https%3a%2f%2fwww.googleapis.com%2fauth%2fpeopleapi.readonly\n",
      "\n",
      "Enter your authorization code:\n",
      "··········\n",
      "Mounted at /content/gdrive\n"
     ]
    }
   ],
   "source": [
    "from google.colab import drive\n",
    "drive.mount('/content/gdrive')"
   ]
  },
  {
   "cell_type": "code",
   "execution_count": 0,
   "metadata": {
    "colab": {},
    "colab_type": "code",
    "id": "8jNj6dZZlUTL"
   },
   "outputs": [],
   "source": [
    "df_tr=pd.read_csv(\"gdrive/My Drive/520_proj/preFinal/Final/CIS_520_PROJECT_DATA/TRAIN_4_12.csv\")\n",
    "df_te=pd.read_csv(\"gdrive/My Drive/520_proj/preFinal/Final/CIS_520_PROJECT_DATA/TEST_7_12.csv\")"
   ]
  },
  {
   "cell_type": "code",
   "execution_count": 0,
   "metadata": {
    "colab": {},
    "colab_type": "code",
    "id": "0uSaTz7rMhBR"
   },
   "outputs": [],
   "source": [
    "df_val=pd.read_csv(\"gdrive/My Drive/520_proj/preFinal/Final/CIS_520_PROJECT_DATA/VAL_7_12.csv\")"
   ]
  },
  {
   "cell_type": "code",
   "execution_count": 88,
   "metadata": {
    "colab": {
     "base_uri": "https://localhost:8080/",
     "height": 36
    },
    "colab_type": "code",
    "id": "QhVkh167MhJT",
    "outputId": "710d610e-3985-4fb1-cc09-191b34578d6f"
   },
   "outputs": [
    {
     "data": {
      "text/plain": [
       "((144227, 66), (30243, 66), (20162, 66))"
      ]
     },
     "execution_count": 88,
     "metadata": {
      "tags": []
     },
     "output_type": "execute_result"
    }
   ],
   "source": [
    "df_tr.shape, df_te.shape, df_val.shape"
   ]
  },
  {
   "cell_type": "code",
   "execution_count": 0,
   "metadata": {
    "colab": {},
    "colab_type": "code",
    "id": "j3b7ugV0mDOU"
   },
   "outputs": [],
   "source": [
    "X = df_tr.drop(['commentID','articleID','recommendations'],axis=1)\n",
    "X_test = df_te.drop(['commentID','articleID','recommendations'],axis=1)\n",
    "y = df_tr['recommendations']\n",
    "y_test = df_te['recommendations']"
   ]
  },
  {
   "cell_type": "code",
   "execution_count": 0,
   "metadata": {
    "colab": {},
    "colab_type": "code",
    "id": "uO9BZpqwbBXN"
   },
   "outputs": [],
   "source": [
    "X_val= df_val.drop(['commentID','articleID','recommendations'],axis=1)\n",
    "y_val=df_val['recommendations']"
   ]
  },
  {
   "cell_type": "code",
   "execution_count": 0,
   "metadata": {
    "colab": {},
    "colab_type": "code",
    "id": "azYwM1yMmo1K"
   },
   "outputs": [],
   "source": [
    "yc = (y>3)*1\n",
    "yc_test = (y_test>3)*1\n",
    "yc_val=(y_val>3)*1"
   ]
  },
  {
   "cell_type": "code",
   "execution_count": 0,
   "metadata": {
    "colab": {},
    "colab_type": "code",
    "id": "Ud-fNYICqBjG"
   },
   "outputs": [],
   "source": [
    "y = np.log(y+1)\n",
    "y_test = np.log(y_test+1)\n",
    "y_val=np.log(y_val+1)"
   ]
  },
  {
   "cell_type": "code",
   "execution_count": 0,
   "metadata": {
    "colab": {},
    "colab_type": "code",
    "id": "5G-psgQabME5"
   },
   "outputs": [],
   "source": []
  },
  {
   "cell_type": "code",
   "execution_count": 8,
   "metadata": {
    "colab": {
     "base_uri": "https://localhost:8080/",
     "height": 36
    },
    "colab_type": "code",
    "id": "kDecfbvtcWS7",
    "outputId": "4ca54f52-0316-4618-995f-cc17ccc7032d"
   },
   "outputs": [
    {
     "data": {
      "text/plain": [
       "(144227, 63)"
      ]
     },
     "execution_count": 8,
     "metadata": {
      "tags": []
     },
     "output_type": "execute_result"
    }
   ],
   "source": [
    "X.shape"
   ]
  },
  {
   "cell_type": "code",
   "execution_count": 0,
   "metadata": {
    "colab": {},
    "colab_type": "code",
    "id": "QoFRxFNIMpgS"
   },
   "outputs": [],
   "source": [
    "# from sklearn.decomposition import FastICA\n",
    "# transformer = FastICA(n_components=20,random_state=0)\n",
    "# X_transformed = transformer.fit_transform(X)\n",
    "# X_transformed.shape\n",
    "# X_test_transformed = transformer.fit_transform(X_trest)"
   ]
  },
  {
   "cell_type": "code",
   "execution_count": 0,
   "metadata": {
    "colab": {},
    "colab_type": "code",
    "id": "G33-oEa7dEE2"
   },
   "outputs": [],
   "source": [
    "# mean_absolute_error(y_pred,y_test)\n",
    "X_rooted = X.copy()\n",
    "X_test_rooted = X_test.copy()\n",
    "X_val_rooted=X_val.copy()"
   ]
  },
  {
   "cell_type": "code",
   "execution_count": 64,
   "metadata": {
    "colab": {
     "base_uri": "https://localhost:8080/",
     "height": 36
    },
    "colab_type": "code",
    "id": "HKhhLs8gif2Y",
    "outputId": "2a8d6373-0999-4f20-f61c-2aab12aa087f"
   },
   "outputs": [
    {
     "data": {
      "text/plain": [
       "0"
      ]
     },
     "execution_count": 64,
     "metadata": {
      "tags": []
     },
     "output_type": "execute_result"
    }
   ],
   "source": [
    "X.createDate.isna().sum()"
   ]
  },
  {
   "cell_type": "code",
   "execution_count": 0,
   "metadata": {
    "colab": {},
    "colab_type": "code",
    "id": "afKdKh0pgcJW"
   },
   "outputs": [],
   "source": [
    "X_rooted[['createDate', 'articleWordCount','replyCount', 'userIDRC','ratio_comment_article','word_count']] = np.sqrt(X[['createDate', 'articleWordCount','replyCount', 'userIDRC','ratio_comment_article','word_count']])\n",
    "X_test_rooted[['createDate', 'articleWordCount','replyCount', 'userIDRC','ratio_comment_article','word_count']] = np.sqrt(X_test[['createDate', 'articleWordCount','replyCount', 'userIDRC','ratio_comment_article','word_count']])\n",
    "\n",
    "X_rooted[['createDate', 'articleWordCount','replyCount', 'userIDRC','ratio_comment_article','word_count']]=X_rooted[['createDate', 'articleWordCount','replyCount', 'userIDRC','ratio_comment_article','word_count']].round(3)\n",
    "X_test_rooted[['createDate', 'articleWordCount','replyCount', 'userIDRC','ratio_comment_article','word_count']]=X_test_rooted[['createDate', 'articleWordCount','replyCount', 'userIDRC','ratio_comment_article','word_count']].round(3)\n",
    "\n",
    "X_val_rooted[['createDate', 'articleWordCount','replyCount', 'userIDRC','ratio_comment_article','word_count']] = np.sqrt(X_val_rooted[['createDate', 'articleWordCount','replyCount', 'userIDRC','ratio_comment_article','word_count']])\n",
    "X_val_rooted[['createDate', 'articleWordCount','replyCount', 'userIDRC','ratio_comment_article','word_count']]=X_val_rooted[['createDate', 'articleWordCount','replyCount', 'userIDRC','ratio_comment_article','word_count']].round(3)\n"
   ]
  },
  {
   "cell_type": "code",
   "execution_count": 0,
   "metadata": {
    "colab": {},
    "colab_type": "code",
    "id": "RwaZKQVajHfg"
   },
   "outputs": [],
   "source": [
    "X_test_rooted.fillna(0,inplace=True)\n",
    "X_rooted.fillna(0,inplace=True)\n",
    "\n",
    "X_val_rooted.fillna(0,inplace=True)"
   ]
  },
  {
   "cell_type": "code",
   "execution_count": 0,
   "metadata": {
    "colab": {},
    "colab_type": "code",
    "id": "MEMUhrRmch7-"
   },
   "outputs": [],
   "source": [
    "rfFull = RandomForestRegressor(max_depth=50,max_leaf_nodes=50, n_estimators=70)\n",
    "rfFull.fit(X_rooted,y)\n",
    "y_pred = rfFull.predict(X_test_rooted)"
   ]
  },
  {
   "cell_type": "code",
   "execution_count": 0,
   "metadata": {
    "colab": {},
    "colab_type": "code",
    "id": "vbTKE0gRcrPs"
   },
   "outputs": [],
   "source": [
    "y_val_pred=rfFull.predict(X_val_rooted)"
   ]
  },
  {
   "cell_type": "code",
   "execution_count": 44,
   "metadata": {
    "colab": {
     "base_uri": "https://localhost:8080/",
     "height": 36
    },
    "colab_type": "code",
    "id": "aniwCuSckntv",
    "outputId": "9973764e-6e73-43a5-92fc-d37e3e60df3d"
   },
   "outputs": [
    {
     "data": {
      "text/plain": [
       "0.8944150047859051"
      ]
     },
     "execution_count": 44,
     "metadata": {
      "tags": []
     },
     "output_type": "execute_result"
    }
   ],
   "source": [
    " mean_absolute_error(y_pred,y_test)"
   ]
  },
  {
   "cell_type": "code",
   "execution_count": 45,
   "metadata": {
    "colab": {
     "base_uri": "https://localhost:8080/",
     "height": 36
    },
    "colab_type": "code",
    "id": "Vis7vZSOa0-x",
    "outputId": "6d03fa89-b95f-4611-b7b2-9eb81ca30f4a"
   },
   "outputs": [
    {
     "data": {
      "text/plain": [
       "0.8846518026384373"
      ]
     },
     "execution_count": 45,
     "metadata": {
      "tags": []
     },
     "output_type": "execute_result"
    }
   ],
   "source": [
    " mean_absolute_error(y_val_pred,y_val)"
   ]
  },
  {
   "cell_type": "code",
   "execution_count": 0,
   "metadata": {
    "colab": {},
    "colab_type": "code",
    "id": "cF52hCrsa07Z"
   },
   "outputs": [],
   "source": []
  },
  {
   "cell_type": "code",
   "execution_count": 0,
   "metadata": {
    "colab": {},
    "colab_type": "code",
    "id": "NAENd4D0a04R"
   },
   "outputs": [],
   "source": []
  },
  {
   "cell_type": "code",
   "execution_count": 0,
   "metadata": {
    "colab": {},
    "colab_type": "code",
    "id": "X-fK2ASva00B"
   },
   "outputs": [],
   "source": []
  },
  {
   "cell_type": "code",
   "execution_count": 0,
   "metadata": {
    "colab": {},
    "colab_type": "code",
    "id": "1k-Bzrzka0tZ"
   },
   "outputs": [],
   "source": []
  },
  {
   "cell_type": "code",
   "execution_count": 0,
   "metadata": {
    "colab": {
     "base_uri": "https://localhost:8080/",
     "height": 36
    },
    "colab_type": "code",
    "id": "7GQ6d-_vMpmD",
    "outputId": "9a472b7c-e04e-467f-aac7-a14d6917282b"
   },
   "outputs": [
    {
     "data": {
      "text/plain": [
       "(0.0, 8.240121298076472)"
      ]
     },
     "execution_count": 24,
     "metadata": {
      "tags": []
     },
     "output_type": "execute_result"
    }
   ],
   "source": [
    "# from sklearn.cluster import KMeans\n",
    "# km=KMeans(n_clusters=5000)\n",
    "# km.fit(X)\n",
    "# X_samp=X.sample(50000)\n",
    "# X_samp['target'].min(), X_samp['target'].max()"
   ]
  },
  {
   "cell_type": "code",
   "execution_count": 0,
   "metadata": {
    "colab": {
     "base_uri": "https://localhost:8080/",
     "height": 226
    },
    "colab_type": "code",
    "id": "l9VOQUo0V1k2",
    "outputId": "93f2532b-d119-41ca-f137-4341a42b1883"
   },
   "outputs": [
    {
     "data": {
      "text/html": [
       "<div>\n",
       "<style scoped>\n",
       "    .dataframe tbody tr th:only-of-type {\n",
       "        vertical-align: middle;\n",
       "    }\n",
       "\n",
       "    .dataframe tbody tr th {\n",
       "        vertical-align: top;\n",
       "    }\n",
       "\n",
       "    .dataframe thead th {\n",
       "        text-align: right;\n",
       "    }\n",
       "</style>\n",
       "<table border=\"1\" class=\"dataframe\">\n",
       "  <thead>\n",
       "    <tr style=\"text-align: right;\">\n",
       "      <th></th>\n",
       "      <th>0</th>\n",
       "      <th>1</th>\n",
       "      <th>2</th>\n",
       "      <th>3</th>\n",
       "      <th>4</th>\n",
       "      <th>5</th>\n",
       "      <th>6</th>\n",
       "      <th>7</th>\n",
       "      <th>8</th>\n",
       "      <th>9</th>\n",
       "      <th>10</th>\n",
       "      <th>11</th>\n",
       "      <th>12</th>\n",
       "      <th>13</th>\n",
       "      <th>14</th>\n",
       "      <th>15</th>\n",
       "      <th>16</th>\n",
       "      <th>17</th>\n",
       "      <th>18</th>\n",
       "      <th>19</th>\n",
       "      <th>20</th>\n",
       "      <th>21</th>\n",
       "      <th>22</th>\n",
       "      <th>23</th>\n",
       "      <th>24</th>\n",
       "      <th>25</th>\n",
       "      <th>26</th>\n",
       "      <th>27</th>\n",
       "      <th>28</th>\n",
       "      <th>29</th>\n",
       "      <th>createDate</th>\n",
       "      <th>articleWordCount</th>\n",
       "      <th>depth</th>\n",
       "      <th>replyCount</th>\n",
       "      <th>userIDRC</th>\n",
       "      <th>editorsSelection</th>\n",
       "      <th>ratio_comment_article</th>\n",
       "      <th>word_count</th>\n",
       "      <th>comment</th>\n",
       "      <th>reporterReply</th>\n",
       "      <th>userReply</th>\n",
       "      <th>0_LDA</th>\n",
       "      <th>1_LDA</th>\n",
       "      <th>2_LDA</th>\n",
       "      <th>3_LDA</th>\n",
       "      <th>4_LDA</th>\n",
       "      <th>5_LDA</th>\n",
       "      <th>6_LDA</th>\n",
       "      <th>7_LDA</th>\n",
       "      <th>8_LDA</th>\n",
       "      <th>9_LDA</th>\n",
       "      <th>10_LDA</th>\n",
       "      <th>11_LDA</th>\n",
       "      <th>12_LDA</th>\n",
       "      <th>13_LDA</th>\n",
       "      <th>14_LDA</th>\n",
       "      <th>15_LDA</th>\n",
       "      <th>16_LDA</th>\n",
       "      <th>17_LDA</th>\n",
       "      <th>18_LDA</th>\n",
       "      <th>19_LDA</th>\n",
       "      <th>articleRelevance</th>\n",
       "      <th>Sentiment</th>\n",
       "      <th>target</th>\n",
       "    </tr>\n",
       "  </thead>\n",
       "  <tbody>\n",
       "    <tr>\n",
       "      <th>51473</th>\n",
       "      <td>0.084418</td>\n",
       "      <td>-0.015035</td>\n",
       "      <td>-0.003333</td>\n",
       "      <td>0.049840</td>\n",
       "      <td>-0.029438</td>\n",
       "      <td>0.005914</td>\n",
       "      <td>-0.028572</td>\n",
       "      <td>-0.004768</td>\n",
       "      <td>0.018779</td>\n",
       "      <td>0.001380</td>\n",
       "      <td>-0.072324</td>\n",
       "      <td>0.001742</td>\n",
       "      <td>-0.028634</td>\n",
       "      <td>0.013814</td>\n",
       "      <td>0.011944</td>\n",
       "      <td>0.047989</td>\n",
       "      <td>0.034746</td>\n",
       "      <td>0.006744</td>\n",
       "      <td>0.016538</td>\n",
       "      <td>-0.064502</td>\n",
       "      <td>0.004397</td>\n",
       "      <td>0.038750</td>\n",
       "      <td>0.004547</td>\n",
       "      <td>-0.015856</td>\n",
       "      <td>0.068694</td>\n",
       "      <td>0.036835</td>\n",
       "      <td>0.004784</td>\n",
       "      <td>-0.072726</td>\n",
       "      <td>0.017246</td>\n",
       "      <td>0.000108</td>\n",
       "      <td>49526.0</td>\n",
       "      <td>842.0</td>\n",
       "      <td>2.0</td>\n",
       "      <td>0.0</td>\n",
       "      <td>19.000000</td>\n",
       "      <td>0.0</td>\n",
       "      <td>40.839286</td>\n",
       "      <td>178.0</td>\n",
       "      <td>0.0</td>\n",
       "      <td>0.0</td>\n",
       "      <td>1.0</td>\n",
       "      <td>0.000669</td>\n",
       "      <td>0.000334</td>\n",
       "      <td>0.006169</td>\n",
       "      <td>0.000293</td>\n",
       "      <td>0.018427</td>\n",
       "      <td>0.008016</td>\n",
       "      <td>0.000000</td>\n",
       "      <td>0.000176</td>\n",
       "      <td>0.005529</td>\n",
       "      <td>0.000194</td>\n",
       "      <td>0.001719</td>\n",
       "      <td>0.000612</td>\n",
       "      <td>0.001691</td>\n",
       "      <td>0.000000</td>\n",
       "      <td>0.000743</td>\n",
       "      <td>0.001370</td>\n",
       "      <td>0.001379</td>\n",
       "      <td>0.00000</td>\n",
       "      <td>0.000167</td>\n",
       "      <td>0.023796</td>\n",
       "      <td>0.040010</td>\n",
       "      <td>-0.4404</td>\n",
       "      <td>1.386294</td>\n",
       "    </tr>\n",
       "    <tr>\n",
       "      <th>60454</th>\n",
       "      <td>0.131913</td>\n",
       "      <td>-0.034600</td>\n",
       "      <td>-0.055475</td>\n",
       "      <td>0.052752</td>\n",
       "      <td>0.005320</td>\n",
       "      <td>-0.002353</td>\n",
       "      <td>-0.007046</td>\n",
       "      <td>0.021112</td>\n",
       "      <td>0.019100</td>\n",
       "      <td>-0.032582</td>\n",
       "      <td>-0.042987</td>\n",
       "      <td>-0.041778</td>\n",
       "      <td>-0.027952</td>\n",
       "      <td>0.006634</td>\n",
       "      <td>-0.009455</td>\n",
       "      <td>-0.009232</td>\n",
       "      <td>0.013147</td>\n",
       "      <td>-0.025663</td>\n",
       "      <td>0.011389</td>\n",
       "      <td>0.000282</td>\n",
       "      <td>0.005491</td>\n",
       "      <td>-0.027357</td>\n",
       "      <td>-0.039518</td>\n",
       "      <td>0.035334</td>\n",
       "      <td>-0.003540</td>\n",
       "      <td>-0.003687</td>\n",
       "      <td>-0.029831</td>\n",
       "      <td>0.012489</td>\n",
       "      <td>-0.020365</td>\n",
       "      <td>0.002253</td>\n",
       "      <td>41790.0</td>\n",
       "      <td>1468.0</td>\n",
       "      <td>1.0</td>\n",
       "      <td>2.0</td>\n",
       "      <td>9.416667</td>\n",
       "      <td>0.0</td>\n",
       "      <td>118.000000</td>\n",
       "      <td>531.0</td>\n",
       "      <td>1.0</td>\n",
       "      <td>0.0</td>\n",
       "      <td>0.0</td>\n",
       "      <td>0.001398</td>\n",
       "      <td>0.000000</td>\n",
       "      <td>0.009082</td>\n",
       "      <td>0.000844</td>\n",
       "      <td>0.000379</td>\n",
       "      <td>0.077763</td>\n",
       "      <td>0.000000</td>\n",
       "      <td>0.000000</td>\n",
       "      <td>0.002453</td>\n",
       "      <td>0.000000</td>\n",
       "      <td>0.001792</td>\n",
       "      <td>0.000000</td>\n",
       "      <td>0.001510</td>\n",
       "      <td>0.000000</td>\n",
       "      <td>0.000325</td>\n",
       "      <td>0.000148</td>\n",
       "      <td>0.001482</td>\n",
       "      <td>0.00000</td>\n",
       "      <td>0.000000</td>\n",
       "      <td>0.033984</td>\n",
       "      <td>0.000105</td>\n",
       "      <td>0.5411</td>\n",
       "      <td>2.890372</td>\n",
       "    </tr>\n",
       "    <tr>\n",
       "      <th>54813</th>\n",
       "      <td>0.074245</td>\n",
       "      <td>0.020220</td>\n",
       "      <td>-0.030855</td>\n",
       "      <td>0.004799</td>\n",
       "      <td>0.002452</td>\n",
       "      <td>-0.019967</td>\n",
       "      <td>0.027992</td>\n",
       "      <td>-0.020436</td>\n",
       "      <td>-0.045067</td>\n",
       "      <td>0.049386</td>\n",
       "      <td>0.001337</td>\n",
       "      <td>0.008109</td>\n",
       "      <td>-0.020127</td>\n",
       "      <td>-0.030073</td>\n",
       "      <td>0.021913</td>\n",
       "      <td>0.026632</td>\n",
       "      <td>-0.010369</td>\n",
       "      <td>0.035935</td>\n",
       "      <td>-0.017463</td>\n",
       "      <td>0.007477</td>\n",
       "      <td>0.003087</td>\n",
       "      <td>0.022502</td>\n",
       "      <td>-0.008421</td>\n",
       "      <td>0.006126</td>\n",
       "      <td>-0.004921</td>\n",
       "      <td>-0.014577</td>\n",
       "      <td>-0.033934</td>\n",
       "      <td>-0.006300</td>\n",
       "      <td>-0.031879</td>\n",
       "      <td>0.006417</td>\n",
       "      <td>40831.0</td>\n",
       "      <td>5133.0</td>\n",
       "      <td>2.0</td>\n",
       "      <td>0.0</td>\n",
       "      <td>9.608696</td>\n",
       "      <td>0.0</td>\n",
       "      <td>14.250000</td>\n",
       "      <td>204.0</td>\n",
       "      <td>0.0</td>\n",
       "      <td>0.0</td>\n",
       "      <td>1.0</td>\n",
       "      <td>0.000151</td>\n",
       "      <td>0.000252</td>\n",
       "      <td>0.005702</td>\n",
       "      <td>0.002469</td>\n",
       "      <td>0.000843</td>\n",
       "      <td>0.000435</td>\n",
       "      <td>0.000000</td>\n",
       "      <td>0.001354</td>\n",
       "      <td>0.004531</td>\n",
       "      <td>0.000408</td>\n",
       "      <td>0.000391</td>\n",
       "      <td>0.000184</td>\n",
       "      <td>0.001325</td>\n",
       "      <td>0.002399</td>\n",
       "      <td>0.004284</td>\n",
       "      <td>0.003409</td>\n",
       "      <td>0.009174</td>\n",
       "      <td>0.00034</td>\n",
       "      <td>0.002301</td>\n",
       "      <td>0.010251</td>\n",
       "      <td>0.029021</td>\n",
       "      <td>-0.5717</td>\n",
       "      <td>1.098612</td>\n",
       "    </tr>\n",
       "    <tr>\n",
       "      <th>4229</th>\n",
       "      <td>0.173560</td>\n",
       "      <td>-0.065690</td>\n",
       "      <td>-0.088535</td>\n",
       "      <td>0.052050</td>\n",
       "      <td>0.007092</td>\n",
       "      <td>0.011104</td>\n",
       "      <td>0.013714</td>\n",
       "      <td>0.016643</td>\n",
       "      <td>0.001245</td>\n",
       "      <td>-0.034825</td>\n",
       "      <td>0.062887</td>\n",
       "      <td>0.044359</td>\n",
       "      <td>-0.019530</td>\n",
       "      <td>-0.037720</td>\n",
       "      <td>0.069439</td>\n",
       "      <td>-0.050760</td>\n",
       "      <td>-0.016551</td>\n",
       "      <td>-0.008448</td>\n",
       "      <td>0.000447</td>\n",
       "      <td>0.021731</td>\n",
       "      <td>0.063760</td>\n",
       "      <td>-0.010357</td>\n",
       "      <td>-0.026902</td>\n",
       "      <td>0.010278</td>\n",
       "      <td>-0.035247</td>\n",
       "      <td>-0.022661</td>\n",
       "      <td>0.097955</td>\n",
       "      <td>-0.013814</td>\n",
       "      <td>0.024867</td>\n",
       "      <td>-0.041062</td>\n",
       "      <td>50291.0</td>\n",
       "      <td>884.0</td>\n",
       "      <td>1.0</td>\n",
       "      <td>0.0</td>\n",
       "      <td>18.500000</td>\n",
       "      <td>0.0</td>\n",
       "      <td>63.333333</td>\n",
       "      <td>1209.0</td>\n",
       "      <td>1.0</td>\n",
       "      <td>0.0</td>\n",
       "      <td>0.0</td>\n",
       "      <td>0.001590</td>\n",
       "      <td>0.000000</td>\n",
       "      <td>0.003397</td>\n",
       "      <td>0.006347</td>\n",
       "      <td>0.000000</td>\n",
       "      <td>0.015255</td>\n",
       "      <td>0.005167</td>\n",
       "      <td>0.000000</td>\n",
       "      <td>0.000946</td>\n",
       "      <td>0.000000</td>\n",
       "      <td>0.000000</td>\n",
       "      <td>0.000000</td>\n",
       "      <td>0.016545</td>\n",
       "      <td>0.000000</td>\n",
       "      <td>0.001538</td>\n",
       "      <td>0.000000</td>\n",
       "      <td>0.000000</td>\n",
       "      <td>0.00000</td>\n",
       "      <td>0.000000</td>\n",
       "      <td>0.042427</td>\n",
       "      <td>0.031529</td>\n",
       "      <td>0.7305</td>\n",
       "      <td>1.609438</td>\n",
       "    </tr>\n",
       "    <tr>\n",
       "      <th>22370</th>\n",
       "      <td>0.182046</td>\n",
       "      <td>-0.024850</td>\n",
       "      <td>-0.055284</td>\n",
       "      <td>0.043114</td>\n",
       "      <td>0.003608</td>\n",
       "      <td>0.028408</td>\n",
       "      <td>0.007965</td>\n",
       "      <td>0.035307</td>\n",
       "      <td>0.028570</td>\n",
       "      <td>0.047089</td>\n",
       "      <td>0.043297</td>\n",
       "      <td>-0.073467</td>\n",
       "      <td>0.047220</td>\n",
       "      <td>-0.053531</td>\n",
       "      <td>0.059081</td>\n",
       "      <td>0.033109</td>\n",
       "      <td>0.011198</td>\n",
       "      <td>-0.028556</td>\n",
       "      <td>0.028733</td>\n",
       "      <td>-0.000484</td>\n",
       "      <td>0.005983</td>\n",
       "      <td>-0.026303</td>\n",
       "      <td>-0.047079</td>\n",
       "      <td>-0.028300</td>\n",
       "      <td>-0.095804</td>\n",
       "      <td>-0.004792</td>\n",
       "      <td>-0.031573</td>\n",
       "      <td>-0.076527</td>\n",
       "      <td>0.012352</td>\n",
       "      <td>-0.077765</td>\n",
       "      <td>22514.0</td>\n",
       "      <td>882.0</td>\n",
       "      <td>1.0</td>\n",
       "      <td>0.0</td>\n",
       "      <td>7.000000</td>\n",
       "      <td>0.0</td>\n",
       "      <td>41.243243</td>\n",
       "      <td>582.0</td>\n",
       "      <td>1.0</td>\n",
       "      <td>0.0</td>\n",
       "      <td>0.0</td>\n",
       "      <td>0.000000</td>\n",
       "      <td>0.000000</td>\n",
       "      <td>0.009462</td>\n",
       "      <td>0.000000</td>\n",
       "      <td>0.000367</td>\n",
       "      <td>0.015110</td>\n",
       "      <td>0.000000</td>\n",
       "      <td>0.000000</td>\n",
       "      <td>0.009065</td>\n",
       "      <td>0.000466</td>\n",
       "      <td>0.000338</td>\n",
       "      <td>0.000000</td>\n",
       "      <td>0.001137</td>\n",
       "      <td>0.000000</td>\n",
       "      <td>0.000000</td>\n",
       "      <td>0.000000</td>\n",
       "      <td>0.006862</td>\n",
       "      <td>0.00000</td>\n",
       "      <td>0.001047</td>\n",
       "      <td>0.078621</td>\n",
       "      <td>0.033384</td>\n",
       "      <td>0.8687</td>\n",
       "      <td>0.000000</td>\n",
       "    </tr>\n",
       "  </tbody>\n",
       "</table>\n",
       "</div>"
      ],
      "text/plain": [
       "              0         1         2         3         4         5         6  \\\n",
       "51473  0.084418 -0.015035 -0.003333  0.049840 -0.029438  0.005914 -0.028572   \n",
       "60454  0.131913 -0.034600 -0.055475  0.052752  0.005320 -0.002353 -0.007046   \n",
       "54813  0.074245  0.020220 -0.030855  0.004799  0.002452 -0.019967  0.027992   \n",
       "4229   0.173560 -0.065690 -0.088535  0.052050  0.007092  0.011104  0.013714   \n",
       "22370  0.182046 -0.024850 -0.055284  0.043114  0.003608  0.028408  0.007965   \n",
       "\n",
       "              7         8         9        10        11        12        13  \\\n",
       "51473 -0.004768  0.018779  0.001380 -0.072324  0.001742 -0.028634  0.013814   \n",
       "60454  0.021112  0.019100 -0.032582 -0.042987 -0.041778 -0.027952  0.006634   \n",
       "54813 -0.020436 -0.045067  0.049386  0.001337  0.008109 -0.020127 -0.030073   \n",
       "4229   0.016643  0.001245 -0.034825  0.062887  0.044359 -0.019530 -0.037720   \n",
       "22370  0.035307  0.028570  0.047089  0.043297 -0.073467  0.047220 -0.053531   \n",
       "\n",
       "             14        15        16        17        18        19        20  \\\n",
       "51473  0.011944  0.047989  0.034746  0.006744  0.016538 -0.064502  0.004397   \n",
       "60454 -0.009455 -0.009232  0.013147 -0.025663  0.011389  0.000282  0.005491   \n",
       "54813  0.021913  0.026632 -0.010369  0.035935 -0.017463  0.007477  0.003087   \n",
       "4229   0.069439 -0.050760 -0.016551 -0.008448  0.000447  0.021731  0.063760   \n",
       "22370  0.059081  0.033109  0.011198 -0.028556  0.028733 -0.000484  0.005983   \n",
       "\n",
       "             21        22        23        24        25        26        27  \\\n",
       "51473  0.038750  0.004547 -0.015856  0.068694  0.036835  0.004784 -0.072726   \n",
       "60454 -0.027357 -0.039518  0.035334 -0.003540 -0.003687 -0.029831  0.012489   \n",
       "54813  0.022502 -0.008421  0.006126 -0.004921 -0.014577 -0.033934 -0.006300   \n",
       "4229  -0.010357 -0.026902  0.010278 -0.035247 -0.022661  0.097955 -0.013814   \n",
       "22370 -0.026303 -0.047079 -0.028300 -0.095804 -0.004792 -0.031573 -0.076527   \n",
       "\n",
       "             28        29  createDate  articleWordCount  depth  replyCount  \\\n",
       "51473  0.017246  0.000108     49526.0             842.0    2.0         0.0   \n",
       "60454 -0.020365  0.002253     41790.0            1468.0    1.0         2.0   \n",
       "54813 -0.031879  0.006417     40831.0            5133.0    2.0         0.0   \n",
       "4229   0.024867 -0.041062     50291.0             884.0    1.0         0.0   \n",
       "22370  0.012352 -0.077765     22514.0             882.0    1.0         0.0   \n",
       "\n",
       "        userIDRC  editorsSelection  ratio_comment_article  word_count  \\\n",
       "51473  19.000000               0.0              40.839286       178.0   \n",
       "60454   9.416667               0.0             118.000000       531.0   \n",
       "54813   9.608696               0.0              14.250000       204.0   \n",
       "4229   18.500000               0.0              63.333333      1209.0   \n",
       "22370   7.000000               0.0              41.243243       582.0   \n",
       "\n",
       "       comment  reporterReply  userReply     0_LDA     1_LDA     2_LDA  \\\n",
       "51473      0.0            0.0        1.0  0.000669  0.000334  0.006169   \n",
       "60454      1.0            0.0        0.0  0.001398  0.000000  0.009082   \n",
       "54813      0.0            0.0        1.0  0.000151  0.000252  0.005702   \n",
       "4229       1.0            0.0        0.0  0.001590  0.000000  0.003397   \n",
       "22370      1.0            0.0        0.0  0.000000  0.000000  0.009462   \n",
       "\n",
       "          3_LDA     4_LDA     5_LDA     6_LDA     7_LDA     8_LDA     9_LDA  \\\n",
       "51473  0.000293  0.018427  0.008016  0.000000  0.000176  0.005529  0.000194   \n",
       "60454  0.000844  0.000379  0.077763  0.000000  0.000000  0.002453  0.000000   \n",
       "54813  0.002469  0.000843  0.000435  0.000000  0.001354  0.004531  0.000408   \n",
       "4229   0.006347  0.000000  0.015255  0.005167  0.000000  0.000946  0.000000   \n",
       "22370  0.000000  0.000367  0.015110  0.000000  0.000000  0.009065  0.000466   \n",
       "\n",
       "         10_LDA    11_LDA    12_LDA    13_LDA    14_LDA    15_LDA    16_LDA  \\\n",
       "51473  0.001719  0.000612  0.001691  0.000000  0.000743  0.001370  0.001379   \n",
       "60454  0.001792  0.000000  0.001510  0.000000  0.000325  0.000148  0.001482   \n",
       "54813  0.000391  0.000184  0.001325  0.002399  0.004284  0.003409  0.009174   \n",
       "4229   0.000000  0.000000  0.016545  0.000000  0.001538  0.000000  0.000000   \n",
       "22370  0.000338  0.000000  0.001137  0.000000  0.000000  0.000000  0.006862   \n",
       "\n",
       "        17_LDA    18_LDA    19_LDA  articleRelevance  Sentiment    target  \n",
       "51473  0.00000  0.000167  0.023796          0.040010    -0.4404  1.386294  \n",
       "60454  0.00000  0.000000  0.033984          0.000105     0.5411  2.890372  \n",
       "54813  0.00034  0.002301  0.010251          0.029021    -0.5717  1.098612  \n",
       "4229   0.00000  0.000000  0.042427          0.031529     0.7305  1.609438  \n",
       "22370  0.00000  0.001047  0.078621          0.033384     0.8687  0.000000  "
      ]
     },
     "execution_count": 25,
     "metadata": {
      "tags": []
     },
     "output_type": "execute_result"
    }
   ],
   "source": [
    "# X_samp.head()"
   ]
  },
  {
   "cell_type": "code",
   "execution_count": 0,
   "metadata": {
    "colab": {},
    "colab_type": "code",
    "id": "s9ML0qw7Mpsp"
   },
   "outputs": [],
   "source": [
    "\n",
    "# y_samp= X_samp['target']\n",
    "# X_samp=X_samp.drop(['target'],axis=1)\n",
    "\n",
    "# svr=SVR()\n",
    "# svr.fit(X_samp,y_samp)"
   ]
  },
  {
   "cell_type": "code",
   "execution_count": 0,
   "metadata": {
    "colab": {
     "base_uri": "https://localhost:8080/",
     "height": 36
    },
    "colab_type": "code",
    "id": "6497PlYEVg-t",
    "outputId": "01996e76-d988-4fce-97f7-130c146184f8"
   },
   "outputs": [
    {
     "data": {
      "text/plain": [
       "1.0357954319075815"
      ]
     },
     "execution_count": 23,
     "metadata": {
      "tags": []
     },
     "output_type": "execute_result"
    }
   ],
   "source": [
    "# yp=svr.predict(X_test)\n",
    "# mean_absolute_error(yp,y_test)\n",
    "\n"
   ]
  },
  {
   "cell_type": "code",
   "execution_count": 68,
   "metadata": {
    "colab": {
     "base_uri": "https://localhost:8080/",
     "height": 148
    },
    "colab_type": "code",
    "id": "jtsm8zjYl3Px",
    "outputId": "76209a63-a5d6-40b9-fc77-05fd269dfb4c"
   },
   "outputs": [
    {
     "data": {
      "text/plain": [
       "RandomForestClassifier(bootstrap=True, class_weight=None, criterion='gini',\n",
       "                       max_depth=30, max_features='auto', max_leaf_nodes=30,\n",
       "                       min_impurity_decrease=0.0, min_impurity_split=None,\n",
       "                       min_samples_leaf=1, min_samples_split=2,\n",
       "                       min_weight_fraction_leaf=0.0, n_estimators=50,\n",
       "                       n_jobs=None, oob_score=False, random_state=None,\n",
       "                       verbose=0, warm_start=False)"
      ]
     },
     "execution_count": 68,
     "metadata": {
      "tags": []
     },
     "output_type": "execute_result"
    }
   ],
   "source": [
    "\n",
    "# y_tr=np.log(y_tr)\n",
    "# y_te=np.log(y_te)\n",
    "rf = DecisionTreeClassifier(max_depth=10,max_leaf_nodes=20)\n",
    "rf=RandomForestClassifier(max_depth=30, max_leaf_nodes=30,n_estimators=50)\n",
    "# rf=KNeighborsClassifier(n_neighbors=20)\n",
    "rf.fit(X,yc)\n"
   ]
  },
  {
   "cell_type": "code",
   "execution_count": 0,
   "metadata": {
    "colab": {},
    "colab_type": "code",
    "id": "Ge7JD4-omBSd"
   },
   "outputs": [],
   "source": [
    "X['classified']=rf.predict(X)\n",
    "X_test['classified']=rf.predict(X_test)"
   ]
  },
  {
   "cell_type": "code",
   "execution_count": 0,
   "metadata": {
    "colab": {},
    "colab_type": "code",
    "id": "FeQZVzYZeD9k"
   },
   "outputs": [],
   "source": [
    "X_val['classified']=rf.predict(X_val)"
   ]
  },
  {
   "cell_type": "code",
   "execution_count": 0,
   "metadata": {
    "colab": {},
    "colab_type": "code",
    "id": "meH2_9uXib6o"
   },
   "outputs": [],
   "source": []
  },
  {
   "cell_type": "code",
   "execution_count": 0,
   "metadata": {
    "colab": {},
    "colab_type": "code",
    "id": "x8YwrOQ0nEf0"
   },
   "outputs": [],
   "source": [
    "X1 = X[X['classified']==1]\n",
    "X0 = X[X['classified']==0]\n",
    "X1_test = X_test[X_test['classified']==1]\n",
    "X0_test = X_test[X_test['classified']==0]\n",
    "y1 = y[X['classified']==1]\n",
    "y0 = y[X['classified']==0]\n",
    "y1_test = y_test[X_test['classified']==1]\n",
    "y0_test = y_test[X_test['classified']==0]"
   ]
  },
  {
   "cell_type": "code",
   "execution_count": 0,
   "metadata": {
    "colab": {},
    "colab_type": "code",
    "id": "WZj0PhfVejLv"
   },
   "outputs": [],
   "source": [
    "X1_val = X_val[X_val['classified']==1]\n",
    "X0_val = X_val[X_val['classified']==0]\n",
    "y1_val = y_val[X_val['classified']==1]\n",
    "y0_val = y_val[X_val['classified']==0]\n"
   ]
  },
  {
   "cell_type": "code",
   "execution_count": 74,
   "metadata": {
    "colab": {
     "base_uri": "https://localhost:8080/",
     "height": 148
    },
    "colab_type": "code",
    "id": "GwZ105n-nZsV",
    "outputId": "2bce3f7b-6b11-447b-f7a1-082550526627"
   },
   "outputs": [
    {
     "data": {
      "text/plain": [
       "RandomForestRegressor(bootstrap=True, criterion='mse', max_depth=None,\n",
       "                      max_features='auto', max_leaf_nodes=None,\n",
       "                      min_impurity_decrease=0.0, min_impurity_split=None,\n",
       "                      min_samples_leaf=1, min_samples_split=2,\n",
       "                      min_weight_fraction_leaf=0.0, n_estimators=10,\n",
       "                      n_jobs=None, oob_score=False, random_state=None,\n",
       "                      verbose=0, warm_start=False)"
      ]
     },
     "execution_count": 74,
     "metadata": {
      "tags": []
     },
     "output_type": "execute_result"
    }
   ],
   "source": [
    "rfr1 = RandomForestRegressor()\n",
    "rfr1.fit(X1,y1)"
   ]
  },
  {
   "cell_type": "code",
   "execution_count": 0,
   "metadata": {
    "colab": {},
    "colab_type": "code",
    "id": "qlDS0uGkqZjE"
   },
   "outputs": [],
   "source": [
    "y1_pred = rfr1.predict(X1_test)"
   ]
  },
  {
   "cell_type": "code",
   "execution_count": 0,
   "metadata": {
    "colab": {},
    "colab_type": "code",
    "id": "TvP3Yu7gfDyg"
   },
   "outputs": [],
   "source": [
    "y1_val_pred=rfr1.predict(X1_val)"
   ]
  },
  {
   "cell_type": "code",
   "execution_count": 0,
   "metadata": {
    "colab": {},
    "colab_type": "code",
    "id": "5b21gyWbqpAB"
   },
   "outputs": [],
   "source": [
    "mae1 = mean_absolute_error(y1_pred,y1_test)"
   ]
  },
  {
   "cell_type": "code",
   "execution_count": 0,
   "metadata": {
    "colab": {},
    "colab_type": "code",
    "id": "fcCXobEsfIrj"
   },
   "outputs": [],
   "source": [
    "mae1_val = mean_absolute_error(y1_val_pred,y1_val)"
   ]
  },
  {
   "cell_type": "code",
   "execution_count": 0,
   "metadata": {
    "colab": {},
    "colab_type": "code",
    "id": "C6Irt4Z-fOM5"
   },
   "outputs": [],
   "source": []
  },
  {
   "cell_type": "code",
   "execution_count": 0,
   "metadata": {
    "colab": {},
    "colab_type": "code",
    "id": "jZmVF8WRfOIl"
   },
   "outputs": [],
   "source": []
  },
  {
   "cell_type": "code",
   "execution_count": 79,
   "metadata": {
    "colab": {
     "base_uri": "https://localhost:8080/",
     "height": 148
    },
    "colab_type": "code",
    "id": "U9MWqgZvqw9S",
    "outputId": "71f2a182-eb21-4090-f606-fb768eb8298b"
   },
   "outputs": [
    {
     "data": {
      "text/plain": [
       "RandomForestRegressor(bootstrap=True, criterion='mse', max_depth=None,\n",
       "                      max_features='auto', max_leaf_nodes=None,\n",
       "                      min_impurity_decrease=0.0, min_impurity_split=None,\n",
       "                      min_samples_leaf=1, min_samples_split=2,\n",
       "                      min_weight_fraction_leaf=0.0, n_estimators=10,\n",
       "                      n_jobs=None, oob_score=False, random_state=None,\n",
       "                      verbose=0, warm_start=False)"
      ]
     },
     "execution_count": 79,
     "metadata": {
      "tags": []
     },
     "output_type": "execute_result"
    }
   ],
   "source": [
    "rfr0 = RandomForestRegressor()\n",
    "rfr0.fit(X0,y0)"
   ]
  },
  {
   "cell_type": "code",
   "execution_count": 0,
   "metadata": {
    "colab": {},
    "colab_type": "code",
    "id": "gHzsVu3arDIS"
   },
   "outputs": [],
   "source": [
    "y0_pred = rfr0.predict(X0_test)\n",
    "mae0 = mean_absolute_error(y0_pred,y0_test)"
   ]
  },
  {
   "cell_type": "code",
   "execution_count": 0,
   "metadata": {
    "colab": {},
    "colab_type": "code",
    "id": "4QQOLP8ofP2h"
   },
   "outputs": [],
   "source": [
    "y0_pred_val = rfr0.predict(X0_val)\n",
    "mae0_val = mean_absolute_error(y0_pred_val,y0_val)"
   ]
  },
  {
   "cell_type": "code",
   "execution_count": 0,
   "metadata": {
    "colab": {},
    "colab_type": "code",
    "id": "07oXbB2GfXA7"
   },
   "outputs": [],
   "source": []
  },
  {
   "cell_type": "code",
   "execution_count": 104,
   "metadata": {
    "colab": {
     "base_uri": "https://localhost:8080/",
     "height": 92
    },
    "colab_type": "code",
    "id": "z_KHpherrM83",
    "outputId": "9baff031-a8b2-4e99-ab1e-ef1735516c38"
   },
   "outputs": [
    {
     "data": {
      "text/plain": [
       "(0.9902657405874161,\n",
       " 0.7353482458704094,\n",
       " 0.7413826583075123,\n",
       " 0.9734953365842164)"
      ]
     },
     "execution_count": 104,
     "metadata": {
      "tags": []
     },
     "output_type": "execute_result"
    }
   ],
   "source": [
    "mae1,mae0, mae0_val,mae1_val"
   ]
  },
  {
   "cell_type": "code",
   "execution_count": 105,
   "metadata": {
    "colab": {
     "base_uri": "https://localhost:8080/",
     "height": 36
    },
    "colab_type": "code",
    "id": "fudDjzrZs5Fo",
    "outputId": "d962c459-f52e-432f-c61d-89e717105e3d"
   },
   "outputs": [
    {
     "data": {
      "text/plain": [
       "0.9131490471652722"
      ]
     },
     "execution_count": 105,
     "metadata": {
      "tags": []
     },
     "output_type": "execute_result"
    }
   ],
   "source": [
    "mae_net = (y1_test.shape[0]*mae1 + y0_test.shape[0]*mae0)/(y1_test.shape[0] + y0_test.shape[0])\n",
    "mae_net"
   ]
  },
  {
   "cell_type": "code",
   "execution_count": 106,
   "metadata": {
    "colab": {
     "base_uri": "https://localhost:8080/",
     "height": 36
    },
    "colab_type": "code",
    "id": "gBWgsi0bfbVD",
    "outputId": "ace41dd9-a80b-4b8b-f201-be82cd6dd9fa"
   },
   "outputs": [
    {
     "data": {
      "text/plain": [
       "0.9029819869936593"
      ]
     },
     "execution_count": 106,
     "metadata": {
      "tags": []
     },
     "output_type": "execute_result"
    }
   ],
   "source": [
    "mae_net_val = (y1_val.shape[0]*mae1_val + y0_val.shape[0]*mae0_val)/(y1_val.shape[0] + y0_val.shape[0])\n",
    "mae_net_val"
   ]
  },
  {
   "cell_type": "code",
   "execution_count": 107,
   "metadata": {
    "colab": {
     "base_uri": "https://localhost:8080/",
     "height": 36
    },
    "colab_type": "code",
    "id": "nnhyReScrQx9",
    "outputId": "0ee9682c-6132-4993-c370-08658e9e8551"
   },
   "outputs": [
    {
     "data": {
      "text/plain": [
       "((103795,), (40432,))"
      ]
     },
     "execution_count": 107,
     "metadata": {
      "tags": []
     },
     "output_type": "execute_result"
    }
   ],
   "source": [
    "y1.shape,y0.shape"
   ]
  },
  {
   "cell_type": "code",
   "execution_count": 108,
   "metadata": {
    "colab": {
     "base_uri": "https://localhost:8080/",
     "height": 36
    },
    "colab_type": "code",
    "id": "7NUi4TaCsOpA",
    "outputId": "fd771641-5847-497d-fdf6-fe67bdf66a04"
   },
   "outputs": [
    {
     "data": {
      "text/plain": [
       "1.0423609445633808"
      ]
     },
     "execution_count": 108,
     "metadata": {
      "tags": []
     },
     "output_type": "execute_result"
    }
   ],
   "source": [
    "mean_absolute_error(np.log(4)*np.ones(len(y_test)),y_test)"
   ]
  },
  {
   "cell_type": "code",
   "execution_count": 0,
   "metadata": {
    "colab": {},
    "colab_type": "code",
    "id": "K_S-Oc8xipdq"
   },
   "outputs": [],
   "source": []
  },
  {
   "cell_type": "code",
   "execution_count": 0,
   "metadata": {
    "colab": {},
    "colab_type": "code",
    "id": "fjDX9U4gipak"
   },
   "outputs": [],
   "source": []
  },
  {
   "cell_type": "code",
   "execution_count": 0,
   "metadata": {
    "colab": {},
    "colab_type": "code",
    "id": "ZBKNe_sMipW2"
   },
   "outputs": [],
   "source": []
  },
  {
   "cell_type": "code",
   "execution_count": 0,
   "metadata": {
    "colab": {},
    "colab_type": "code",
    "id": "Mj_YzsTCipTF"
   },
   "outputs": [],
   "source": []
  },
  {
   "cell_type": "code",
   "execution_count": 0,
   "metadata": {
    "colab": {},
    "colab_type": "code",
    "id": "Vei5wUebipQD"
   },
   "outputs": [],
   "source": []
  },
  {
   "cell_type": "code",
   "execution_count": 0,
   "metadata": {
    "colab": {},
    "colab_type": "code",
    "id": "Whjukfc3sds4"
   },
   "outputs": [],
   "source": [
    "# _X = X.drop(['classified'],axis = 1)\n",
    "# _X_test = X_test.drop(['classified'],axis=1)\n",
    "# rfFull = RandomForestRegressor(max_depth=30,max_leaf_nodes=30)\n",
    "# rfFull.fit(_X,y)\n",
    "# _y_pred = rfFull.predict(_X_test)"
   ]
  },
  {
   "cell_type": "code",
   "execution_count": 0,
   "metadata": {
    "colab": {},
    "colab_type": "code",
    "id": "XnGee6nqWTwu"
   },
   "outputs": [],
   "source": [
    "# mae0 = mean_absolute_error(_y_pred,y_test)"
   ]
  },
  {
   "cell_type": "code",
   "execution_count": 0,
   "metadata": {
    "colab": {
     "base_uri": "https://localhost:8080/",
     "height": 34
    },
    "colab_type": "code",
    "id": "jwG6Xo7kYW-1",
    "outputId": "d71b5e67-929d-475c-a653-807dff90ef6e"
   },
   "outputs": [
    {
     "data": {
      "text/plain": [
       "0.8929878871230291"
      ]
     },
     "execution_count": 42,
     "metadata": {
      "tags": []
     },
     "output_type": "execute_result"
    }
   ],
   "source": [
    "# mae0"
   ]
  },
  {
   "cell_type": "code",
   "execution_count": 0,
   "metadata": {
    "colab": {},
    "colab_type": "code",
    "id": "UZC81fUzJfhD"
   },
   "outputs": [],
   "source": [
    "# X_4us = X.drop(['classified'],axis=1)"
   ]
  },
  {
   "cell_type": "code",
   "execution_count": 0,
   "metadata": {
    "colab": {
     "base_uri": "https://localhost:8080/",
     "height": 34
    },
    "colab_type": "code",
    "id": "dbMxTMSELOLO",
    "outputId": "33cad3c3-7724-49a7-8f66-ca1fd5cacef8"
   },
   "outputs": [
    {
     "data": {
      "text/plain": [
       "(50405, 66)"
      ]
     },
     "execution_count": 16,
     "metadata": {
      "tags": []
     },
     "output_type": "execute_result"
    }
   ],
   "source": []
  }
 ],
 "metadata": {
  "colab": {
   "collapsed_sections": [],
   "name": "Ensemble0(4.12).ipynb",
   "provenance": []
  },
  "kernelspec": {
   "display_name": "Python 3",
   "language": "python",
   "name": "python3"
  },
  "language_info": {
   "codemirror_mode": {
    "name": "ipython",
    "version": 3
   },
   "file_extension": ".py",
   "mimetype": "text/x-python",
   "name": "python",
   "nbconvert_exporter": "python",
   "pygments_lexer": "ipython3",
   "version": "3.7.3"
  }
 },
 "nbformat": 4,
 "nbformat_minor": 1
}
