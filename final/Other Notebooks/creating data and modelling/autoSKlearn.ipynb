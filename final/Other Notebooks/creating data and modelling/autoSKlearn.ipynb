{
 "cells": [
  {
   "cell_type": "code",
   "execution_count": 1,
   "metadata": {
    "colab": {},
    "colab_type": "code",
    "id": "Hzuxm6dRz87l"
   },
   "outputs": [],
   "source": [
    "import pandas as pd\n",
    "import numpy as np\n",
    "import glob\n",
    "pd.set_option('display.max_columns',500)\n",
    "pd.set_option('display.max_rows',1000)\n",
    "\n",
    "# from textblob import TextBlob\n",
    "\n",
    "import warnings \n",
    "warnings.filterwarnings('ignore')\n",
    "\n",
    "import matplotlib as mpl\n",
    "import matplotlib.pyplot as plt\n",
    "import seaborn as sns\n",
    "#from plotly.offline import init_notebook_mode, iplot\n",
    "#import plotly.figure_factory as ff\n",
    "#init_notebook_mode(connected=True)\n",
    "#plt.style.use('fivethirtyeight')\n",
    "#%matplotlib inline\n"
   ]
  },
  {
   "cell_type": "code",
   "execution_count": 2,
   "metadata": {},
   "outputs": [],
   "source": [
    "! pip install auto-sklearn\n",
    "import autosklearn"
   ]
  },
  {
   "cell_type": "code",
   "execution_count": 29,
   "metadata": {
    "colab": {},
    "colab_type": "code",
    "id": "YhuX_tm10j5A"
   },
   "outputs": [],
   "source": [
    "\n",
    "import matplotlib.pyplot as plt\n",
    "\n",
    "from sklearn.linear_model import LinearRegression\n",
    "from sklearn.metrics import mean_squared_error, r2_score\n",
    "from sklearn.preprocessing import PolynomialFeatures\n",
    "from sklearn.model_selection import KFold\n",
    "from sklearn.model_selection import train_test_split\n",
    "from sklearn.metrics import mean_absolute_error\n",
    "import warnings\n",
    "warnings.filterwarnings(\"ignore\")\n",
    "\n",
    "import re\n",
    "import numpy as np\n",
    "import pandas as pd\n",
    "from pprint import pprint\n",
    "import logging\n",
    "logging.basicConfig(format='%(asctime)s : %(levelname)s : %(message)s', level=logging.ERROR)\n",
    "\n",
    "import warnings\n",
    "warnings.filterwarnings(\"ignore\",category=DeprecationWarning)"
   ]
  },
  {
   "cell_type": "code",
   "execution_count": null,
   "metadata": {
    "colab": {
     "base_uri": "https://localhost:8080/",
     "height": 124
    },
    "colab_type": "code",
    "id": "l3jdIXJx07Ep",
    "outputId": "fdac7ef7-8504-4df4-9fd2-25fa0d8ebd85"
   },
   "outputs": [],
   "source": [
    "from google.colab import drive\n",
    "drive.mount('/content/gdrive')"
   ]
  },
  {
   "cell_type": "code",
   "execution_count": 30,
   "metadata": {
    "colab": {},
    "colab_type": "code",
    "id": "U0U3-rE-071L"
   },
   "outputs": [],
   "source": [
    "df_tr=pd.read_csv(\"gdrive/My Drive/520_proj/preFinal/Final/CIS_520_PROJECT_DATA/TRAIN_30_11.csv\")\n",
    "df_te=pd.read_csv(\"gdrive/My Drive/520_proj/preFinal/Final/CIS_520_PROJECT_DATA/TEST_30_11.csv\")"
   ]
  },
  {
   "cell_type": "code",
   "execution_count": 9,
   "metadata": {
    "colab": {
     "base_uri": "https://localhost:8080/",
     "height": 226
    },
    "colab_type": "code",
    "id": "7P5dVcra43eP",
    "outputId": "d5be9a1f-4c09-4c03-dad1-c4cf9da915b0"
   },
   "outputs": [
    {
     "data": {
      "text/html": [
       "<div>\n",
       "<style scoped>\n",
       "    .dataframe tbody tr th:only-of-type {\n",
       "        vertical-align: middle;\n",
       "    }\n",
       "\n",
       "    .dataframe tbody tr th {\n",
       "        vertical-align: top;\n",
       "    }\n",
       "\n",
       "    .dataframe thead th {\n",
       "        text-align: right;\n",
       "    }\n",
       "</style>\n",
       "<table border=\"1\" class=\"dataframe\">\n",
       "  <thead>\n",
       "    <tr style=\"text-align: right;\">\n",
       "      <th></th>\n",
       "      <th>commentID</th>\n",
       "      <th>createDate</th>\n",
       "      <th>articleWordCount</th>\n",
       "      <th>depth</th>\n",
       "      <th>recommendations</th>\n",
       "      <th>replyCount</th>\n",
       "      <th>userIDRC</th>\n",
       "      <th>editorsSelection</th>\n",
       "      <th>ratio_comment_article</th>\n",
       "      <th>word_count</th>\n",
       "      <th>comment</th>\n",
       "      <th>reporterReply</th>\n",
       "      <th>userReply</th>\n",
       "      <th>0_LDA</th>\n",
       "      <th>1_LDA</th>\n",
       "      <th>2_LDA</th>\n",
       "      <th>3_LDA</th>\n",
       "      <th>4_LDA</th>\n",
       "      <th>5_LDA</th>\n",
       "      <th>6_LDA</th>\n",
       "      <th>7_LDA</th>\n",
       "      <th>8_LDA</th>\n",
       "      <th>9_LDA</th>\n",
       "      <th>10_LDA</th>\n",
       "      <th>11_LDA</th>\n",
       "      <th>12_LDA</th>\n",
       "      <th>13_LDA</th>\n",
       "      <th>14_LDA</th>\n",
       "      <th>15_LDA</th>\n",
       "      <th>16_LDA</th>\n",
       "      <th>17_LDA</th>\n",
       "      <th>18_LDA</th>\n",
       "      <th>19_LDA</th>\n",
       "      <th>articleID</th>\n",
       "      <th>articleRelevance</th>\n",
       "      <th>Sentiment</th>\n",
       "    </tr>\n",
       "  </thead>\n",
       "  <tbody>\n",
       "    <tr>\n",
       "      <th>0</th>\n",
       "      <td>21059310.0</td>\n",
       "      <td>9070.0</td>\n",
       "      <td>1254.0</td>\n",
       "      <td>1.0</td>\n",
       "      <td>17.0</td>\n",
       "      <td>0.0</td>\n",
       "      <td>0.000000</td>\n",
       "      <td>0.0</td>\n",
       "      <td>592.000000</td>\n",
       "      <td>327.0</td>\n",
       "      <td>1.0</td>\n",
       "      <td>0.0</td>\n",
       "      <td>0.0</td>\n",
       "      <td>0.015234</td>\n",
       "      <td>0.000000</td>\n",
       "      <td>0.001474</td>\n",
       "      <td>0.002076</td>\n",
       "      <td>0.000541</td>\n",
       "      <td>0.012121</td>\n",
       "      <td>0.006296</td>\n",
       "      <td>0.000000</td>\n",
       "      <td>0.000510</td>\n",
       "      <td>0.000000</td>\n",
       "      <td>0.000000</td>\n",
       "      <td>0.000207</td>\n",
       "      <td>0.108492</td>\n",
       "      <td>0.0</td>\n",
       "      <td>0.000400</td>\n",
       "      <td>0.000469</td>\n",
       "      <td>0.000320</td>\n",
       "      <td>0.000157</td>\n",
       "      <td>0.000000</td>\n",
       "      <td>0.001834</td>\n",
       "      <td>587575d295d0e0392607a033</td>\n",
       "      <td>0.035309</td>\n",
       "      <td>0.4767</td>\n",
       "    </tr>\n",
       "    <tr>\n",
       "      <th>1</th>\n",
       "      <td>20991167.0</td>\n",
       "      <td>52691.0</td>\n",
       "      <td>1233.0</td>\n",
       "      <td>2.0</td>\n",
       "      <td>3.0</td>\n",
       "      <td>0.0</td>\n",
       "      <td>44.684211</td>\n",
       "      <td>0.0</td>\n",
       "      <td>12.523810</td>\n",
       "      <td>149.0</td>\n",
       "      <td>0.0</td>\n",
       "      <td>0.0</td>\n",
       "      <td>1.0</td>\n",
       "      <td>0.000000</td>\n",
       "      <td>0.000655</td>\n",
       "      <td>0.002676</td>\n",
       "      <td>0.000213</td>\n",
       "      <td>0.004868</td>\n",
       "      <td>0.000209</td>\n",
       "      <td>0.000000</td>\n",
       "      <td>0.000562</td>\n",
       "      <td>0.038849</td>\n",
       "      <td>0.001519</td>\n",
       "      <td>0.000933</td>\n",
       "      <td>0.003135</td>\n",
       "      <td>0.000254</td>\n",
       "      <td>0.0</td>\n",
       "      <td>0.001058</td>\n",
       "      <td>0.000990</td>\n",
       "      <td>0.001085</td>\n",
       "      <td>0.000253</td>\n",
       "      <td>0.000428</td>\n",
       "      <td>0.019422</td>\n",
       "      <td>586d000995d0e03926078eb2</td>\n",
       "      <td>-0.071916</td>\n",
       "      <td>0.8176</td>\n",
       "    </tr>\n",
       "    <tr>\n",
       "      <th>2</th>\n",
       "      <td>21029387.0</td>\n",
       "      <td>67493.0</td>\n",
       "      <td>3637.0</td>\n",
       "      <td>1.0</td>\n",
       "      <td>31.0</td>\n",
       "      <td>0.0</td>\n",
       "      <td>33.400000</td>\n",
       "      <td>0.0</td>\n",
       "      <td>241.000000</td>\n",
       "      <td>197.0</td>\n",
       "      <td>1.0</td>\n",
       "      <td>0.0</td>\n",
       "      <td>0.0</td>\n",
       "      <td>0.000517</td>\n",
       "      <td>0.000205</td>\n",
       "      <td>0.004448</td>\n",
       "      <td>0.000702</td>\n",
       "      <td>0.001747</td>\n",
       "      <td>0.002014</td>\n",
       "      <td>0.000000</td>\n",
       "      <td>0.005435</td>\n",
       "      <td>0.003716</td>\n",
       "      <td>0.000211</td>\n",
       "      <td>0.001177</td>\n",
       "      <td>0.000214</td>\n",
       "      <td>0.001911</td>\n",
       "      <td>0.0</td>\n",
       "      <td>0.000557</td>\n",
       "      <td>0.001098</td>\n",
       "      <td>0.007673</td>\n",
       "      <td>0.000210</td>\n",
       "      <td>0.000000</td>\n",
       "      <td>0.017578</td>\n",
       "      <td>5870f3c195d0e039260797a9</td>\n",
       "      <td>-0.019555</td>\n",
       "      <td>-0.8568</td>\n",
       "    </tr>\n",
       "    <tr>\n",
       "      <th>3</th>\n",
       "      <td>21094261.0</td>\n",
       "      <td>153562.0</td>\n",
       "      <td>999.0</td>\n",
       "      <td>1.0</td>\n",
       "      <td>1.0</td>\n",
       "      <td>5.0</td>\n",
       "      <td>6.500000</td>\n",
       "      <td>1.0</td>\n",
       "      <td>14.571429</td>\n",
       "      <td>1426.0</td>\n",
       "      <td>1.0</td>\n",
       "      <td>0.0</td>\n",
       "      <td>0.0</td>\n",
       "      <td>0.000000</td>\n",
       "      <td>0.000000</td>\n",
       "      <td>0.000306</td>\n",
       "      <td>0.000000</td>\n",
       "      <td>0.155238</td>\n",
       "      <td>0.001718</td>\n",
       "      <td>0.000000</td>\n",
       "      <td>0.000318</td>\n",
       "      <td>0.001241</td>\n",
       "      <td>0.000167</td>\n",
       "      <td>0.001720</td>\n",
       "      <td>0.004918</td>\n",
       "      <td>0.000000</td>\n",
       "      <td>0.0</td>\n",
       "      <td>0.000255</td>\n",
       "      <td>0.000000</td>\n",
       "      <td>0.000000</td>\n",
       "      <td>0.000000</td>\n",
       "      <td>0.000000</td>\n",
       "      <td>0.023907</td>\n",
       "      <td>5876ba6195d0e0392607a37c</td>\n",
       "      <td>0.016659</td>\n",
       "      <td>0.9696</td>\n",
       "    </tr>\n",
       "    <tr>\n",
       "      <th>4</th>\n",
       "      <td>21071133.0</td>\n",
       "      <td>35174.0</td>\n",
       "      <td>810.0</td>\n",
       "      <td>2.0</td>\n",
       "      <td>22.0</td>\n",
       "      <td>0.0</td>\n",
       "      <td>16.000000</td>\n",
       "      <td>0.0</td>\n",
       "      <td>15.800000</td>\n",
       "      <td>762.0</td>\n",
       "      <td>0.0</td>\n",
       "      <td>0.0</td>\n",
       "      <td>1.0</td>\n",
       "      <td>0.001819</td>\n",
       "      <td>0.000000</td>\n",
       "      <td>0.002664</td>\n",
       "      <td>0.000000</td>\n",
       "      <td>0.009204</td>\n",
       "      <td>0.000000</td>\n",
       "      <td>0.000000</td>\n",
       "      <td>0.003531</td>\n",
       "      <td>0.001696</td>\n",
       "      <td>0.000000</td>\n",
       "      <td>0.000000</td>\n",
       "      <td>0.000000</td>\n",
       "      <td>0.001199</td>\n",
       "      <td>0.0</td>\n",
       "      <td>0.000380</td>\n",
       "      <td>0.000604</td>\n",
       "      <td>0.013713</td>\n",
       "      <td>0.000000</td>\n",
       "      <td>0.000000</td>\n",
       "      <td>0.072229</td>\n",
       "      <td>58761acf95d0e0392607a191</td>\n",
       "      <td>-0.002081</td>\n",
       "      <td>0.9913</td>\n",
       "    </tr>\n",
       "  </tbody>\n",
       "</table>\n",
       "</div>"
      ],
      "text/plain": [
       "    commentID  createDate  articleWordCount  depth  recommendations  \\\n",
       "0  21059310.0      9070.0            1254.0    1.0             17.0   \n",
       "1  20991167.0     52691.0            1233.0    2.0              3.0   \n",
       "2  21029387.0     67493.0            3637.0    1.0             31.0   \n",
       "3  21094261.0    153562.0             999.0    1.0              1.0   \n",
       "4  21071133.0     35174.0             810.0    2.0             22.0   \n",
       "\n",
       "   replyCount   userIDRC  editorsSelection  ratio_comment_article  word_count  \\\n",
       "0         0.0   0.000000               0.0             592.000000       327.0   \n",
       "1         0.0  44.684211               0.0              12.523810       149.0   \n",
       "2         0.0  33.400000               0.0             241.000000       197.0   \n",
       "3         5.0   6.500000               1.0              14.571429      1426.0   \n",
       "4         0.0  16.000000               0.0              15.800000       762.0   \n",
       "\n",
       "   comment  reporterReply  userReply     0_LDA     1_LDA     2_LDA     3_LDA  \\\n",
       "0      1.0            0.0        0.0  0.015234  0.000000  0.001474  0.002076   \n",
       "1      0.0            0.0        1.0  0.000000  0.000655  0.002676  0.000213   \n",
       "2      1.0            0.0        0.0  0.000517  0.000205  0.004448  0.000702   \n",
       "3      1.0            0.0        0.0  0.000000  0.000000  0.000306  0.000000   \n",
       "4      0.0            0.0        1.0  0.001819  0.000000  0.002664  0.000000   \n",
       "\n",
       "      4_LDA     5_LDA     6_LDA     7_LDA     8_LDA     9_LDA    10_LDA  \\\n",
       "0  0.000541  0.012121  0.006296  0.000000  0.000510  0.000000  0.000000   \n",
       "1  0.004868  0.000209  0.000000  0.000562  0.038849  0.001519  0.000933   \n",
       "2  0.001747  0.002014  0.000000  0.005435  0.003716  0.000211  0.001177   \n",
       "3  0.155238  0.001718  0.000000  0.000318  0.001241  0.000167  0.001720   \n",
       "4  0.009204  0.000000  0.000000  0.003531  0.001696  0.000000  0.000000   \n",
       "\n",
       "     11_LDA    12_LDA  13_LDA    14_LDA    15_LDA    16_LDA    17_LDA  \\\n",
       "0  0.000207  0.108492     0.0  0.000400  0.000469  0.000320  0.000157   \n",
       "1  0.003135  0.000254     0.0  0.001058  0.000990  0.001085  0.000253   \n",
       "2  0.000214  0.001911     0.0  0.000557  0.001098  0.007673  0.000210   \n",
       "3  0.004918  0.000000     0.0  0.000255  0.000000  0.000000  0.000000   \n",
       "4  0.000000  0.001199     0.0  0.000380  0.000604  0.013713  0.000000   \n",
       "\n",
       "     18_LDA    19_LDA                 articleID  articleRelevance  Sentiment  \n",
       "0  0.000000  0.001834  587575d295d0e0392607a033          0.035309     0.4767  \n",
       "1  0.000428  0.019422  586d000995d0e03926078eb2         -0.071916     0.8176  \n",
       "2  0.000000  0.017578  5870f3c195d0e039260797a9         -0.019555    -0.8568  \n",
       "3  0.000000  0.023907  5876ba6195d0e0392607a37c          0.016659     0.9696  \n",
       "4  0.000000  0.072229  58761acf95d0e0392607a191         -0.002081     0.9913  "
      ]
     },
     "execution_count": 9,
     "metadata": {},
     "output_type": "execute_result"
    }
   ],
   "source": [
    "df_tr.head()"
   ]
  },
  {
   "cell_type": "code",
   "execution_count": 10,
   "metadata": {
    "colab": {
     "base_uri": "https://localhost:8080/",
     "height": 34
    },
    "colab_type": "code",
    "id": "gSJ6LCoS_Z2a",
    "outputId": "230eb99b-e0e9-4507-94f4-d51ae551fc28"
   },
   "outputs": [
    {
     "data": {
      "text/plain": [
       "36"
      ]
     },
     "execution_count": 10,
     "metadata": {},
     "output_type": "execute_result"
    }
   ],
   "source": [
    "len(df_tr.columns)"
   ]
  },
  {
   "cell_type": "code",
   "execution_count": 11,
   "metadata": {
    "colab": {
     "base_uri": "https://localhost:8080/",
     "height": 226
    },
    "colab_type": "code",
    "id": "QTlhCwCMAK1T",
    "outputId": "d27f65dc-16dd-4b2c-92de-941528ad3a85"
   },
   "outputs": [
    {
     "data": {
      "text/html": [
       "<div>\n",
       "<style scoped>\n",
       "    .dataframe tbody tr th:only-of-type {\n",
       "        vertical-align: middle;\n",
       "    }\n",
       "\n",
       "    .dataframe tbody tr th {\n",
       "        vertical-align: top;\n",
       "    }\n",
       "\n",
       "    .dataframe thead th {\n",
       "        text-align: right;\n",
       "    }\n",
       "</style>\n",
       "<table border=\"1\" class=\"dataframe\">\n",
       "  <thead>\n",
       "    <tr style=\"text-align: right;\">\n",
       "      <th></th>\n",
       "      <th>commentID</th>\n",
       "      <th>createDate</th>\n",
       "      <th>articleWordCount</th>\n",
       "      <th>depth</th>\n",
       "      <th>recommendations</th>\n",
       "      <th>replyCount</th>\n",
       "      <th>userIDRC</th>\n",
       "      <th>editorsSelection</th>\n",
       "      <th>ratio_comment_article</th>\n",
       "      <th>word_count</th>\n",
       "      <th>comment</th>\n",
       "      <th>reporterReply</th>\n",
       "      <th>userReply</th>\n",
       "      <th>0_LDA</th>\n",
       "      <th>1_LDA</th>\n",
       "      <th>2_LDA</th>\n",
       "      <th>3_LDA</th>\n",
       "      <th>4_LDA</th>\n",
       "      <th>5_LDA</th>\n",
       "      <th>6_LDA</th>\n",
       "      <th>7_LDA</th>\n",
       "      <th>8_LDA</th>\n",
       "      <th>9_LDA</th>\n",
       "      <th>10_LDA</th>\n",
       "      <th>11_LDA</th>\n",
       "      <th>12_LDA</th>\n",
       "      <th>13_LDA</th>\n",
       "      <th>14_LDA</th>\n",
       "      <th>15_LDA</th>\n",
       "      <th>16_LDA</th>\n",
       "      <th>17_LDA</th>\n",
       "      <th>18_LDA</th>\n",
       "      <th>19_LDA</th>\n",
       "      <th>articleID</th>\n",
       "      <th>articleRelevance</th>\n",
       "      <th>Sentiment</th>\n",
       "    </tr>\n",
       "  </thead>\n",
       "  <tbody>\n",
       "    <tr>\n",
       "      <th>0</th>\n",
       "      <td>21059310.0</td>\n",
       "      <td>9070.0</td>\n",
       "      <td>1254.0</td>\n",
       "      <td>1.0</td>\n",
       "      <td>17.0</td>\n",
       "      <td>0.0</td>\n",
       "      <td>0.000000</td>\n",
       "      <td>0.0</td>\n",
       "      <td>592.000000</td>\n",
       "      <td>327.0</td>\n",
       "      <td>1.0</td>\n",
       "      <td>0.0</td>\n",
       "      <td>0.0</td>\n",
       "      <td>0.015234</td>\n",
       "      <td>0.000000</td>\n",
       "      <td>0.001474</td>\n",
       "      <td>0.002076</td>\n",
       "      <td>0.000541</td>\n",
       "      <td>0.012121</td>\n",
       "      <td>0.006296</td>\n",
       "      <td>0.000000</td>\n",
       "      <td>0.000510</td>\n",
       "      <td>0.000000</td>\n",
       "      <td>0.000000</td>\n",
       "      <td>0.000207</td>\n",
       "      <td>0.108492</td>\n",
       "      <td>0.0</td>\n",
       "      <td>0.000400</td>\n",
       "      <td>0.000469</td>\n",
       "      <td>0.000320</td>\n",
       "      <td>0.000157</td>\n",
       "      <td>0.000000</td>\n",
       "      <td>0.001834</td>\n",
       "      <td>587575d295d0e0392607a033</td>\n",
       "      <td>0.035309</td>\n",
       "      <td>0.4767</td>\n",
       "    </tr>\n",
       "    <tr>\n",
       "      <th>1</th>\n",
       "      <td>20991167.0</td>\n",
       "      <td>52691.0</td>\n",
       "      <td>1233.0</td>\n",
       "      <td>2.0</td>\n",
       "      <td>3.0</td>\n",
       "      <td>0.0</td>\n",
       "      <td>44.684211</td>\n",
       "      <td>0.0</td>\n",
       "      <td>12.523810</td>\n",
       "      <td>149.0</td>\n",
       "      <td>0.0</td>\n",
       "      <td>0.0</td>\n",
       "      <td>1.0</td>\n",
       "      <td>0.000000</td>\n",
       "      <td>0.000655</td>\n",
       "      <td>0.002676</td>\n",
       "      <td>0.000213</td>\n",
       "      <td>0.004868</td>\n",
       "      <td>0.000209</td>\n",
       "      <td>0.000000</td>\n",
       "      <td>0.000562</td>\n",
       "      <td>0.038849</td>\n",
       "      <td>0.001519</td>\n",
       "      <td>0.000933</td>\n",
       "      <td>0.003135</td>\n",
       "      <td>0.000254</td>\n",
       "      <td>0.0</td>\n",
       "      <td>0.001058</td>\n",
       "      <td>0.000990</td>\n",
       "      <td>0.001085</td>\n",
       "      <td>0.000253</td>\n",
       "      <td>0.000428</td>\n",
       "      <td>0.019422</td>\n",
       "      <td>586d000995d0e03926078eb2</td>\n",
       "      <td>-0.071916</td>\n",
       "      <td>0.8176</td>\n",
       "    </tr>\n",
       "    <tr>\n",
       "      <th>2</th>\n",
       "      <td>21029387.0</td>\n",
       "      <td>67493.0</td>\n",
       "      <td>3637.0</td>\n",
       "      <td>1.0</td>\n",
       "      <td>31.0</td>\n",
       "      <td>0.0</td>\n",
       "      <td>33.400000</td>\n",
       "      <td>0.0</td>\n",
       "      <td>241.000000</td>\n",
       "      <td>197.0</td>\n",
       "      <td>1.0</td>\n",
       "      <td>0.0</td>\n",
       "      <td>0.0</td>\n",
       "      <td>0.000517</td>\n",
       "      <td>0.000205</td>\n",
       "      <td>0.004448</td>\n",
       "      <td>0.000702</td>\n",
       "      <td>0.001747</td>\n",
       "      <td>0.002014</td>\n",
       "      <td>0.000000</td>\n",
       "      <td>0.005435</td>\n",
       "      <td>0.003716</td>\n",
       "      <td>0.000211</td>\n",
       "      <td>0.001177</td>\n",
       "      <td>0.000214</td>\n",
       "      <td>0.001911</td>\n",
       "      <td>0.0</td>\n",
       "      <td>0.000557</td>\n",
       "      <td>0.001098</td>\n",
       "      <td>0.007673</td>\n",
       "      <td>0.000210</td>\n",
       "      <td>0.000000</td>\n",
       "      <td>0.017578</td>\n",
       "      <td>5870f3c195d0e039260797a9</td>\n",
       "      <td>-0.019555</td>\n",
       "      <td>-0.8568</td>\n",
       "    </tr>\n",
       "    <tr>\n",
       "      <th>3</th>\n",
       "      <td>21094261.0</td>\n",
       "      <td>153562.0</td>\n",
       "      <td>999.0</td>\n",
       "      <td>1.0</td>\n",
       "      <td>1.0</td>\n",
       "      <td>5.0</td>\n",
       "      <td>6.500000</td>\n",
       "      <td>1.0</td>\n",
       "      <td>14.571429</td>\n",
       "      <td>1426.0</td>\n",
       "      <td>1.0</td>\n",
       "      <td>0.0</td>\n",
       "      <td>0.0</td>\n",
       "      <td>0.000000</td>\n",
       "      <td>0.000000</td>\n",
       "      <td>0.000306</td>\n",
       "      <td>0.000000</td>\n",
       "      <td>0.155238</td>\n",
       "      <td>0.001718</td>\n",
       "      <td>0.000000</td>\n",
       "      <td>0.000318</td>\n",
       "      <td>0.001241</td>\n",
       "      <td>0.000167</td>\n",
       "      <td>0.001720</td>\n",
       "      <td>0.004918</td>\n",
       "      <td>0.000000</td>\n",
       "      <td>0.0</td>\n",
       "      <td>0.000255</td>\n",
       "      <td>0.000000</td>\n",
       "      <td>0.000000</td>\n",
       "      <td>0.000000</td>\n",
       "      <td>0.000000</td>\n",
       "      <td>0.023907</td>\n",
       "      <td>5876ba6195d0e0392607a37c</td>\n",
       "      <td>0.016659</td>\n",
       "      <td>0.9696</td>\n",
       "    </tr>\n",
       "    <tr>\n",
       "      <th>4</th>\n",
       "      <td>21071133.0</td>\n",
       "      <td>35174.0</td>\n",
       "      <td>810.0</td>\n",
       "      <td>2.0</td>\n",
       "      <td>22.0</td>\n",
       "      <td>0.0</td>\n",
       "      <td>16.000000</td>\n",
       "      <td>0.0</td>\n",
       "      <td>15.800000</td>\n",
       "      <td>762.0</td>\n",
       "      <td>0.0</td>\n",
       "      <td>0.0</td>\n",
       "      <td>1.0</td>\n",
       "      <td>0.001819</td>\n",
       "      <td>0.000000</td>\n",
       "      <td>0.002664</td>\n",
       "      <td>0.000000</td>\n",
       "      <td>0.009204</td>\n",
       "      <td>0.000000</td>\n",
       "      <td>0.000000</td>\n",
       "      <td>0.003531</td>\n",
       "      <td>0.001696</td>\n",
       "      <td>0.000000</td>\n",
       "      <td>0.000000</td>\n",
       "      <td>0.000000</td>\n",
       "      <td>0.001199</td>\n",
       "      <td>0.0</td>\n",
       "      <td>0.000380</td>\n",
       "      <td>0.000604</td>\n",
       "      <td>0.013713</td>\n",
       "      <td>0.000000</td>\n",
       "      <td>0.000000</td>\n",
       "      <td>0.072229</td>\n",
       "      <td>58761acf95d0e0392607a191</td>\n",
       "      <td>-0.002081</td>\n",
       "      <td>0.9913</td>\n",
       "    </tr>\n",
       "  </tbody>\n",
       "</table>\n",
       "</div>"
      ],
      "text/plain": [
       "    commentID  createDate  articleWordCount  depth  recommendations  \\\n",
       "0  21059310.0      9070.0            1254.0    1.0             17.0   \n",
       "1  20991167.0     52691.0            1233.0    2.0              3.0   \n",
       "2  21029387.0     67493.0            3637.0    1.0             31.0   \n",
       "3  21094261.0    153562.0             999.0    1.0              1.0   \n",
       "4  21071133.0     35174.0             810.0    2.0             22.0   \n",
       "\n",
       "   replyCount   userIDRC  editorsSelection  ratio_comment_article  word_count  \\\n",
       "0         0.0   0.000000               0.0             592.000000       327.0   \n",
       "1         0.0  44.684211               0.0              12.523810       149.0   \n",
       "2         0.0  33.400000               0.0             241.000000       197.0   \n",
       "3         5.0   6.500000               1.0              14.571429      1426.0   \n",
       "4         0.0  16.000000               0.0              15.800000       762.0   \n",
       "\n",
       "   comment  reporterReply  userReply     0_LDA     1_LDA     2_LDA     3_LDA  \\\n",
       "0      1.0            0.0        0.0  0.015234  0.000000  0.001474  0.002076   \n",
       "1      0.0            0.0        1.0  0.000000  0.000655  0.002676  0.000213   \n",
       "2      1.0            0.0        0.0  0.000517  0.000205  0.004448  0.000702   \n",
       "3      1.0            0.0        0.0  0.000000  0.000000  0.000306  0.000000   \n",
       "4      0.0            0.0        1.0  0.001819  0.000000  0.002664  0.000000   \n",
       "\n",
       "      4_LDA     5_LDA     6_LDA     7_LDA     8_LDA     9_LDA    10_LDA  \\\n",
       "0  0.000541  0.012121  0.006296  0.000000  0.000510  0.000000  0.000000   \n",
       "1  0.004868  0.000209  0.000000  0.000562  0.038849  0.001519  0.000933   \n",
       "2  0.001747  0.002014  0.000000  0.005435  0.003716  0.000211  0.001177   \n",
       "3  0.155238  0.001718  0.000000  0.000318  0.001241  0.000167  0.001720   \n",
       "4  0.009204  0.000000  0.000000  0.003531  0.001696  0.000000  0.000000   \n",
       "\n",
       "     11_LDA    12_LDA  13_LDA    14_LDA    15_LDA    16_LDA    17_LDA  \\\n",
       "0  0.000207  0.108492     0.0  0.000400  0.000469  0.000320  0.000157   \n",
       "1  0.003135  0.000254     0.0  0.001058  0.000990  0.001085  0.000253   \n",
       "2  0.000214  0.001911     0.0  0.000557  0.001098  0.007673  0.000210   \n",
       "3  0.004918  0.000000     0.0  0.000255  0.000000  0.000000  0.000000   \n",
       "4  0.000000  0.001199     0.0  0.000380  0.000604  0.013713  0.000000   \n",
       "\n",
       "     18_LDA    19_LDA                 articleID  articleRelevance  Sentiment  \n",
       "0  0.000000  0.001834  587575d295d0e0392607a033          0.035309     0.4767  \n",
       "1  0.000428  0.019422  586d000995d0e03926078eb2         -0.071916     0.8176  \n",
       "2  0.000000  0.017578  5870f3c195d0e039260797a9         -0.019555    -0.8568  \n",
       "3  0.000000  0.023907  5876ba6195d0e0392607a37c          0.016659     0.9696  \n",
       "4  0.000000  0.072229  58761acf95d0e0392607a191         -0.002081     0.9913  "
      ]
     },
     "execution_count": 11,
     "metadata": {},
     "output_type": "execute_result"
    }
   ],
   "source": [
    "df_tr.head()"
   ]
  },
  {
   "cell_type": "code",
   "execution_count": 12,
   "metadata": {
    "colab": {},
    "colab_type": "code",
    "id": "STg64DRL9ehm"
   },
   "outputs": [],
   "source": [
    "# df_tr=pd.read_csv(\"gdrive/My Drive/520_proj/preFinal/Final/TRAIN_30_11.csv\")\n",
    "# df_te=pd.read_csv(\"gdrive/My Drive/520_proj/preFinal/Final/TEST_30_11.csv\")\n",
    "# df_tr['recommendations'][df_tr['recommendations']<=3]=0\n",
    "# df_tr['recommendations'][df_tr['recommendations']>3]=1\n",
    "# df_tr.recommendations.value_counts()\n",
    "\n",
    "# df_te['recommendations'][df_te['recommendations']<=3]=0\n",
    "# df_te['recommendations'][df_te['recommendations']>3]=1\n"
   ]
  },
  {
   "cell_type": "code",
   "execution_count": 31,
   "metadata": {},
   "outputs": [],
   "source": [
    "df_tr_sample = df_tr.sample(5000)\n",
    "y_tr_sample=np.log(df_tr_sample['recommendations']+1)\n",
    "df_tr_sample=df_tr_sample.drop(['recommendations','commentID','articleID'],axis=1)"
   ]
  },
  {
   "cell_type": "code",
   "execution_count": 35,
   "metadata": {
    "colab": {},
    "colab_type": "code",
    "id": "3LHREV_p4gI2"
   },
   "outputs": [],
   "source": [
    "# y_tr=np.log(df_tr['recommendations']+1)\n",
    "# df_tr=df_tr.drop(['recommendations','commentID','articleID'],axis=1)\n",
    "\n",
    "y_te=np.log(df_te['recommendations']+1)\n",
    "df_te=df_te.drop(['recommendations','commentID','articleID'],axis=1)"
   ]
  },
  {
   "cell_type": "code",
   "execution_count": 27,
   "metadata": {
    "colab": {
     "base_uri": "https://localhost:8080/",
     "height": 69
    },
    "colab_type": "code",
    "id": "SgJjfaWGFWWP",
    "outputId": "e36f0155-5172-4d48-fdff-2dca4bd550e3"
   },
   "outputs": [],
   "source": [
    "# y_tr = np.log(y_tr+1)\n",
    "# y_te = np.log(y_te+1)"
   ]
  },
  {
   "cell_type": "code",
   "execution_count": 13,
   "metadata": {
    "colab": {
     "base_uri": "https://localhost:8080/",
     "height": 69
    },
    "colab_type": "code",
    "id": "ys8qKLsX38G6",
    "outputId": "ec5f19b9-95c5-4fe8-f90a-e451f037bdbf"
   },
   "outputs": [
    {
     "data": {
      "text/plain": [
       "KNeighborsClassifier(algorithm='auto', leaf_size=30, metric='minkowski',\n",
       "           metric_params=None, n_jobs=1, n_neighbors=20, p=2,\n",
       "           weights='uniform')"
      ]
     },
     "execution_count": 13,
     "metadata": {},
     "output_type": "execute_result"
    }
   ],
   "source": [
    "from sklearn.ensemble import RandomForestRegressor,RandomForestClassifier\n",
    "from sklearn.tree import DecisionTreeClassifier\n",
    "from sklearn.metrics import mean_absolute_error\n",
    "from sklearn.neighbors import KNeighborsClassifier\n",
    "# y_tr=np.log(y_tr)\n",
    "# y_te=np.log(y_te)\n",
    "#rf = DecisionTreeClassifier(max_depth=10,max_leaf_nodes=20)\n",
    "rf=RandomForestClassifier(max_depth=30, max_leaf_nodes=30,n_estimators=50)\n",
    "rf=KNeighborsClassifier(n_neighbors=20)\n",
    "rf.fit(df_tr,y_tr)\n"
   ]
  },
  {
   "cell_type": "code",
   "execution_count": 14,
   "metadata": {
    "colab": {},
    "colab_type": "code",
    "id": "Hjtekb4TzRNd"
   },
   "outputs": [],
   "source": []
  },
  {
   "cell_type": "code",
   "execution_count": 15,
   "metadata": {
    "colab": {
     "base_uri": "https://localhost:8080/",
     "height": 139
    },
    "colab_type": "code",
    "id": "ZejZJWc5zlr1",
    "outputId": "6f610098-cdde-4b11-e157-a0c418c8b954"
   },
   "outputs": [
    {
     "data": {
      "text/plain": [
       "Index(['createDate', 'articleWordCount', 'depth', 'replyCount', 'userIDRC',\n",
       "       'editorsSelection', 'ratio_comment_article', 'word_count', 'comment',\n",
       "       'reporterReply', 'userReply', '0_LDA', '1_LDA', '2_LDA', '3_LDA',\n",
       "       '4_LDA', '5_LDA', '6_LDA', '7_LDA', '8_LDA', '9_LDA', '10_LDA',\n",
       "       '11_LDA', '12_LDA', '13_LDA', '14_LDA', '15_LDA', '16_LDA', '17_LDA',\n",
       "       '18_LDA', '19_LDA', 'articleRelevance', 'Sentiment'],\n",
       "      dtype='object')"
      ]
     },
     "execution_count": 15,
     "metadata": {},
     "output_type": "execute_result"
    }
   ],
   "source": [
    "df_tr.columns"
   ]
  },
  {
   "cell_type": "code",
   "execution_count": 16,
   "metadata": {
    "colab": {
     "base_uri": "https://localhost:8080/",
     "height": 52
    },
    "colab_type": "code",
    "id": "9LVpr-hJABRB",
    "outputId": "b1cdbbe3-41dd-43b8-dae8-29b254e5723f"
   },
   "outputs": [
    {
     "name": "stdout",
     "output_type": "stream",
     "text": [
      "0.5690903680190458\n",
      "0.6359863467942078\n"
     ]
    }
   ],
   "source": [
    "print(rf.score(df_te,y_te))\n",
    "print(rf.score(df_tr,y_tr))"
   ]
  },
  {
   "cell_type": "code",
   "execution_count": 32,
   "metadata": {
    "colab": {
     "base_uri": "https://localhost:8080/",
     "height": 1000
    },
    "colab_type": "code",
    "id": "iuVjIF6aGRtc",
    "outputId": "55c26624-59ce-461e-ccd6-109d92795138"
   },
   "outputs": [
    {
     "name": "stdout",
     "output_type": "stream",
     "text": [
      "[WARNING] [2019-12-06 01:11:01,182:AutoMLSMBO(1)::ed0399631959724280511df38526d73c] Could not find meta-data directory /home/saumya/anaconda3/lib/python3.7/site-packages/autosklearn/metalearning/files/r2_regression_dense\n",
      "[WARNING] [2019-12-06 01:11:01,204:EnsembleBuilder(1):ed0399631959724280511df38526d73c] No models better than random - using Dummy Score!\n",
      "[WARNING] [2019-12-06 01:11:01,229:EnsembleBuilder(1):ed0399631959724280511df38526d73c] No models better than random - using Dummy Score!\n",
      "[WARNING] [2019-12-06 01:11:03,234:EnsembleBuilder(1):ed0399631959724280511df38526d73c] No models better than random - using Dummy Score!\n",
      "[WARNING] [2019-12-06 01:11:05,237:EnsembleBuilder(1):ed0399631959724280511df38526d73c] No models better than random - using Dummy Score!\n",
      "1\n",
      "['/tmp/autosklearn_tmp_9988_6250/.auto-sklearn/ensembles/1.0000000000.ensemble', '/tmp/autosklearn_tmp_9988_6250/.auto-sklearn/ensembles/1.0000000001.ensemble', '/tmp/autosklearn_tmp_9988_6250/.auto-sklearn/ensembles/1.0000000002.ensemble', '/tmp/autosklearn_tmp_9988_6250/.auto-sklearn/ensembles/1.0000000003.ensemble', '/tmp/autosklearn_tmp_9988_6250/.auto-sklearn/ensembles/1.0000000004.ensemble', '/tmp/autosklearn_tmp_9988_6250/.auto-sklearn/ensembles/1.0000000005.ensemble']\n"
     ]
    },
    {
     "data": {
      "text/plain": [
       "AutoSklearnRegressor(delete_output_folder_after_terminate=True,\n",
       "           delete_tmp_folder_after_terminate=True,\n",
       "           disable_evaluator_output=False, ensemble_memory_limit=1024,\n",
       "           ensemble_nbest=50, ensemble_size=50, exclude_estimators=None,\n",
       "           exclude_preprocessors=None, get_smac_object_callback=None,\n",
       "           include_estimators=None, include_preprocessors=None,\n",
       "           initial_configurations_via_metalearning=25, logging_config=None,\n",
       "           metadata_directory=None, ml_memory_limit=3072, n_jobs=None,\n",
       "           output_folder=None, per_run_time_limit=360,\n",
       "           resampling_strategy='holdout',\n",
       "           resampling_strategy_arguments=None, seed=1, shared_mode=False,\n",
       "           smac_scenario_args=None, time_left_for_this_task=3600,\n",
       "           tmp_folder=None)"
      ]
     },
     "execution_count": 32,
     "metadata": {},
     "output_type": "execute_result"
    }
   ],
   "source": [
    "import autosklearn.regression\n",
    "askR = autosklearn.regression.AutoSklearnRegressor()\n",
    "askR.fit(df_tr_sample,y_tr_sample)\n"
   ]
  },
  {
   "cell_type": "code",
   "execution_count": 33,
   "metadata": {
    "colab": {
     "base_uri": "https://localhost:8080/",
     "height": 1000
    },
    "colab_type": "code",
    "id": "xmGU0JsSIOT_",
    "outputId": "560e8cdc-1fb6-4672-bf19-a52397645403"
   },
   "outputs": [
    {
     "data": {
      "text/plain": [
       "0.6635298022506451"
      ]
     },
     "execution_count": 33,
     "metadata": {},
     "output_type": "execute_result"
    }
   ],
   "source": [
    "y1 = askR.predict(df_tr_sample)\n",
    "mean_absolute_error(y1,y_tr_sample)"
   ]
  },
  {
   "cell_type": "code",
   "execution_count": 37,
   "metadata": {},
   "outputs": [],
   "source": [
    "import pickle\n",
    "with open(\"gdrive/My Drive/520_proj/preFinal/Final/CIS_520_PROJECT_DATA/autosklearn\", 'wb') as f:\n",
    "    pickle.dump(askR, f)"
   ]
  },
  {
   "cell_type": "code",
   "execution_count": 36,
   "metadata": {},
   "outputs": [
    {
     "data": {
      "text/plain": [
       "0.885280560577932"
      ]
     },
     "execution_count": 36,
     "metadata": {},
     "output_type": "execute_result"
    }
   ],
   "source": [
    "y1 = askR.predict(df_te)\n",
    "mean_absolute_error(y1,y_te)"
   ]
  },
  {
   "cell_type": "code",
   "execution_count": null,
   "metadata": {},
   "outputs": [],
   "source": []
  },
  {
   "cell_type": "code",
   "execution_count": null,
   "metadata": {},
   "outputs": [],
   "source": []
  }
 ],
 "metadata": {
  "colab": {
   "collapsed_sections": [],
   "name": "Copy of Modelling_1_12.ipynb",
   "provenance": []
  },
  "kernelspec": {
   "display_name": "Python 3",
   "language": "python",
   "name": "python3"
  },
  "language_info": {
   "codemirror_mode": {
    "name": "ipython",
    "version": 3
   },
   "file_extension": ".py",
   "mimetype": "text/x-python",
   "name": "python",
   "nbconvert_exporter": "python",
   "pygments_lexer": "ipython3",
   "version": "3.7.3"
  }
 },
 "nbformat": 4,
 "nbformat_minor": 1
}
