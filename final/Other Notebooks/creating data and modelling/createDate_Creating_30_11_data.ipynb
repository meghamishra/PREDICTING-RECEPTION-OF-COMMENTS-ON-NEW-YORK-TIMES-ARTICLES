{
 "cells": [
  {
   "cell_type": "code",
   "execution_count": 0,
   "metadata": {
    "colab": {},
    "colab_type": "code",
    "id": "gB3Eu1nlnls0"
   },
   "outputs": [],
   "source": [
    "import pandas as pd\n",
    "import numpy as np\n",
    "import glob\n",
    "pd.set_option('display.max_columns',500)\n",
    "pd.set_option('display.max_rows',500)\n",
    "\n",
    "\n",
    "import warnings \n",
    "warnings.filterwarnings('ignore')\n"
   ]
  },
  {
   "cell_type": "code",
   "execution_count": 0,
   "metadata": {
    "colab": {
     "base_uri": "https://localhost:8080/",
     "height": 36
    },
    "colab_type": "code",
    "id": "v8hxh2t3nqeO",
    "outputId": "35360901-e1ac-4384-ed69-2d0162c05628"
   },
   "outputs": [
    {
     "name": "stdout",
     "output_type": "stream",
     "text": [
      "Drive already mounted at /content/gdrive; to attempt to forcibly remount, call drive.mount(\"/content/gdrive\", force_remount=True).\n"
     ]
    }
   ],
   "source": [
    "from google.colab import drive\n",
    "drive.mount('/content/gdrive')"
   ]
  },
  {
   "cell_type": "code",
   "execution_count": 0,
   "metadata": {
    "colab": {},
    "colab_type": "code",
    "id": "UZKb97hIn3K6"
   },
   "outputs": [],
   "source": [
    "train = pd.read_csv('gdrive/My Drive/520_proj/preFinal/Final/CIS_520_PROJECT_DATA/TRAINING_DATA_26_11.csv')\n",
    "test = pd.read_csv('gdrive/My Drive/520_proj/preFinal/Final/CIS_520_PROJECT_DATA/final_test_without_createDate.csv')\n",
    "pubD = pd.read_csv('gdrive/My Drive/520_proj/preFinal/Final/CIS_520_PROJECT_DATA/articles_dates.csv')"
   ]
  },
  {
   "cell_type": "code",
   "execution_count": 0,
   "metadata": {
    "colab": {
     "base_uri": "https://localhost:8080/",
     "height": 118
    },
    "colab_type": "code",
    "id": "Vzx3w7Vh59oW",
    "outputId": "764ef823-3114-4df9-86ff-16edbe734926"
   },
   "outputs": [
    {
     "data": {
      "text/html": [
       "<div>\n",
       "<style scoped>\n",
       "    .dataframe tbody tr th:only-of-type {\n",
       "        vertical-align: middle;\n",
       "    }\n",
       "\n",
       "    .dataframe tbody tr th {\n",
       "        vertical-align: top;\n",
       "    }\n",
       "\n",
       "    .dataframe thead th {\n",
       "        text-align: right;\n",
       "    }\n",
       "</style>\n",
       "<table border=\"1\" class=\"dataframe\">\n",
       "  <thead>\n",
       "    <tr style=\"text-align: right;\">\n",
       "      <th></th>\n",
       "      <th>Unnamed: 0</th>\n",
       "      <th>commentID</th>\n",
       "      <th>articleID</th>\n",
       "      <th>depth</th>\n",
       "      <th>articleWordCount</th>\n",
       "      <th>replyCount</th>\n",
       "      <th>editorsSelection</th>\n",
       "      <th>createDate</th>\n",
       "      <th>userID</th>\n",
       "      <th>ratioUID</th>\n",
       "      <th>comment</th>\n",
       "      <th>reporterReply</th>\n",
       "      <th>userReply</th>\n",
       "      <th>word_count</th>\n",
       "      <th>ratio_comment_article</th>\n",
       "      <th>0</th>\n",
       "      <th>1</th>\n",
       "      <th>2</th>\n",
       "      <th>3</th>\n",
       "      <th>4</th>\n",
       "      <th>5</th>\n",
       "      <th>6</th>\n",
       "      <th>7</th>\n",
       "      <th>8</th>\n",
       "      <th>9</th>\n",
       "      <th>10</th>\n",
       "      <th>11</th>\n",
       "      <th>12</th>\n",
       "      <th>13</th>\n",
       "      <th>14</th>\n",
       "      <th>15</th>\n",
       "      <th>16</th>\n",
       "      <th>17</th>\n",
       "      <th>18</th>\n",
       "      <th>19</th>\n",
       "      <th>articleRelevance</th>\n",
       "      <th>Sentiment</th>\n",
       "      <th>recommendations</th>\n",
       "    </tr>\n",
       "  </thead>\n",
       "  <tbody>\n",
       "    <tr>\n",
       "      <th>0</th>\n",
       "      <td>0</td>\n",
       "      <td>21747131.0</td>\n",
       "      <td>58c110947c459f247962e12a</td>\n",
       "      <td>1.0</td>\n",
       "      <td>2229.0</td>\n",
       "      <td>0.0</td>\n",
       "      <td>0</td>\n",
       "      <td>1.489072e+09</td>\n",
       "      <td>12816599.0</td>\n",
       "      <td>0.0</td>\n",
       "      <td>1</td>\n",
       "      <td>0</td>\n",
       "      <td>0</td>\n",
       "      <td>1029</td>\n",
       "      <td>27.060606</td>\n",
       "      <td>0.028413</td>\n",
       "      <td>0.0</td>\n",
       "      <td>0.003128</td>\n",
       "      <td>0.0</td>\n",
       "      <td>0.006175</td>\n",
       "      <td>0.000989</td>\n",
       "      <td>0.0</td>\n",
       "      <td>0.001293</td>\n",
       "      <td>0.000684</td>\n",
       "      <td>0.0</td>\n",
       "      <td>0.0</td>\n",
       "      <td>0.00033</td>\n",
       "      <td>0.000309</td>\n",
       "      <td>0.000441</td>\n",
       "      <td>0.0</td>\n",
       "      <td>0.0</td>\n",
       "      <td>0.02005</td>\n",
       "      <td>0.001022</td>\n",
       "      <td>0.0</td>\n",
       "      <td>0.038121</td>\n",
       "      <td>-0.00151</td>\n",
       "      <td>0.9838</td>\n",
       "      <td>0.0</td>\n",
       "    </tr>\n",
       "  </tbody>\n",
       "</table>\n",
       "</div>"
      ],
      "text/plain": [
       "   Unnamed: 0   commentID                 articleID  depth  articleWordCount  \\\n",
       "0           0  21747131.0  58c110947c459f247962e12a    1.0            2229.0   \n",
       "\n",
       "   replyCount  editorsSelection    createDate      userID  ratioUID  comment  \\\n",
       "0         0.0                 0  1.489072e+09  12816599.0       0.0        1   \n",
       "\n",
       "   reporterReply  userReply  word_count  ratio_comment_article         0    1  \\\n",
       "0              0          0        1029              27.060606  0.028413  0.0   \n",
       "\n",
       "          2    3         4         5    6         7         8    9   10  \\\n",
       "0  0.003128  0.0  0.006175  0.000989  0.0  0.001293  0.000684  0.0  0.0   \n",
       "\n",
       "        11        12        13   14   15       16        17   18        19  \\\n",
       "0  0.00033  0.000309  0.000441  0.0  0.0  0.02005  0.001022  0.0  0.038121   \n",
       "\n",
       "   articleRelevance  Sentiment  recommendations  \n",
       "0          -0.00151     0.9838              0.0  "
      ]
     },
     "execution_count": 168,
     "metadata": {
      "tags": []
     },
     "output_type": "execute_result"
    }
   ],
   "source": [
    "# test = pd.read_csv('gdrive/My Drive/520_proj/final_test_without_createDate.csv')\n",
    "# test.head(1)"
   ]
  },
  {
   "cell_type": "code",
   "execution_count": 0,
   "metadata": {
    "colab": {
     "base_uri": "https://localhost:8080/",
     "height": 206
    },
    "colab_type": "code",
    "id": "L86kJCunuFN6",
    "outputId": "ab8ba072-c273-4587-ebea-5a554aca0b16"
   },
   "outputs": [
    {
     "data": {
      "text/html": [
       "<div>\n",
       "<style scoped>\n",
       "    .dataframe tbody tr th:only-of-type {\n",
       "        vertical-align: middle;\n",
       "    }\n",
       "\n",
       "    .dataframe tbody tr th {\n",
       "        vertical-align: top;\n",
       "    }\n",
       "\n",
       "    .dataframe thead th {\n",
       "        text-align: right;\n",
       "    }\n",
       "</style>\n",
       "<table border=\"1\" class=\"dataframe\">\n",
       "  <thead>\n",
       "    <tr style=\"text-align: right;\">\n",
       "      <th></th>\n",
       "      <th>commentID</th>\n",
       "      <th>createDate</th>\n",
       "      <th>articleWordCount</th>\n",
       "      <th>replyCount</th>\n",
       "      <th>userIDRC</th>\n",
       "      <th>editorsSelection</th>\n",
       "      <th>ratio_comment_article</th>\n",
       "      <th>word_count</th>\n",
       "      <th>comment</th>\n",
       "      <th>reporterReply</th>\n",
       "      <th>userReply</th>\n",
       "      <th>articleRelevance</th>\n",
       "      <th>Sentiment</th>\n",
       "    </tr>\n",
       "  </thead>\n",
       "  <tbody>\n",
       "    <tr>\n",
       "      <th>0</th>\n",
       "      <td>21059310.0</td>\n",
       "      <td>6632.0</td>\n",
       "      <td>1254.0</td>\n",
       "      <td>0.0</td>\n",
       "      <td>0.000000</td>\n",
       "      <td>0.0</td>\n",
       "      <td>592.000000</td>\n",
       "      <td>327.0</td>\n",
       "      <td>1.0</td>\n",
       "      <td>0.0</td>\n",
       "      <td>0.0</td>\n",
       "      <td>0.035309</td>\n",
       "      <td>0.4767</td>\n",
       "    </tr>\n",
       "    <tr>\n",
       "      <th>1</th>\n",
       "      <td>20991167.0</td>\n",
       "      <td>49157.0</td>\n",
       "      <td>1233.0</td>\n",
       "      <td>0.0</td>\n",
       "      <td>44.684211</td>\n",
       "      <td>0.0</td>\n",
       "      <td>12.523810</td>\n",
       "      <td>149.0</td>\n",
       "      <td>0.0</td>\n",
       "      <td>0.0</td>\n",
       "      <td>1.0</td>\n",
       "      <td>-0.071916</td>\n",
       "      <td>0.8176</td>\n",
       "    </tr>\n",
       "    <tr>\n",
       "      <th>2</th>\n",
       "      <td>21029387.0</td>\n",
       "      <td>52281.0</td>\n",
       "      <td>3637.0</td>\n",
       "      <td>0.0</td>\n",
       "      <td>33.400000</td>\n",
       "      <td>0.0</td>\n",
       "      <td>241.000000</td>\n",
       "      <td>197.0</td>\n",
       "      <td>1.0</td>\n",
       "      <td>0.0</td>\n",
       "      <td>0.0</td>\n",
       "      <td>-0.019555</td>\n",
       "      <td>-0.8568</td>\n",
       "    </tr>\n",
       "    <tr>\n",
       "      <th>3</th>\n",
       "      <td>21094261.0</td>\n",
       "      <td>147284.0</td>\n",
       "      <td>999.0</td>\n",
       "      <td>5.0</td>\n",
       "      <td>6.500000</td>\n",
       "      <td>1.0</td>\n",
       "      <td>14.571429</td>\n",
       "      <td>1426.0</td>\n",
       "      <td>1.0</td>\n",
       "      <td>0.0</td>\n",
       "      <td>0.0</td>\n",
       "      <td>0.016659</td>\n",
       "      <td>0.9696</td>\n",
       "    </tr>\n",
       "    <tr>\n",
       "      <th>4</th>\n",
       "      <td>21071133.0</td>\n",
       "      <td>28777.0</td>\n",
       "      <td>810.0</td>\n",
       "      <td>0.0</td>\n",
       "      <td>16.000000</td>\n",
       "      <td>0.0</td>\n",
       "      <td>15.800000</td>\n",
       "      <td>762.0</td>\n",
       "      <td>0.0</td>\n",
       "      <td>0.0</td>\n",
       "      <td>1.0</td>\n",
       "      <td>-0.002081</td>\n",
       "      <td>0.9913</td>\n",
       "    </tr>\n",
       "  </tbody>\n",
       "</table>\n",
       "</div>"
      ],
      "text/plain": [
       "    commentID  createDate  articleWordCount  replyCount   userIDRC  \\\n",
       "0  21059310.0      6632.0            1254.0         0.0   0.000000   \n",
       "1  20991167.0     49157.0            1233.0         0.0  44.684211   \n",
       "2  21029387.0     52281.0            3637.0         0.0  33.400000   \n",
       "3  21094261.0    147284.0             999.0         5.0   6.500000   \n",
       "4  21071133.0     28777.0             810.0         0.0  16.000000   \n",
       "\n",
       "   editorsSelection  ratio_comment_article  word_count  comment  \\\n",
       "0               0.0             592.000000       327.0      1.0   \n",
       "1               0.0              12.523810       149.0      0.0   \n",
       "2               0.0             241.000000       197.0      1.0   \n",
       "3               1.0              14.571429      1426.0      1.0   \n",
       "4               0.0              15.800000       762.0      0.0   \n",
       "\n",
       "   reporterReply  userReply  articleRelevance  Sentiment  \n",
       "0            0.0        0.0          0.035309     0.4767  \n",
       "1            0.0        1.0         -0.071916     0.8176  \n",
       "2            0.0        0.0         -0.019555    -0.8568  \n",
       "3            0.0        0.0          0.016659     0.9696  \n",
       "4            0.0        1.0         -0.002081     0.9913  "
      ]
     },
     "execution_count": 169,
     "metadata": {
      "tags": []
     },
     "output_type": "execute_result"
    }
   ],
   "source": [
    "tutch = pd.read_csv('gdrive/My Drive/520_proj/preFinal/Final/CIS_520_PROJECT_DATA/X_train_final.csv')\n",
    "tutch.head()"
   ]
  },
  {
   "cell_type": "code",
   "execution_count": 0,
   "metadata": {
    "colab": {},
    "colab_type": "code",
    "id": "ErTdo-6lvAE4"
   },
   "outputs": [],
   "source": [
    "train=pd.merge(train,tutch[['articleRelevance','Sentiment','commentID']], on='commentID', how='right').drop_duplicates(subset = ['commentID'])"
   ]
  },
  {
   "cell_type": "code",
   "execution_count": 0,
   "metadata": {
    "colab": {
     "base_uri": "https://localhost:8080/",
     "height": 36
    },
    "colab_type": "code",
    "id": "uRRBwnuzv3zz",
    "outputId": "799ca0a7-8cb6-4e2d-85b7-8438d83388a3"
   },
   "outputs": [
    {
     "data": {
      "text/plain": [
       "((146685, 13), (146685, 37))"
      ]
     },
     "execution_count": 171,
     "metadata": {
      "tags": []
     },
     "output_type": "execute_result"
    }
   ],
   "source": [
    "tutch.drop_duplicates(subset = ['commentID']).shape, train.drop_duplicates(subset = ['commentID']).shape"
   ]
  },
  {
   "cell_type": "code",
   "execution_count": 0,
   "metadata": {
    "colab": {},
    "colab_type": "code",
    "id": "CKP7fnf5snFs"
   },
   "outputs": [],
   "source": [
    "# train=train.fillna(0)\n",
    "# test=test.fillna(0)"
   ]
  },
  {
   "cell_type": "code",
   "execution_count": 0,
   "metadata": {
    "colab": {},
    "colab_type": "code",
    "id": "sqUBjA80wwgk"
   },
   "outputs": [],
   "source": [
    "train=train.dropna()"
   ]
  },
  {
   "cell_type": "code",
   "execution_count": 0,
   "metadata": {
    "colab": {
     "base_uri": "https://localhost:8080/",
     "height": 727
    },
    "colab_type": "code",
    "id": "P_XQHm-fweWF",
    "outputId": "ae840538-33d2-4d1e-b7a2-b10cc7cae88e"
   },
   "outputs": [
    {
     "data": {
      "text/plain": [
       "commentID                0\n",
       "createDate               0\n",
       "articleWordCount         0\n",
       "depth                    0\n",
       "recommendations          0\n",
       "replyCount               0\n",
       "userTitleRC              0\n",
       "userIDRC                 0\n",
       "editorsSelection         0\n",
       "ratio_comment_article    0\n",
       "word_count               0\n",
       "comment                  0\n",
       "reporterReply            0\n",
       "userReply                0\n",
       "0_LDA                    0\n",
       "1_LDA                    0\n",
       "2_LDA                    0\n",
       "3_LDA                    0\n",
       "4_LDA                    0\n",
       "5_LDA                    0\n",
       "6_LDA                    0\n",
       "7_LDA                    0\n",
       "8_LDA                    0\n",
       "9_LDA                    0\n",
       "10_LDA                   0\n",
       "11_LDA                   0\n",
       "12_LDA                   0\n",
       "13_LDA                   0\n",
       "14_LDA                   0\n",
       "15_LDA                   0\n",
       "16_LDA                   0\n",
       "17_LDA                   0\n",
       "18_LDA                   0\n",
       "19_LDA                   0\n",
       "articleID                0\n",
       "articleRelevance         0\n",
       "Sentiment                0\n",
       "dtype: int64"
      ]
     },
     "execution_count": 174,
     "metadata": {
      "tags": []
     },
     "output_type": "execute_result"
    }
   ],
   "source": [
    "train.isna().sum()"
   ]
  },
  {
   "cell_type": "code",
   "execution_count": 0,
   "metadata": {
    "colab": {
     "base_uri": "https://localhost:8080/",
     "height": 36
    },
    "colab_type": "code",
    "id": "ib5yDNaaoqU1",
    "outputId": "6dfc90c1-9f68-4dc4-f631-45d862c83abc"
   },
   "outputs": [
    {
     "data": {
      "text/plain": [
       "(151200, 34)"
      ]
     },
     "execution_count": 175,
     "metadata": {
      "tags": []
     },
     "output_type": "execute_result"
    }
   ],
   "source": [
    "Strain = pd.read_csv('gdrive/My Drive/520_proj/preFinal/Final/CIS_520_PROJECT_DATA/subSamplesTrain.csv')\n",
    "Stest = pd.read_csv('gdrive/My Drive/520_proj/preFinal/Final/CIS_520_PROJECT_DATA/subSamplesTest.csv')\n",
    "Strain.shape"
   ]
  },
  {
   "cell_type": "code",
   "execution_count": 0,
   "metadata": {
    "colab": {
     "base_uri": "https://localhost:8080/",
     "height": 36
    },
    "colab_type": "code",
    "id": "zQHYbdM9p-Ip",
    "outputId": "e9370988-80a8-4ff4-81dc-f231e1a74682"
   },
   "outputs": [
    {
     "name": "stdout",
     "output_type": "stream",
     "text": [
      "(151200, 3) (50400, 34)\n"
     ]
    }
   ],
   "source": [
    "Straint = Strain[['commentID','articleID','createDate']]\n",
    "Stestt = Stest[['commentID','articleID','createDate']]\n",
    "print(Straint.shape,Stest.shape)"
   ]
  },
  {
   "cell_type": "code",
   "execution_count": 0,
   "metadata": {
    "colab": {
     "base_uri": "https://localhost:8080/",
     "height": 54
    },
    "colab_type": "code",
    "id": "-8oLc2IiutAZ",
    "outputId": "0a1efd74-5017-4232-ebc4-4508c645d2aa"
   },
   "outputs": [
    {
     "name": "stdout",
     "output_type": "stream",
     "text": [
      "(9289, 3)\n",
      "(9281,)\n"
     ]
    }
   ],
   "source": [
    "print(pubD.shape)\n",
    "# pubD.\n",
    "print(pubD.articleID.unique().shape)"
   ]
  },
  {
   "cell_type": "code",
   "execution_count": 0,
   "metadata": {
    "colab": {
     "base_uri": "https://localhost:8080/",
     "height": 36
    },
    "colab_type": "code",
    "id": "na2d-1lwqk8u",
    "outputId": "85bcad71-b3e3-4858-ab90-0b5dbf065d7e"
   },
   "outputs": [
    {
     "name": "stdout",
     "output_type": "stream",
     "text": [
      "(151201, 5) (50400, 34)\n"
     ]
    }
   ],
   "source": [
    "Straint = pd.merge(Straint,pubD,on='articleID',how = 'left')\n",
    "Stestt = Stestt.merge(pubD,on='articleID',how = 'left')\n",
    "print(Straint.shape,Stest.shape)"
   ]
  },
  {
   "cell_type": "code",
   "execution_count": 0,
   "metadata": {
    "colab": {},
    "colab_type": "code",
    "id": "C2BaPjy-q6aC"
   },
   "outputs": [],
   "source": [
    "Straint=Straint.drop('Unnamed: 0',axis=1)\n",
    "Stestt=Stestt.drop('Unnamed: 0',axis=1)"
   ]
  },
  {
   "cell_type": "code",
   "execution_count": 0,
   "metadata": {
    "colab": {},
    "colab_type": "code",
    "id": "UryQUXaGraY5"
   },
   "outputs": [],
   "source": [
    "Straint['createDateN']=Straint['createDate']-Straint['pubDate']\n",
    "Stestt['createDateN']=Stestt['createDate']-Stestt['pubDate']"
   ]
  },
  {
   "cell_type": "code",
   "execution_count": 0,
   "metadata": {
    "colab": {
     "base_uri": "https://localhost:8080/",
     "height": 118
    },
    "colab_type": "code",
    "id": "2Ia0v2xl6MAj",
    "outputId": "05d7c935-81c4-40e8-ef99-793b7524b4cd"
   },
   "outputs": [
    {
     "data": {
      "text/html": [
       "<div>\n",
       "<style scoped>\n",
       "    .dataframe tbody tr th:only-of-type {\n",
       "        vertical-align: middle;\n",
       "    }\n",
       "\n",
       "    .dataframe tbody tr th {\n",
       "        vertical-align: top;\n",
       "    }\n",
       "\n",
       "    .dataframe thead th {\n",
       "        text-align: right;\n",
       "    }\n",
       "</style>\n",
       "<table border=\"1\" class=\"dataframe\">\n",
       "  <thead>\n",
       "    <tr style=\"text-align: right;\">\n",
       "      <th></th>\n",
       "      <th>Unnamed: 0</th>\n",
       "      <th>commentID</th>\n",
       "      <th>articleID</th>\n",
       "      <th>depth</th>\n",
       "      <th>articleWordCount</th>\n",
       "      <th>replyCount</th>\n",
       "      <th>editorsSelection</th>\n",
       "      <th>createDate</th>\n",
       "      <th>userID</th>\n",
       "      <th>ratioUID</th>\n",
       "      <th>comment</th>\n",
       "      <th>reporterReply</th>\n",
       "      <th>userReply</th>\n",
       "      <th>word_count</th>\n",
       "      <th>ratio_comment_article</th>\n",
       "      <th>0</th>\n",
       "      <th>1</th>\n",
       "      <th>2</th>\n",
       "      <th>3</th>\n",
       "      <th>4</th>\n",
       "      <th>5</th>\n",
       "      <th>6</th>\n",
       "      <th>7</th>\n",
       "      <th>8</th>\n",
       "      <th>9</th>\n",
       "      <th>10</th>\n",
       "      <th>11</th>\n",
       "      <th>12</th>\n",
       "      <th>13</th>\n",
       "      <th>14</th>\n",
       "      <th>15</th>\n",
       "      <th>16</th>\n",
       "      <th>17</th>\n",
       "      <th>18</th>\n",
       "      <th>19</th>\n",
       "      <th>articleRelevance</th>\n",
       "      <th>Sentiment</th>\n",
       "      <th>recommendations</th>\n",
       "    </tr>\n",
       "  </thead>\n",
       "  <tbody>\n",
       "    <tr>\n",
       "      <th>0</th>\n",
       "      <td>0</td>\n",
       "      <td>21747131.0</td>\n",
       "      <td>58c110947c459f247962e12a</td>\n",
       "      <td>1.0</td>\n",
       "      <td>2229.0</td>\n",
       "      <td>0.0</td>\n",
       "      <td>0</td>\n",
       "      <td>1.489072e+09</td>\n",
       "      <td>12816599.0</td>\n",
       "      <td>0.0</td>\n",
       "      <td>1</td>\n",
       "      <td>0</td>\n",
       "      <td>0</td>\n",
       "      <td>1029</td>\n",
       "      <td>27.060606</td>\n",
       "      <td>0.028413</td>\n",
       "      <td>0.0</td>\n",
       "      <td>0.003128</td>\n",
       "      <td>0.0</td>\n",
       "      <td>0.006175</td>\n",
       "      <td>0.000989</td>\n",
       "      <td>0.0</td>\n",
       "      <td>0.001293</td>\n",
       "      <td>0.000684</td>\n",
       "      <td>0.0</td>\n",
       "      <td>0.0</td>\n",
       "      <td>0.00033</td>\n",
       "      <td>0.000309</td>\n",
       "      <td>0.000441</td>\n",
       "      <td>0.0</td>\n",
       "      <td>0.0</td>\n",
       "      <td>0.02005</td>\n",
       "      <td>0.001022</td>\n",
       "      <td>0.0</td>\n",
       "      <td>0.038121</td>\n",
       "      <td>-0.00151</td>\n",
       "      <td>0.9838</td>\n",
       "      <td>0.0</td>\n",
       "    </tr>\n",
       "  </tbody>\n",
       "</table>\n",
       "</div>"
      ],
      "text/plain": [
       "   Unnamed: 0   commentID                 articleID  depth  articleWordCount  \\\n",
       "0           0  21747131.0  58c110947c459f247962e12a    1.0            2229.0   \n",
       "\n",
       "   replyCount  editorsSelection    createDate      userID  ratioUID  comment  \\\n",
       "0         0.0                 0  1.489072e+09  12816599.0       0.0        1   \n",
       "\n",
       "   reporterReply  userReply  word_count  ratio_comment_article         0    1  \\\n",
       "0              0          0        1029              27.060606  0.028413  0.0   \n",
       "\n",
       "          2    3         4         5    6         7         8    9   10  \\\n",
       "0  0.003128  0.0  0.006175  0.000989  0.0  0.001293  0.000684  0.0  0.0   \n",
       "\n",
       "        11        12        13   14   15       16        17   18        19  \\\n",
       "0  0.00033  0.000309  0.000441  0.0  0.0  0.02005  0.001022  0.0  0.038121   \n",
       "\n",
       "   articleRelevance  Sentiment  recommendations  \n",
       "0          -0.00151     0.9838              0.0  "
      ]
     },
     "execution_count": 181,
     "metadata": {
      "tags": []
     },
     "output_type": "execute_result"
    }
   ],
   "source": [
    "test.head(1)"
   ]
  },
  {
   "cell_type": "code",
   "execution_count": 0,
   "metadata": {
    "colab": {
     "base_uri": "https://localhost:8080/",
     "height": 36
    },
    "colab_type": "code",
    "id": "o4ITKHSetASa",
    "outputId": "f9cf02fc-7704-43ce-88f7-a7099bc0a707"
   },
   "outputs": [
    {
     "data": {
      "text/plain": [
       "(143849, 38)"
      ]
     },
     "execution_count": 182,
     "metadata": {
      "tags": []
     },
     "output_type": "execute_result"
    }
   ],
   "source": [
    "train2 = pd.merge(train,Straint[['commentID','createDateN']], on ='commentID',how = 'left')\n",
    "test2 = pd.merge(test,Stestt[['commentID','createDateN']], on ='commentID',how = 'left')\n",
    "train2.shape"
   ]
  },
  {
   "cell_type": "code",
   "execution_count": 0,
   "metadata": {
    "colab": {
     "base_uri": "https://localhost:8080/",
     "height": 243
    },
    "colab_type": "code",
    "id": "ci8Jv5KbxSnW",
    "outputId": "0db54507-ce67-48be-ab6a-e3f5ab5c5cb8"
   },
   "outputs": [
    {
     "data": {
      "text/html": [
       "<div>\n",
       "<style scoped>\n",
       "    .dataframe tbody tr th:only-of-type {\n",
       "        vertical-align: middle;\n",
       "    }\n",
       "\n",
       "    .dataframe tbody tr th {\n",
       "        vertical-align: top;\n",
       "    }\n",
       "\n",
       "    .dataframe thead th {\n",
       "        text-align: right;\n",
       "    }\n",
       "</style>\n",
       "<table border=\"1\" class=\"dataframe\">\n",
       "  <thead>\n",
       "    <tr style=\"text-align: right;\">\n",
       "      <th></th>\n",
       "      <th>Unnamed: 0</th>\n",
       "      <th>commentID</th>\n",
       "      <th>articleID</th>\n",
       "      <th>depth</th>\n",
       "      <th>articleWordCount</th>\n",
       "      <th>replyCount</th>\n",
       "      <th>editorsSelection</th>\n",
       "      <th>createDate</th>\n",
       "      <th>userID</th>\n",
       "      <th>ratioUID</th>\n",
       "      <th>comment</th>\n",
       "      <th>reporterReply</th>\n",
       "      <th>userReply</th>\n",
       "      <th>word_count</th>\n",
       "      <th>ratio_comment_article</th>\n",
       "      <th>0</th>\n",
       "      <th>1</th>\n",
       "      <th>2</th>\n",
       "      <th>3</th>\n",
       "      <th>4</th>\n",
       "      <th>5</th>\n",
       "      <th>6</th>\n",
       "      <th>7</th>\n",
       "      <th>8</th>\n",
       "      <th>9</th>\n",
       "      <th>10</th>\n",
       "      <th>11</th>\n",
       "      <th>12</th>\n",
       "      <th>13</th>\n",
       "      <th>14</th>\n",
       "      <th>15</th>\n",
       "      <th>16</th>\n",
       "      <th>17</th>\n",
       "      <th>18</th>\n",
       "      <th>19</th>\n",
       "      <th>articleRelevance</th>\n",
       "      <th>Sentiment</th>\n",
       "      <th>recommendations</th>\n",
       "      <th>createDateN</th>\n",
       "    </tr>\n",
       "  </thead>\n",
       "  <tbody>\n",
       "    <tr>\n",
       "      <th>0</th>\n",
       "      <td>0</td>\n",
       "      <td>21747131.0</td>\n",
       "      <td>58c110947c459f247962e12a</td>\n",
       "      <td>1.0</td>\n",
       "      <td>2229.0</td>\n",
       "      <td>0.0</td>\n",
       "      <td>0</td>\n",
       "      <td>1.489072e+09</td>\n",
       "      <td>12816599.0</td>\n",
       "      <td>0.000000</td>\n",
       "      <td>1</td>\n",
       "      <td>0</td>\n",
       "      <td>0</td>\n",
       "      <td>1029</td>\n",
       "      <td>27.060606</td>\n",
       "      <td>0.028413</td>\n",
       "      <td>0.000000</td>\n",
       "      <td>0.003128</td>\n",
       "      <td>0.000000</td>\n",
       "      <td>0.006175</td>\n",
       "      <td>0.000989</td>\n",
       "      <td>0.000000</td>\n",
       "      <td>0.001293</td>\n",
       "      <td>0.000684</td>\n",
       "      <td>0.000000</td>\n",
       "      <td>0.000000</td>\n",
       "      <td>0.000330</td>\n",
       "      <td>0.000309</td>\n",
       "      <td>0.000441</td>\n",
       "      <td>0.000000</td>\n",
       "      <td>0.000000</td>\n",
       "      <td>0.020050</td>\n",
       "      <td>0.001022</td>\n",
       "      <td>0.0</td>\n",
       "      <td>0.038121</td>\n",
       "      <td>-0.001510</td>\n",
       "      <td>0.9838</td>\n",
       "      <td>0.0</td>\n",
       "      <td>23824.0</td>\n",
       "    </tr>\n",
       "    <tr>\n",
       "      <th>1</th>\n",
       "      <td>1</td>\n",
       "      <td>21783288.0</td>\n",
       "      <td>58c6487b7c459f247a912fb9</td>\n",
       "      <td>1.0</td>\n",
       "      <td>821.0</td>\n",
       "      <td>1.0</td>\n",
       "      <td>0</td>\n",
       "      <td>1.489404e+09</td>\n",
       "      <td>63823446.0</td>\n",
       "      <td>12.000000</td>\n",
       "      <td>1</td>\n",
       "      <td>0</td>\n",
       "      <td>0</td>\n",
       "      <td>192</td>\n",
       "      <td>63.229508</td>\n",
       "      <td>0.009718</td>\n",
       "      <td>0.000166</td>\n",
       "      <td>0.003149</td>\n",
       "      <td>0.000506</td>\n",
       "      <td>0.003572</td>\n",
       "      <td>0.011640</td>\n",
       "      <td>0.000000</td>\n",
       "      <td>0.000630</td>\n",
       "      <td>0.005023</td>\n",
       "      <td>0.000217</td>\n",
       "      <td>0.000473</td>\n",
       "      <td>0.005925</td>\n",
       "      <td>0.001051</td>\n",
       "      <td>0.000000</td>\n",
       "      <td>0.000733</td>\n",
       "      <td>0.001252</td>\n",
       "      <td>0.003589</td>\n",
       "      <td>0.000558</td>\n",
       "      <td>0.0</td>\n",
       "      <td>0.019635</td>\n",
       "      <td>0.046909</td>\n",
       "      <td>0.0772</td>\n",
       "      <td>2.0</td>\n",
       "      <td>14193.0</td>\n",
       "    </tr>\n",
       "    <tr>\n",
       "      <th>2</th>\n",
       "      <td>2</td>\n",
       "      <td>21926899.0</td>\n",
       "      <td>58d5a8467c459f24986d651e</td>\n",
       "      <td>1.0</td>\n",
       "      <td>1280.0</td>\n",
       "      <td>0.0</td>\n",
       "      <td>0</td>\n",
       "      <td>1.490447e+09</td>\n",
       "      <td>1258177.0</td>\n",
       "      <td>16.750000</td>\n",
       "      <td>1</td>\n",
       "      <td>0</td>\n",
       "      <td>0</td>\n",
       "      <td>972</td>\n",
       "      <td>47.690141</td>\n",
       "      <td>0.028698</td>\n",
       "      <td>0.000000</td>\n",
       "      <td>0.011525</td>\n",
       "      <td>0.000475</td>\n",
       "      <td>0.000000</td>\n",
       "      <td>0.006643</td>\n",
       "      <td>0.000000</td>\n",
       "      <td>0.000227</td>\n",
       "      <td>0.003541</td>\n",
       "      <td>0.000000</td>\n",
       "      <td>0.000000</td>\n",
       "      <td>0.000000</td>\n",
       "      <td>0.000000</td>\n",
       "      <td>0.000000</td>\n",
       "      <td>0.001941</td>\n",
       "      <td>0.000000</td>\n",
       "      <td>0.003229</td>\n",
       "      <td>0.000000</td>\n",
       "      <td>0.0</td>\n",
       "      <td>0.062222</td>\n",
       "      <td>0.037570</td>\n",
       "      <td>0.8859</td>\n",
       "      <td>13.0</td>\n",
       "      <td>49834.0</td>\n",
       "    </tr>\n",
       "    <tr>\n",
       "      <th>3</th>\n",
       "      <td>3</td>\n",
       "      <td>21754576.0</td>\n",
       "      <td>58c177467c459f247962e288</td>\n",
       "      <td>2.0</td>\n",
       "      <td>1156.0</td>\n",
       "      <td>0.0</td>\n",
       "      <td>0</td>\n",
       "      <td>1.489110e+09</td>\n",
       "      <td>69116055.0</td>\n",
       "      <td>6.000000</td>\n",
       "      <td>0</td>\n",
       "      <td>0</td>\n",
       "      <td>1</td>\n",
       "      <td>219</td>\n",
       "      <td>25.200000</td>\n",
       "      <td>0.001371</td>\n",
       "      <td>0.000236</td>\n",
       "      <td>0.003169</td>\n",
       "      <td>0.000271</td>\n",
       "      <td>0.014148</td>\n",
       "      <td>0.001399</td>\n",
       "      <td>0.000000</td>\n",
       "      <td>0.001313</td>\n",
       "      <td>0.001722</td>\n",
       "      <td>0.000000</td>\n",
       "      <td>0.003034</td>\n",
       "      <td>0.000607</td>\n",
       "      <td>0.012205</td>\n",
       "      <td>0.000000</td>\n",
       "      <td>0.000000</td>\n",
       "      <td>0.002161</td>\n",
       "      <td>0.000837</td>\n",
       "      <td>0.000000</td>\n",
       "      <td>0.0</td>\n",
       "      <td>0.027738</td>\n",
       "      <td>0.035437</td>\n",
       "      <td>0.4019</td>\n",
       "      <td>2.0</td>\n",
       "      <td>35761.0</td>\n",
       "    </tr>\n",
       "    <tr>\n",
       "      <th>4</th>\n",
       "      <td>4</td>\n",
       "      <td>21958372.0</td>\n",
       "      <td>58d955b57c459f24986d6cb6</td>\n",
       "      <td>1.0</td>\n",
       "      <td>1164.0</td>\n",
       "      <td>0.0</td>\n",
       "      <td>0</td>\n",
       "      <td>1.490720e+09</td>\n",
       "      <td>64672620.0</td>\n",
       "      <td>13.074074</td>\n",
       "      <td>1</td>\n",
       "      <td>0</td>\n",
       "      <td>0</td>\n",
       "      <td>272</td>\n",
       "      <td>21.000000</td>\n",
       "      <td>0.001967</td>\n",
       "      <td>0.000000</td>\n",
       "      <td>0.004421</td>\n",
       "      <td>0.003052</td>\n",
       "      <td>0.001543</td>\n",
       "      <td>0.006177</td>\n",
       "      <td>0.001188</td>\n",
       "      <td>0.000165</td>\n",
       "      <td>0.002419</td>\n",
       "      <td>0.000239</td>\n",
       "      <td>0.000190</td>\n",
       "      <td>0.000157</td>\n",
       "      <td>0.005606</td>\n",
       "      <td>0.000000</td>\n",
       "      <td>0.000465</td>\n",
       "      <td>0.001263</td>\n",
       "      <td>0.000601</td>\n",
       "      <td>0.000415</td>\n",
       "      <td>0.0</td>\n",
       "      <td>0.010120</td>\n",
       "      <td>0.019401</td>\n",
       "      <td>0.2617</td>\n",
       "      <td>16.0</td>\n",
       "      <td>82169.0</td>\n",
       "    </tr>\n",
       "  </tbody>\n",
       "</table>\n",
       "</div>"
      ],
      "text/plain": [
       "   Unnamed: 0   commentID                 articleID  depth  articleWordCount  \\\n",
       "0           0  21747131.0  58c110947c459f247962e12a    1.0            2229.0   \n",
       "1           1  21783288.0  58c6487b7c459f247a912fb9    1.0             821.0   \n",
       "2           2  21926899.0  58d5a8467c459f24986d651e    1.0            1280.0   \n",
       "3           3  21754576.0  58c177467c459f247962e288    2.0            1156.0   \n",
       "4           4  21958372.0  58d955b57c459f24986d6cb6    1.0            1164.0   \n",
       "\n",
       "   replyCount  editorsSelection    createDate      userID   ratioUID  comment  \\\n",
       "0         0.0                 0  1.489072e+09  12816599.0   0.000000        1   \n",
       "1         1.0                 0  1.489404e+09  63823446.0  12.000000        1   \n",
       "2         0.0                 0  1.490447e+09   1258177.0  16.750000        1   \n",
       "3         0.0                 0  1.489110e+09  69116055.0   6.000000        0   \n",
       "4         0.0                 0  1.490720e+09  64672620.0  13.074074        1   \n",
       "\n",
       "   reporterReply  userReply  word_count  ratio_comment_article         0  \\\n",
       "0              0          0        1029              27.060606  0.028413   \n",
       "1              0          0         192              63.229508  0.009718   \n",
       "2              0          0         972              47.690141  0.028698   \n",
       "3              0          1         219              25.200000  0.001371   \n",
       "4              0          0         272              21.000000  0.001967   \n",
       "\n",
       "          1         2         3         4         5         6         7  \\\n",
       "0  0.000000  0.003128  0.000000  0.006175  0.000989  0.000000  0.001293   \n",
       "1  0.000166  0.003149  0.000506  0.003572  0.011640  0.000000  0.000630   \n",
       "2  0.000000  0.011525  0.000475  0.000000  0.006643  0.000000  0.000227   \n",
       "3  0.000236  0.003169  0.000271  0.014148  0.001399  0.000000  0.001313   \n",
       "4  0.000000  0.004421  0.003052  0.001543  0.006177  0.001188  0.000165   \n",
       "\n",
       "          8         9        10        11        12        13        14  \\\n",
       "0  0.000684  0.000000  0.000000  0.000330  0.000309  0.000441  0.000000   \n",
       "1  0.005023  0.000217  0.000473  0.005925  0.001051  0.000000  0.000733   \n",
       "2  0.003541  0.000000  0.000000  0.000000  0.000000  0.000000  0.001941   \n",
       "3  0.001722  0.000000  0.003034  0.000607  0.012205  0.000000  0.000000   \n",
       "4  0.002419  0.000239  0.000190  0.000157  0.005606  0.000000  0.000465   \n",
       "\n",
       "         15        16        17   18        19  articleRelevance  Sentiment  \\\n",
       "0  0.000000  0.020050  0.001022  0.0  0.038121         -0.001510     0.9838   \n",
       "1  0.001252  0.003589  0.000558  0.0  0.019635          0.046909     0.0772   \n",
       "2  0.000000  0.003229  0.000000  0.0  0.062222          0.037570     0.8859   \n",
       "3  0.002161  0.000837  0.000000  0.0  0.027738          0.035437     0.4019   \n",
       "4  0.001263  0.000601  0.000415  0.0  0.010120          0.019401     0.2617   \n",
       "\n",
       "   recommendations  createDateN  \n",
       "0              0.0      23824.0  \n",
       "1              2.0      14193.0  \n",
       "2             13.0      49834.0  \n",
       "3              2.0      35761.0  \n",
       "4             16.0      82169.0  "
      ]
     },
     "execution_count": 183,
     "metadata": {
      "tags": []
     },
     "output_type": "execute_result"
    }
   ],
   "source": [
    "test2.head()"
   ]
  },
  {
   "cell_type": "code",
   "execution_count": 0,
   "metadata": {
    "colab": {
     "base_uri": "https://localhost:8080/",
     "height": 746
    },
    "colab_type": "code",
    "id": "d6k7o0Gme6Ro",
    "outputId": "fdb54630-f4b9-49b1-9cb6-5b8221a63caa"
   },
   "outputs": [
    {
     "data": {
      "text/plain": [
       "commentID                0\n",
       "createDate               0\n",
       "articleWordCount         0\n",
       "depth                    0\n",
       "recommendations          0\n",
       "replyCount               0\n",
       "userTitleRC              0\n",
       "userIDRC                 0\n",
       "editorsSelection         0\n",
       "ratio_comment_article    0\n",
       "word_count               0\n",
       "comment                  0\n",
       "reporterReply            0\n",
       "userReply                0\n",
       "0_LDA                    0\n",
       "1_LDA                    0\n",
       "2_LDA                    0\n",
       "3_LDA                    0\n",
       "4_LDA                    0\n",
       "5_LDA                    0\n",
       "6_LDA                    0\n",
       "7_LDA                    0\n",
       "8_LDA                    0\n",
       "9_LDA                    0\n",
       "10_LDA                   0\n",
       "11_LDA                   0\n",
       "12_LDA                   0\n",
       "13_LDA                   0\n",
       "14_LDA                   0\n",
       "15_LDA                   0\n",
       "16_LDA                   0\n",
       "17_LDA                   0\n",
       "18_LDA                   0\n",
       "19_LDA                   0\n",
       "articleID                0\n",
       "articleRelevance         0\n",
       "Sentiment                0\n",
       "createDateN              0\n",
       "dtype: int64"
      ]
     },
     "execution_count": 184,
     "metadata": {
      "tags": []
     },
     "output_type": "execute_result"
    }
   ],
   "source": [
    "train2.drop_duplicates().isna().sum()"
   ]
  },
  {
   "cell_type": "code",
   "execution_count": 0,
   "metadata": {
    "colab": {},
    "colab_type": "code",
    "id": "Dk6R2ksGs2Nh"
   },
   "outputs": [],
   "source": [
    "train2['createDate']=train2['createDateN']\n",
    "test2['createDate']=test2['createDateN']\n",
    "train2 = train2.drop('createDateN',axis=1)\n",
    "test2 = test2.drop('createDateN',axis=1)"
   ]
  },
  {
   "cell_type": "code",
   "execution_count": 0,
   "metadata": {
    "colab": {},
    "colab_type": "code",
    "id": "8cNBGq9gwiEa"
   },
   "outputs": [],
   "source": [
    "train2['createDate'][train2['createDate']>1000000]=1000000\n",
    "test2['createDate'][test2['createDate']>1000000]=1000000"
   ]
  },
  {
   "cell_type": "code",
   "execution_count": 0,
   "metadata": {
    "colab": {},
    "colab_type": "code",
    "id": "kpGLLF14dof0"
   },
   "outputs": [],
   "source": [
    "# df = df[np.isfinite(df['EPS'])]"
   ]
  },
  {
   "cell_type": "code",
   "execution_count": 0,
   "metadata": {
    "colab": {
     "base_uri": "https://localhost:8080/",
     "height": 36
    },
    "colab_type": "code",
    "id": "4QjVS5BHdyNL",
    "outputId": "2cc58420-d6fb-473e-bd2d-2ff1c526a06d"
   },
   "outputs": [
    {
     "data": {
      "text/plain": [
       "(143849, 37)"
      ]
     },
     "execution_count": 188,
     "metadata": {
      "tags": []
     },
     "output_type": "execute_result"
    }
   ],
   "source": [
    "train2.shape"
   ]
  },
  {
   "cell_type": "code",
   "execution_count": 0,
   "metadata": {
    "colab": {
     "base_uri": "https://localhost:8080/",
     "height": 727
    },
    "colab_type": "code",
    "id": "njjFJPwidsLG",
    "outputId": "8916893e-9308-4d9f-f034-a17011aeea8e"
   },
   "outputs": [
    {
     "data": {
      "text/plain": [
       "commentID                0\n",
       "createDate               0\n",
       "articleWordCount         0\n",
       "depth                    0\n",
       "recommendations          0\n",
       "replyCount               0\n",
       "userTitleRC              0\n",
       "userIDRC                 0\n",
       "editorsSelection         0\n",
       "ratio_comment_article    0\n",
       "word_count               0\n",
       "comment                  0\n",
       "reporterReply            0\n",
       "userReply                0\n",
       "0_LDA                    0\n",
       "1_LDA                    0\n",
       "2_LDA                    0\n",
       "3_LDA                    0\n",
       "4_LDA                    0\n",
       "5_LDA                    0\n",
       "6_LDA                    0\n",
       "7_LDA                    0\n",
       "8_LDA                    0\n",
       "9_LDA                    0\n",
       "10_LDA                   0\n",
       "11_LDA                   0\n",
       "12_LDA                   0\n",
       "13_LDA                   0\n",
       "14_LDA                   0\n",
       "15_LDA                   0\n",
       "16_LDA                   0\n",
       "17_LDA                   0\n",
       "18_LDA                   0\n",
       "19_LDA                   0\n",
       "articleID                0\n",
       "articleRelevance         0\n",
       "Sentiment                0\n",
       "dtype: int64"
      ]
     },
     "execution_count": 189,
     "metadata": {
      "tags": []
     },
     "output_type": "execute_result"
    }
   ],
   "source": [
    "train2.isna().sum()"
   ]
  },
  {
   "cell_type": "code",
   "execution_count": 0,
   "metadata": {
    "colab": {},
    "colab_type": "code",
    "id": "IPXhp_ACx6oZ"
   },
   "outputs": [],
   "source": [
    "test2=test2.fillna(0)"
   ]
  },
  {
   "cell_type": "code",
   "execution_count": 0,
   "metadata": {
    "colab": {
     "base_uri": "https://localhost:8080/",
     "height": 746
    },
    "colab_type": "code",
    "id": "mN_zV12lxMVc",
    "outputId": "288a28cf-bcf9-46e5-f5c8-9c391f2c0b13"
   },
   "outputs": [
    {
     "data": {
      "text/plain": [
       "Unnamed: 0               0\n",
       "commentID                0\n",
       "articleID                0\n",
       "depth                    0\n",
       "articleWordCount         0\n",
       "replyCount               0\n",
       "editorsSelection         0\n",
       "createDate               0\n",
       "userID                   0\n",
       "ratioUID                 0\n",
       "comment                  0\n",
       "reporterReply            0\n",
       "userReply                0\n",
       "word_count               0\n",
       "ratio_comment_article    0\n",
       "0                        0\n",
       "1                        0\n",
       "2                        0\n",
       "3                        0\n",
       "4                        0\n",
       "5                        0\n",
       "6                        0\n",
       "7                        0\n",
       "8                        0\n",
       "9                        0\n",
       "10                       0\n",
       "11                       0\n",
       "12                       0\n",
       "13                       0\n",
       "14                       0\n",
       "15                       0\n",
       "16                       0\n",
       "17                       0\n",
       "18                       0\n",
       "19                       0\n",
       "articleRelevance         0\n",
       "Sentiment                0\n",
       "recommendations          0\n",
       "dtype: int64"
      ]
     },
     "execution_count": 191,
     "metadata": {
      "tags": []
     },
     "output_type": "execute_result"
    }
   ],
   "source": [
    "test2.drop_duplicates().isna().sum()"
   ]
  },
  {
   "cell_type": "code",
   "execution_count": 0,
   "metadata": {
    "colab": {
     "base_uri": "https://localhost:8080/",
     "height": 36
    },
    "colab_type": "code",
    "id": "JIIGXQiqx5On",
    "outputId": "c60c3dcb-84ff-41ba-dee8-4010628ecbdd"
   },
   "outputs": [
    {
     "data": {
      "text/plain": [
       "(143849, 37)"
      ]
     },
     "execution_count": 192,
     "metadata": {
      "tags": []
     },
     "output_type": "execute_result"
    }
   ],
   "source": [
    "train2.shape"
   ]
  },
  {
   "cell_type": "code",
   "execution_count": 0,
   "metadata": {
    "colab": {},
    "colab_type": "code",
    "id": "0LBI1IfiybV-"
   },
   "outputs": [],
   "source": [
    "train2=train2.drop(['userTitleRC'],axis=1,errors='ignore')\n",
    "test2=test2.drop(['userTitleRC'],axis=1,errors='ignore')"
   ]
  },
  {
   "cell_type": "code",
   "execution_count": 0,
   "metadata": {
    "colab": {
     "base_uri": "https://localhost:8080/",
     "height": 101
    },
    "colab_type": "code",
    "id": "Y9jJzlGlySKu",
    "outputId": "9a521258-2d61-4da2-cd45-0dbf73781099"
   },
   "outputs": [
    {
     "data": {
      "text/html": [
       "<div>\n",
       "<style scoped>\n",
       "    .dataframe tbody tr th:only-of-type {\n",
       "        vertical-align: middle;\n",
       "    }\n",
       "\n",
       "    .dataframe tbody tr th {\n",
       "        vertical-align: top;\n",
       "    }\n",
       "\n",
       "    .dataframe thead th {\n",
       "        text-align: right;\n",
       "    }\n",
       "</style>\n",
       "<table border=\"1\" class=\"dataframe\">\n",
       "  <thead>\n",
       "    <tr style=\"text-align: right;\">\n",
       "      <th></th>\n",
       "      <th>commentID</th>\n",
       "      <th>createDate</th>\n",
       "      <th>articleWordCount</th>\n",
       "      <th>depth</th>\n",
       "      <th>recommendations</th>\n",
       "      <th>replyCount</th>\n",
       "      <th>userIDRC</th>\n",
       "      <th>editorsSelection</th>\n",
       "      <th>ratio_comment_article</th>\n",
       "      <th>word_count</th>\n",
       "      <th>comment</th>\n",
       "      <th>reporterReply</th>\n",
       "      <th>userReply</th>\n",
       "      <th>0_LDA</th>\n",
       "      <th>1_LDA</th>\n",
       "      <th>2_LDA</th>\n",
       "      <th>3_LDA</th>\n",
       "      <th>4_LDA</th>\n",
       "      <th>5_LDA</th>\n",
       "      <th>6_LDA</th>\n",
       "      <th>7_LDA</th>\n",
       "      <th>8_LDA</th>\n",
       "      <th>9_LDA</th>\n",
       "      <th>10_LDA</th>\n",
       "      <th>11_LDA</th>\n",
       "      <th>12_LDA</th>\n",
       "      <th>13_LDA</th>\n",
       "      <th>14_LDA</th>\n",
       "      <th>15_LDA</th>\n",
       "      <th>16_LDA</th>\n",
       "      <th>17_LDA</th>\n",
       "      <th>18_LDA</th>\n",
       "      <th>19_LDA</th>\n",
       "      <th>articleID</th>\n",
       "      <th>articleRelevance</th>\n",
       "      <th>Sentiment</th>\n",
       "    </tr>\n",
       "  </thead>\n",
       "  <tbody>\n",
       "    <tr>\n",
       "      <th>0</th>\n",
       "      <td>21059310.0</td>\n",
       "      <td>9070.0</td>\n",
       "      <td>1254.0</td>\n",
       "      <td>1.0</td>\n",
       "      <td>17.0</td>\n",
       "      <td>0.0</td>\n",
       "      <td>0.0</td>\n",
       "      <td>0.0</td>\n",
       "      <td>592.0</td>\n",
       "      <td>327.0</td>\n",
       "      <td>1.0</td>\n",
       "      <td>0.0</td>\n",
       "      <td>0.0</td>\n",
       "      <td>0.015234</td>\n",
       "      <td>0.0</td>\n",
       "      <td>0.001474</td>\n",
       "      <td>0.002076</td>\n",
       "      <td>0.000541</td>\n",
       "      <td>0.012121</td>\n",
       "      <td>0.006296</td>\n",
       "      <td>0.0</td>\n",
       "      <td>0.00051</td>\n",
       "      <td>0.0</td>\n",
       "      <td>0.0</td>\n",
       "      <td>0.000207</td>\n",
       "      <td>0.108492</td>\n",
       "      <td>0.0</td>\n",
       "      <td>0.0004</td>\n",
       "      <td>0.000469</td>\n",
       "      <td>0.00032</td>\n",
       "      <td>0.000157</td>\n",
       "      <td>0.0</td>\n",
       "      <td>0.001834</td>\n",
       "      <td>587575d295d0e0392607a033</td>\n",
       "      <td>0.035309</td>\n",
       "      <td>0.4767</td>\n",
       "    </tr>\n",
       "  </tbody>\n",
       "</table>\n",
       "</div>"
      ],
      "text/plain": [
       "    commentID  createDate  articleWordCount  depth  recommendations  \\\n",
       "0  21059310.0      9070.0            1254.0    1.0             17.0   \n",
       "\n",
       "   replyCount  userIDRC  editorsSelection  ratio_comment_article  word_count  \\\n",
       "0         0.0       0.0               0.0                  592.0       327.0   \n",
       "\n",
       "   comment  reporterReply  userReply     0_LDA  1_LDA     2_LDA     3_LDA  \\\n",
       "0      1.0            0.0        0.0  0.015234    0.0  0.001474  0.002076   \n",
       "\n",
       "      4_LDA     5_LDA     6_LDA  7_LDA    8_LDA  9_LDA  10_LDA    11_LDA  \\\n",
       "0  0.000541  0.012121  0.006296    0.0  0.00051    0.0     0.0  0.000207   \n",
       "\n",
       "     12_LDA  13_LDA  14_LDA    15_LDA   16_LDA    17_LDA  18_LDA    19_LDA  \\\n",
       "0  0.108492     0.0  0.0004  0.000469  0.00032  0.000157     0.0  0.001834   \n",
       "\n",
       "                  articleID  articleRelevance  Sentiment  \n",
       "0  587575d295d0e0392607a033          0.035309     0.4767  "
      ]
     },
     "execution_count": 194,
     "metadata": {
      "tags": []
     },
     "output_type": "execute_result"
    }
   ],
   "source": [
    "train2.head(1)"
   ]
  },
  {
   "cell_type": "code",
   "execution_count": 0,
   "metadata": {
    "colab": {
     "base_uri": "https://localhost:8080/",
     "height": 118
    },
    "colab_type": "code",
    "id": "lJg1E4zoykR-",
    "outputId": "496a30f1-eb40-4773-d0c3-9677a966afb9"
   },
   "outputs": [
    {
     "data": {
      "text/html": [
       "<div>\n",
       "<style scoped>\n",
       "    .dataframe tbody tr th:only-of-type {\n",
       "        vertical-align: middle;\n",
       "    }\n",
       "\n",
       "    .dataframe tbody tr th {\n",
       "        vertical-align: top;\n",
       "    }\n",
       "\n",
       "    .dataframe thead th {\n",
       "        text-align: right;\n",
       "    }\n",
       "</style>\n",
       "<table border=\"1\" class=\"dataframe\">\n",
       "  <thead>\n",
       "    <tr style=\"text-align: right;\">\n",
       "      <th></th>\n",
       "      <th>Unnamed: 0</th>\n",
       "      <th>commentID</th>\n",
       "      <th>articleID</th>\n",
       "      <th>depth</th>\n",
       "      <th>articleWordCount</th>\n",
       "      <th>replyCount</th>\n",
       "      <th>editorsSelection</th>\n",
       "      <th>createDate</th>\n",
       "      <th>userID</th>\n",
       "      <th>ratioUID</th>\n",
       "      <th>comment</th>\n",
       "      <th>reporterReply</th>\n",
       "      <th>userReply</th>\n",
       "      <th>word_count</th>\n",
       "      <th>ratio_comment_article</th>\n",
       "      <th>0</th>\n",
       "      <th>1</th>\n",
       "      <th>2</th>\n",
       "      <th>3</th>\n",
       "      <th>4</th>\n",
       "      <th>5</th>\n",
       "      <th>6</th>\n",
       "      <th>7</th>\n",
       "      <th>8</th>\n",
       "      <th>9</th>\n",
       "      <th>10</th>\n",
       "      <th>11</th>\n",
       "      <th>12</th>\n",
       "      <th>13</th>\n",
       "      <th>14</th>\n",
       "      <th>15</th>\n",
       "      <th>16</th>\n",
       "      <th>17</th>\n",
       "      <th>18</th>\n",
       "      <th>19</th>\n",
       "      <th>articleRelevance</th>\n",
       "      <th>Sentiment</th>\n",
       "      <th>recommendations</th>\n",
       "    </tr>\n",
       "  </thead>\n",
       "  <tbody>\n",
       "    <tr>\n",
       "      <th>0</th>\n",
       "      <td>0</td>\n",
       "      <td>21747131.0</td>\n",
       "      <td>58c110947c459f247962e12a</td>\n",
       "      <td>1.0</td>\n",
       "      <td>2229.0</td>\n",
       "      <td>0.0</td>\n",
       "      <td>0</td>\n",
       "      <td>23824.0</td>\n",
       "      <td>12816599.0</td>\n",
       "      <td>0.0</td>\n",
       "      <td>1</td>\n",
       "      <td>0</td>\n",
       "      <td>0</td>\n",
       "      <td>1029</td>\n",
       "      <td>27.060606</td>\n",
       "      <td>0.028413</td>\n",
       "      <td>0.0</td>\n",
       "      <td>0.003128</td>\n",
       "      <td>0.0</td>\n",
       "      <td>0.006175</td>\n",
       "      <td>0.000989</td>\n",
       "      <td>0.0</td>\n",
       "      <td>0.001293</td>\n",
       "      <td>0.000684</td>\n",
       "      <td>0.0</td>\n",
       "      <td>0.0</td>\n",
       "      <td>0.00033</td>\n",
       "      <td>0.000309</td>\n",
       "      <td>0.000441</td>\n",
       "      <td>0.0</td>\n",
       "      <td>0.0</td>\n",
       "      <td>0.02005</td>\n",
       "      <td>0.001022</td>\n",
       "      <td>0.0</td>\n",
       "      <td>0.038121</td>\n",
       "      <td>-0.00151</td>\n",
       "      <td>0.9838</td>\n",
       "      <td>0.0</td>\n",
       "    </tr>\n",
       "  </tbody>\n",
       "</table>\n",
       "</div>"
      ],
      "text/plain": [
       "   Unnamed: 0   commentID                 articleID  depth  articleWordCount  \\\n",
       "0           0  21747131.0  58c110947c459f247962e12a    1.0            2229.0   \n",
       "\n",
       "   replyCount  editorsSelection  createDate      userID  ratioUID  comment  \\\n",
       "0         0.0                 0     23824.0  12816599.0       0.0        1   \n",
       "\n",
       "   reporterReply  userReply  word_count  ratio_comment_article         0    1  \\\n",
       "0              0          0        1029              27.060606  0.028413  0.0   \n",
       "\n",
       "          2    3         4         5    6         7         8    9   10  \\\n",
       "0  0.003128  0.0  0.006175  0.000989  0.0  0.001293  0.000684  0.0  0.0   \n",
       "\n",
       "        11        12        13   14   15       16        17   18        19  \\\n",
       "0  0.00033  0.000309  0.000441  0.0  0.0  0.02005  0.001022  0.0  0.038121   \n",
       "\n",
       "   articleRelevance  Sentiment  recommendations  \n",
       "0          -0.00151     0.9838              0.0  "
      ]
     },
     "execution_count": 195,
     "metadata": {
      "tags": []
     },
     "output_type": "execute_result"
    }
   ],
   "source": [
    "test2.head(1)"
   ]
  },
  {
   "cell_type": "code",
   "execution_count": 0,
   "metadata": {
    "colab": {},
    "colab_type": "code",
    "id": "Ob00RMSsx-fB"
   },
   "outputs": [],
   "source": [
    "train2.to_csv(\"gdrive/My Drive/520_proj/preFinal/Final/CIS_520_PROJECT_DATA/TRAIN_30_11.csv\",index=False)\n",
    "test2.to_csv(\"gdrive/My Drive/520_proj/preFinal/Final/CIS_520_PROJECT_DATA/TEST_30_11.csv\",index=False)"
   ]
  },
  {
   "cell_type": "code",
   "execution_count": 0,
   "metadata": {
    "colab": {},
    "colab_type": "code",
    "id": "_Ky02nQ001Tq"
   },
   "outputs": [],
   "source": []
  }
 ],
 "metadata": {
  "colab": {
   "collapsed_sections": [],
   "name": "createDate Creating 30_11 data.ipynb",
   "provenance": []
  },
  "kernelspec": {
   "display_name": "Python 3",
   "language": "python",
   "name": "python3"
  },
  "language_info": {
   "codemirror_mode": {
    "name": "ipython",
    "version": 3
   },
   "file_extension": ".py",
   "mimetype": "text/x-python",
   "name": "python",
   "nbconvert_exporter": "python",
   "pygments_lexer": "ipython3",
   "version": "3.7.3"
  }
 },
 "nbformat": 4,
 "nbformat_minor": 1
}
