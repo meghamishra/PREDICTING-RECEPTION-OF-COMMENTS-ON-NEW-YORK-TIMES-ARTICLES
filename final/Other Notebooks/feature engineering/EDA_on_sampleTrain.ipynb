{
  "nbformat": 4,
  "nbformat_minor": 0,
  "metadata": {
    "colab": {
      "name": "EDA_on_sampleTrain.ipynb",
      "provenance": [],
      "collapsed_sections": []
    },
    "kernelspec": {
      "name": "python3",
      "display_name": "Python 3"
    }
  },
  "cells": [
    {
      "cell_type": "code",
      "metadata": {
        "id": "vOBquw34pB3M",
        "colab_type": "code",
        "outputId": "d1a44787-e19d-401f-9084-239b3f9b9549",
        "colab": {
          "base_uri": "https://localhost:8080/",
          "height": 124
        }
      },
      "source": [
        "from google.colab import drive\n",
        "drive.mount('/content/gdrive')"
      ],
      "execution_count": 0,
      "outputs": [
        {
          "output_type": "stream",
          "text": [
            "Go to this URL in a browser: https://accounts.google.com/o/oauth2/auth?client_id=947318989803-6bn6qk8qdgf4n4g3pfee6491hc0brc4i.apps.googleusercontent.com&redirect_uri=urn%3aietf%3awg%3aoauth%3a2.0%3aoob&response_type=code&scope=email%20https%3a%2f%2fwww.googleapis.com%2fauth%2fdocs.test%20https%3a%2f%2fwww.googleapis.com%2fauth%2fdrive%20https%3a%2f%2fwww.googleapis.com%2fauth%2fdrive.photos.readonly%20https%3a%2f%2fwww.googleapis.com%2fauth%2fpeopleapi.readonly\n",
            "\n",
            "Enter your authorization code:\n",
            "··········\n",
            "Mounted at /content/gdrive\n"
          ],
          "name": "stdout"
        }
      ]
    },
    {
      "cell_type": "code",
      "metadata": {
        "id": "TS7soM-zvOgL",
        "colab_type": "code",
        "colab": {}
      },
      "source": [
        "import pandas as pd\n",
        "import seaborn as sns\n",
        "import matplotlib.pyplot as plt\n",
        "from matplotlib.pyplot import pie, axis, show\n"
      ],
      "execution_count": 0,
      "outputs": []
    },
    {
      "cell_type": "code",
      "metadata": {
        "id": "P_ZO4DU9vloX",
        "colab_type": "code",
        "colab": {}
      },
      "source": [
        "df1=pd.read_csv('gdrive/My Drive/520_proj/preFinal/CIS_520_PROJECT_DATA/Train_without_LDA_preserveing_rows.csv')\n"
      ],
      "execution_count": 0,
      "outputs": []
    },
    {
      "cell_type": "code",
      "metadata": {
        "id": "KIt1QPAAKZg4",
        "colab_type": "code",
        "outputId": "ba048a0f-651c-4758-a11e-de268f0c2989",
        "colab": {
          "base_uri": "https://localhost:8080/",
          "height": 903
        }
      },
      "source": [
        "df1.recommendations.value_counts()"
      ],
      "execution_count": 0,
      "outputs": [
        {
          "output_type": "execute_result",
          "data": {
            "text/plain": [
              "0.0     26356\n",
              "1.0     20534\n",
              "2.0     15705\n",
              "3.0     11955\n",
              "4.0      9389\n",
              "5.0      7483\n",
              "6.0      6130\n",
              "7.0      5066\n",
              "8.0      4375\n",
              "9.0      3645\n",
              "10.0     3153\n",
              "11.0     2687\n",
              "12.0     2408\n",
              "13.0     2141\n",
              "14.0     1826\n",
              "15.0     1686\n",
              "16.0     1463\n",
              "17.0     1275\n",
              "18.0     1239\n",
              "19.0     1042\n",
              "20.0     1013\n",
              "21.0      939\n",
              "22.0      810\n",
              "23.0      780\n",
              "24.0      647\n",
              "26.0      600\n",
              "25.0      597\n",
              "27.0      545\n",
              "28.0      508\n",
              "29.0      486\n",
              "30.0      427\n",
              "31.0      405\n",
              "32.0      405\n",
              "34.0      343\n",
              "35.0      337\n",
              "33.0      328\n",
              "37.0      320\n",
              "38.0      306\n",
              "36.0      295\n",
              "39.0      279\n",
              "40.0      258\n",
              "41.0      254\n",
              "42.0      225\n",
              "43.0      212\n",
              "47.0      206\n",
              "44.0      194\n",
              "46.0      192\n",
              "45.0      191\n",
              "49.0      174\n",
              "48.0      160\n",
              "Name: recommendations, dtype: int64"
            ]
          },
          "metadata": {
            "tags": []
          },
          "execution_count": 14
        }
      ]
    },
    {
      "cell_type": "code",
      "metadata": {
        "id": "hPDP_xjTD_FV",
        "colab_type": "code",
        "outputId": "2ac12e2a-ccd6-4702-d8d0-4393fe0a56ba",
        "colab": {
          "base_uri": "https://localhost:8080/",
          "height": 296
        }
      },
      "source": [
        "sns.distplot(df1.recommendations) #######"
      ],
      "execution_count": 0,
      "outputs": [
        {
          "output_type": "execute_result",
          "data": {
            "text/plain": [
              "<matplotlib.axes._subplots.AxesSubplot at 0x7fcd663f9860>"
            ]
          },
          "metadata": {
            "tags": []
          },
          "execution_count": 5
        },
        {
          "output_type": "display_data",
          "data": {
            "image/png": "[encoded data removed]",
            "text/plain": [
              "<Figure size 432x288 with 1 Axes>"
            ]
          },
          "metadata": {
            "tags": []
          }
        }
      ]
    },
    {
      "cell_type": "code",
      "metadata": {
        "id": "2C5EZp2TDRMV",
        "colab_type": "code",
        "outputId": "08872d5d-5ec8-41f0-e48b-3360294ba1e6",
        "colab": {
          "base_uri": "https://localhost:8080/",
          "height": 522
        }
      },
      "source": [
        "train=pd.read_csv('gdrive/My Drive/520_proj/preFinal/subSamplesTrain.csv')\n",
        "train.head()"
      ],
      "execution_count": 0,
      "outputs": [
        {
          "output_type": "stream",
          "text": [
            "/usr/local/lib/python3.6/dist-packages/IPython/core/interactiveshell.py:2718: DtypeWarning: Columns (31) have mixed types. Specify dtype option on import or set low_memory=False.\n",
            "  interactivity=interactivity, compiler=compiler, result=result)\n"
          ],
          "name": "stderr"
        },
        {
          "output_type": "execute_result",
          "data": {
            "text/html": [
              "<div>\n",
              "<style scoped>\n",
              "    .dataframe tbody tr th:only-of-type {\n",
              "        vertical-align: middle;\n",
              "    }\n",
              "\n",
              "    .dataframe tbody tr th {\n",
              "        vertical-align: top;\n",
              "    }\n",
              "\n",
              "    .dataframe thead th {\n",
              "        text-align: right;\n",
              "    }\n",
              "</style>\n",
              "<table border=\"1\" class=\"dataframe\">\n",
              "  <thead>\n",
              "    <tr style=\"text-align: right;\">\n",
              "      <th></th>\n",
              "      <th>approveDate</th>\n",
              "      <th>articleID</th>\n",
              "      <th>articleWordCount</th>\n",
              "      <th>commentBody</th>\n",
              "      <th>commentID</th>\n",
              "      <th>commentSequence</th>\n",
              "      <th>commentTitle</th>\n",
              "      <th>commentType</th>\n",
              "      <th>createDate</th>\n",
              "      <th>depth</th>\n",
              "      <th>editorsSelection</th>\n",
              "      <th>inReplyTo</th>\n",
              "      <th>newDesk</th>\n",
              "      <th>parentID</th>\n",
              "      <th>parentUserDisplayName</th>\n",
              "      <th>permID</th>\n",
              "      <th>picURL</th>\n",
              "      <th>printPage</th>\n",
              "      <th>recommendations</th>\n",
              "      <th>recommendedFlag</th>\n",
              "      <th>replyCount</th>\n",
              "      <th>reportAbuseFlag</th>\n",
              "      <th>sectionName</th>\n",
              "      <th>sharing</th>\n",
              "      <th>status</th>\n",
              "      <th>timespeople</th>\n",
              "      <th>trusted</th>\n",
              "      <th>updateDate</th>\n",
              "      <th>userDisplayName</th>\n",
              "      <th>userID</th>\n",
              "      <th>userLocation</th>\n",
              "      <th>userTitle</th>\n",
              "      <th>userURL</th>\n",
              "      <th>typeOfMaterial</th>\n",
              "    </tr>\n",
              "  </thead>\n",
              "  <tbody>\n",
              "    <tr>\n",
              "      <th>0</th>\n",
              "      <td>1484106834</td>\n",
              "      <td>587575d295d0e0392607a033</td>\n",
              "      <td>1254.0</td>\n",
              "      <td>Why isn't this the lead?&lt;br/&gt;\"The memos descri...</td>\n",
              "      <td>21059310.0</td>\n",
              "      <td>21059310.0</td>\n",
              "      <td>&lt;br/&gt;</td>\n",
              "      <td>comment</td>\n",
              "      <td>1.484102e+09</td>\n",
              "      <td>1.0</td>\n",
              "      <td>0</td>\n",
              "      <td>0</td>\n",
              "      <td>National</td>\n",
              "      <td>0.0</td>\n",
              "      <td>NaN</td>\n",
              "      <td>21059310</td>\n",
              "      <td>https://graphics8.nytimes.com/images/apps/time...</td>\n",
              "      <td>1</td>\n",
              "      <td>17.0</td>\n",
              "      <td>NaN</td>\n",
              "      <td>0.0</td>\n",
              "      <td>NaN</td>\n",
              "      <td>Politics</td>\n",
              "      <td>0</td>\n",
              "      <td>approved</td>\n",
              "      <td>1.0</td>\n",
              "      <td>0.0</td>\n",
              "      <td>1484106834</td>\n",
              "      <td>TRT</td>\n",
              "      <td>4188784.0</td>\n",
              "      <td>Illinois</td>\n",
              "      <td>NaN</td>\n",
              "      <td>NaN</td>\n",
              "      <td>News</td>\n",
              "    </tr>\n",
              "    <tr>\n",
              "      <th>1</th>\n",
              "      <td>1483642395</td>\n",
              "      <td>586d000995d0e03926078eb2</td>\n",
              "      <td>1233.0</td>\n",
              "      <td>Then clearly the better solution is to sit on ...</td>\n",
              "      <td>20991167.0</td>\n",
              "      <td>20991167.0</td>\n",
              "      <td>&lt;br/&gt;</td>\n",
              "      <td>userReply</td>\n",
              "      <td>1.483591e+09</td>\n",
              "      <td>2.0</td>\n",
              "      <td>0</td>\n",
              "      <td>20988247</td>\n",
              "      <td>Upshot</td>\n",
              "      <td>20988247.0</td>\n",
              "      <td>vbering</td>\n",
              "      <td>20988247:20991167</td>\n",
              "      <td>https://graphics8.nytimes.com/images/apps/time...</td>\n",
              "      <td>3</td>\n",
              "      <td>3.0</td>\n",
              "      <td>NaN</td>\n",
              "      <td>0.0</td>\n",
              "      <td>NaN</td>\n",
              "      <td>Unknown</td>\n",
              "      <td>0</td>\n",
              "      <td>approved</td>\n",
              "      <td>1.0</td>\n",
              "      <td>0.0</td>\n",
              "      <td>1483642395</td>\n",
              "      <td>Raindrop</td>\n",
              "      <td>72495362.0</td>\n",
              "      <td>US</td>\n",
              "      <td>NaN</td>\n",
              "      <td>NaN</td>\n",
              "      <td>News</td>\n",
              "    </tr>\n",
              "    <tr>\n",
              "      <th>2</th>\n",
              "      <td>1483873683</td>\n",
              "      <td>5870f3c195d0e039260797a9</td>\n",
              "      <td>3637.0</td>\n",
              "      <td>It's just so discouraging to think/know I'll h...</td>\n",
              "      <td>21029387.0</td>\n",
              "      <td>21029387.0</td>\n",
              "      <td>&lt;br/&gt;</td>\n",
              "      <td>comment</td>\n",
              "      <td>1.483865e+09</td>\n",
              "      <td>1.0</td>\n",
              "      <td>0</td>\n",
              "      <td>0</td>\n",
              "      <td>National</td>\n",
              "      <td>0.0</td>\n",
              "      <td>NaN</td>\n",
              "      <td>21029387</td>\n",
              "      <td>https://graphics8.nytimes.com/images/apps/time...</td>\n",
              "      <td>1</td>\n",
              "      <td>31.0</td>\n",
              "      <td>NaN</td>\n",
              "      <td>0.0</td>\n",
              "      <td>NaN</td>\n",
              "      <td>Politics</td>\n",
              "      <td>1</td>\n",
              "      <td>approved</td>\n",
              "      <td>1.0</td>\n",
              "      <td>0.0</td>\n",
              "      <td>1483873683</td>\n",
              "      <td>gordy</td>\n",
              "      <td>34095067.0</td>\n",
              "      <td>CA</td>\n",
              "      <td>NaN</td>\n",
              "      <td>NaN</td>\n",
              "      <td>News</td>\n",
              "    </tr>\n",
              "    <tr>\n",
              "      <th>3</th>\n",
              "      <td>1484329569</td>\n",
              "      <td>5876ba6195d0e0392607a37c</td>\n",
              "      <td>999.0</td>\n",
              "      <td>In the short term, you always have to trade of...</td>\n",
              "      <td>21094261.0</td>\n",
              "      <td>21094261.0</td>\n",
              "      <td>&lt;br/&gt;</td>\n",
              "      <td>comment</td>\n",
              "      <td>1.484330e+09</td>\n",
              "      <td>1.0</td>\n",
              "      <td>0</td>\n",
              "      <td>0</td>\n",
              "      <td>Upshot</td>\n",
              "      <td>0.0</td>\n",
              "      <td>NaN</td>\n",
              "      <td>21094261</td>\n",
              "      <td>https://graphics8.nytimes.com/images/apps/time...</td>\n",
              "      <td>1</td>\n",
              "      <td>1.0</td>\n",
              "      <td>NaN</td>\n",
              "      <td>5.0</td>\n",
              "      <td>NaN</td>\n",
              "      <td>Unknown</td>\n",
              "      <td>0</td>\n",
              "      <td>approved</td>\n",
              "      <td>1.0</td>\n",
              "      <td>0.0</td>\n",
              "      <td>1484329569</td>\n",
              "      <td>Chao</td>\n",
              "      <td>7949090.0</td>\n",
              "      <td>Lafayette, CO</td>\n",
              "      <td>NaN</td>\n",
              "      <td>NaN</td>\n",
              "      <td>News</td>\n",
              "    </tr>\n",
              "    <tr>\n",
              "      <th>4</th>\n",
              "      <td>1484170327</td>\n",
              "      <td>58761acf95d0e0392607a191</td>\n",
              "      <td>810.0</td>\n",
              "      <td>Jamespb4, you just won my \"human\" award for to...</td>\n",
              "      <td>21071133.0</td>\n",
              "      <td>21071133.0</td>\n",
              "      <td>&lt;br/&gt;</td>\n",
              "      <td>userReply</td>\n",
              "      <td>1.484170e+09</td>\n",
              "      <td>2.0</td>\n",
              "      <td>0</td>\n",
              "      <td>21070865</td>\n",
              "      <td>Upshot</td>\n",
              "      <td>21070865.0</td>\n",
              "      <td>Jamespb4</td>\n",
              "      <td>21070865:21071133</td>\n",
              "      <td>https://graphics8.nytimes.com/images/apps/time...</td>\n",
              "      <td>3</td>\n",
              "      <td>22.0</td>\n",
              "      <td>NaN</td>\n",
              "      <td>0.0</td>\n",
              "      <td>NaN</td>\n",
              "      <td>Unknown</td>\n",
              "      <td>0</td>\n",
              "      <td>approved</td>\n",
              "      <td>1.0</td>\n",
              "      <td>1.0</td>\n",
              "      <td>1484170327</td>\n",
              "      <td>njglea</td>\n",
              "      <td>60025659.0</td>\n",
              "      <td>Seattle</td>\n",
              "      <td>NaN</td>\n",
              "      <td>NaN</td>\n",
              "      <td>News</td>\n",
              "    </tr>\n",
              "  </tbody>\n",
              "</table>\n",
              "</div>"
            ],
            "text/plain": [
              "   approveDate                 articleID  ...  userURL typeOfMaterial\n",
              "0   1484106834  587575d295d0e0392607a033  ...      NaN           News\n",
              "1   1483642395  586d000995d0e03926078eb2  ...      NaN           News\n",
              "2   1483873683  5870f3c195d0e039260797a9  ...      NaN           News\n",
              "3   1484329569  5876ba6195d0e0392607a37c  ...      NaN           News\n",
              "4   1484170327  58761acf95d0e0392607a191  ...      NaN           News\n",
              "\n",
              "[5 rows x 34 columns]"
            ]
          },
          "metadata": {
            "tags": []
          },
          "execution_count": 4
        }
      ]
    },
    {
      "cell_type": "code",
      "metadata": {
        "id": "1WQ07i-izRU7",
        "colab_type": "code",
        "colab": {}
      },
      "source": [
        "df_eda=  df1[['174',\n",
        "  'createDate',\n",
        " 'articleWordCount',\n",
        " 'depth',\n",
        " 'recommendations',\n",
        " 'replyCount',\n",
        " 'userTitleRC',\n",
        " 'userIDRC',\n",
        " 'editorsSelection',\n",
        " 'ratio_comment_article',\n",
        " 'word_count',\n",
        " 'comment',\n",
        " 'reporterReply',\n",
        " 'userReply']]"
      ],
      "execution_count": 0,
      "outputs": []
    },
    {
      "cell_type": "code",
      "metadata": {
        "id": "qckqdy3xyqbs",
        "colab_type": "code",
        "outputId": "a4f707ae-72ba-4265-8e82-71ca3ceb7fb2",
        "colab": {
          "base_uri": "https://localhost:8080/",
          "height": 320
        }
      },
      "source": [
        "df_eda.describe()"
      ],
      "execution_count": 0,
      "outputs": [
        {
          "output_type": "execute_result",
          "data": {
            "text/html": [
              "<div>\n",
              "<style scoped>\n",
              "    .dataframe tbody tr th:only-of-type {\n",
              "        vertical-align: middle;\n",
              "    }\n",
              "\n",
              "    .dataframe tbody tr th {\n",
              "        vertical-align: top;\n",
              "    }\n",
              "\n",
              "    .dataframe thead th {\n",
              "        text-align: right;\n",
              "    }\n",
              "</style>\n",
              "<table border=\"1\" class=\"dataframe\">\n",
              "  <thead>\n",
              "    <tr style=\"text-align: right;\">\n",
              "      <th></th>\n",
              "      <th>174</th>\n",
              "      <th>createDate</th>\n",
              "      <th>articleWordCount</th>\n",
              "      <th>depth</th>\n",
              "      <th>recommendations</th>\n",
              "      <th>replyCount</th>\n",
              "      <th>userTitleRC</th>\n",
              "      <th>userIDRC</th>\n",
              "      <th>editorsSelection</th>\n",
              "      <th>ratio_comment_article</th>\n",
              "      <th>word_count</th>\n",
              "      <th>comment</th>\n",
              "      <th>reporterReply</th>\n",
              "      <th>userReply</th>\n",
              "    </tr>\n",
              "  </thead>\n",
              "  <tbody>\n",
              "    <tr>\n",
              "      <th>count</th>\n",
              "      <td>151202.000000</td>\n",
              "      <td>1.512020e+05</td>\n",
              "      <td>151202.000000</td>\n",
              "      <td>151202.000000</td>\n",
              "      <td>151202.000000</td>\n",
              "      <td>151202.000000</td>\n",
              "      <td>151202.000000</td>\n",
              "      <td>151202.000000</td>\n",
              "      <td>151202.000000</td>\n",
              "      <td>146876.000000</td>\n",
              "      <td>151202.000000</td>\n",
              "      <td>151202.000000</td>\n",
              "      <td>151202.000000</td>\n",
              "      <td>151202.000000</td>\n",
              "    </tr>\n",
              "    <tr>\n",
              "      <th>mean</th>\n",
              "      <td>0.051133</td>\n",
              "      <td>8.179575e+04</td>\n",
              "      <td>1227.037777</td>\n",
              "      <td>1.255142</td>\n",
              "      <td>20.741075</td>\n",
              "      <td>0.463493</td>\n",
              "      <td>0.000331</td>\n",
              "      <td>20.743758</td>\n",
              "      <td>0.018697</td>\n",
              "      <td>81.572642</td>\n",
              "      <td>432.891251</td>\n",
              "      <td>0.746941</td>\n",
              "      <td>0.000053</td>\n",
              "      <td>0.253006</td>\n",
              "    </tr>\n",
              "    <tr>\n",
              "      <th>std</th>\n",
              "      <td>0.633504</td>\n",
              "      <td>7.785789e+05</td>\n",
              "      <td>795.801593</td>\n",
              "      <td>0.440695</td>\n",
              "      <td>109.898691</td>\n",
              "      <td>2.357134</td>\n",
              "      <td>0.059760</td>\n",
              "      <td>69.802597</td>\n",
              "      <td>0.135453</td>\n",
              "      <td>125.345541</td>\n",
              "      <td>375.498719</td>\n",
              "      <td>0.434766</td>\n",
              "      <td>0.007274</td>\n",
              "      <td>0.434736</td>\n",
              "    </tr>\n",
              "    <tr>\n",
              "      <th>min</th>\n",
              "      <td>-0.999400</td>\n",
              "      <td>0.000000e+00</td>\n",
              "      <td>11.000000</td>\n",
              "      <td>1.000000</td>\n",
              "      <td>0.000000</td>\n",
              "      <td>0.000000</td>\n",
              "      <td>0.000000</td>\n",
              "      <td>0.000000</td>\n",
              "      <td>0.000000</td>\n",
              "      <td>0.142857</td>\n",
              "      <td>2.000000</td>\n",
              "      <td>0.000000</td>\n",
              "      <td>0.000000</td>\n",
              "      <td>0.000000</td>\n",
              "    </tr>\n",
              "    <tr>\n",
              "      <th>25%</th>\n",
              "      <td>-0.540950</td>\n",
              "      <td>9.314000e+03</td>\n",
              "      <td>832.000000</td>\n",
              "      <td>1.000000</td>\n",
              "      <td>1.000000</td>\n",
              "      <td>0.000000</td>\n",
              "      <td>0.000000</td>\n",
              "      <td>3.159420</td>\n",
              "      <td>0.000000</td>\n",
              "      <td>26.538462</td>\n",
              "      <td>152.000000</td>\n",
              "      <td>0.000000</td>\n",
              "      <td>0.000000</td>\n",
              "      <td>0.000000</td>\n",
              "    </tr>\n",
              "    <tr>\n",
              "      <th>50%</th>\n",
              "      <td>0.000000</td>\n",
              "      <td>2.301800e+04</td>\n",
              "      <td>1087.000000</td>\n",
              "      <td>1.000000</td>\n",
              "      <td>4.000000</td>\n",
              "      <td>0.000000</td>\n",
              "      <td>0.000000</td>\n",
              "      <td>7.392857</td>\n",
              "      <td>0.000000</td>\n",
              "      <td>40.839286</td>\n",
              "      <td>316.000000</td>\n",
              "      <td>1.000000</td>\n",
              "      <td>0.000000</td>\n",
              "      <td>0.000000</td>\n",
              "    </tr>\n",
              "    <tr>\n",
              "      <th>75%</th>\n",
              "      <td>0.644875</td>\n",
              "      <td>4.986375e+04</td>\n",
              "      <td>1430.000000</td>\n",
              "      <td>2.000000</td>\n",
              "      <td>10.000000</td>\n",
              "      <td>0.000000</td>\n",
              "      <td>0.000000</td>\n",
              "      <td>16.750000</td>\n",
              "      <td>0.000000</td>\n",
              "      <td>72.000000</td>\n",
              "      <td>592.000000</td>\n",
              "      <td>1.000000</td>\n",
              "      <td>0.000000</td>\n",
              "      <td>1.000000</td>\n",
              "    </tr>\n",
              "    <tr>\n",
              "      <th>max</th>\n",
              "      <td>0.999100</td>\n",
              "      <td>3.657548e+07</td>\n",
              "      <td>16336.000000</td>\n",
              "      <td>3.000000</td>\n",
              "      <td>7142.000000</td>\n",
              "      <td>335.000000</td>\n",
              "      <td>15.000000</td>\n",
              "      <td>7142.000000</td>\n",
              "      <td>1.000000</td>\n",
              "      <td>939.000000</td>\n",
              "      <td>1997.000000</td>\n",
              "      <td>1.000000</td>\n",
              "      <td>1.000000</td>\n",
              "      <td>1.000000</td>\n",
              "    </tr>\n",
              "  </tbody>\n",
              "</table>\n",
              "</div>"
            ],
            "text/plain": [
              "                 174    createDate  ...  reporterReply      userReply\n",
              "count  151202.000000  1.512020e+05  ...  151202.000000  151202.000000\n",
              "mean        0.051133  8.179575e+04  ...       0.000053       0.253006\n",
              "std         0.633504  7.785789e+05  ...       0.007274       0.434736\n",
              "min        -0.999400  0.000000e+00  ...       0.000000       0.000000\n",
              "25%        -0.540950  9.314000e+03  ...       0.000000       0.000000\n",
              "50%         0.000000  2.301800e+04  ...       0.000000       0.000000\n",
              "75%         0.644875  4.986375e+04  ...       0.000000       1.000000\n",
              "max         0.999100  3.657548e+07  ...       1.000000       1.000000\n",
              "\n",
              "[8 rows x 14 columns]"
            ]
          },
          "metadata": {
            "tags": []
          },
          "execution_count": 12
        }
      ]
    },
    {
      "cell_type": "code",
      "metadata": {
        "id": "FLSu1lIZz0SI",
        "colab_type": "code",
        "outputId": "140f8608-f7c5-414e-d89d-3a54ab9dc9c2",
        "colab": {
          "base_uri": "https://localhost:8080/",
          "height": 280
        }
      },
      "source": [
        "#plt.scatter( '174' ,'recommendations', data=df_eda, linestyle='-', marker='o')\n",
        "sns.distplot(df_eda['174']);\n",
        "\n",
        "# plt.xlabel(\"sentiment\")\n",
        "# plt.ylabel(\"recommendations\")\n",
        "# plt.show()"
      ],
      "execution_count": 0,
      "outputs": [
        {
          "output_type": "display_data",
          "data": {
            "image/png": "[encoded data removed]",
            "text/plain": [
              "<Figure size 432x288 with 1 Axes>"
            ]
          },
          "metadata": {
            "tags": []
          }
        }
      ]
    },
    {
      "cell_type": "code",
      "metadata": {
        "id": "AohQLAYp2jmY",
        "colab_type": "code",
        "outputId": "2e58c187-c907-4bcd-f536-52a9dded00bf",
        "colab": {
          "base_uri": "https://localhost:8080/",
          "height": 279
        }
      },
      "source": [
        "ax = sns.violinplot(x=\"editorsSelection\", y=\"174\", data=df_eda)"
      ],
      "execution_count": 0,
      "outputs": [
        {
          "output_type": "display_data",
          "data": {
            "image/png": "[encoded data removed]",
            "text/plain": [
              "<Figure size 432x288 with 1 Axes>"
            ]
          },
          "metadata": {
            "tags": []
          }
        }
      ]
    },
    {
      "cell_type": "code",
      "metadata": {
        "id": "ngbJF1a83gZ7",
        "colab_type": "code",
        "outputId": "941b86f6-5b4e-4e55-bf52-665bbea0373b",
        "colab": {
          "base_uri": "https://localhost:8080/",
          "height": 280
        }
      },
      "source": [
        "sns.distplot(df_eda[df_eda['editorsSelection']==0]['174']); ## for False"
      ],
      "execution_count": 0,
      "outputs": [
        {
          "output_type": "display_data",
          "data": {
            "image/png": "[encoded data removed]",
            "text/plain": [
              "<Figure size 432x288 with 1 Axes>"
            ]
          },
          "metadata": {
            "tags": []
          }
        }
      ]
    },
    {
      "cell_type": "code",
      "metadata": {
        "id": "C86Uc11_zNQ2",
        "colab_type": "code",
        "outputId": "1d936ce7-2011-4703-b068-2a75821425a5",
        "colab": {
          "base_uri": "https://localhost:8080/",
          "height": 279
        }
      },
      "source": [
        "sns.distplot(df_eda[df_eda['editorsSelection']==1]['174']); ## for true"
      ],
      "execution_count": 0,
      "outputs": [
        {
          "output_type": "display_data",
          "data": {
            "image/png": "[encoded data removed]",
            "text/plain": [
              "<Figure size 432x288 with 1 Axes>"
            ]
          },
          "metadata": {
            "tags": []
          }
        }
      ]
    },
    {
      "cell_type": "code",
      "metadata": {
        "id": "VLCZb0024Hqt",
        "colab_type": "code",
        "outputId": "4fe4d61f-b095-4601-be33-22fe7878fad3",
        "colab": {
          "base_uri": "https://localhost:8080/",
          "height": 282
        }
      },
      "source": [
        "sns.kdeplot(\n",
        "    df_eda['recommendations'],\n",
        "    # kind='scatter' # or 'kde' or 'hex'\n",
        ")\n",
        "# sns.pairplot(df_eda['recommendations'])"
      ],
      "execution_count": 0,
      "outputs": [
        {
          "output_type": "execute_result",
          "data": {
            "text/plain": [
              "<matplotlib.axes._subplots.AxesSubplot at 0x7f943599b390>"
            ]
          },
          "metadata": {
            "tags": []
          },
          "execution_count": 36
        },
        {
          "output_type": "display_data",
          "data": {
            "image/png": "[encoded data removed]",
            "text/plain": [
              "<Figure size 432x288 with 1 Axes>"
            ]
          },
          "metadata": {
            "tags": []
          }
        }
      ]
    },
    {
      "cell_type": "code",
      "metadata": {
        "id": "uUvGUfBM7uxq",
        "colab_type": "code",
        "outputId": "d1bcb186-713b-4c5c-edc1-c95506291ccb",
        "colab": {
          "base_uri": "https://localhost:8080/",
          "height": 86
        }
      },
      "source": [
        "# sums = df_eda.editorsSelection\n",
        "# axis('equal');\n",
        "# pie(sums);\n",
        "# show()\n",
        "df1.depth.value_counts()"
      ],
      "execution_count": 0,
      "outputs": [
        {
          "output_type": "execute_result",
          "data": {
            "text/plain": [
              "1.0    112939\n",
              "2.0     37948\n",
              "3.0       315\n",
              "Name: depth, dtype: int64"
            ]
          },
          "metadata": {
            "tags": []
          },
          "execution_count": 6
        }
      ]
    },
    {
      "cell_type": "code",
      "metadata": {
        "id": "rRr5DaSQ9lbg",
        "colab_type": "code",
        "outputId": "a44dcdb8-2ffc-4990-cafd-9a818cf3960c",
        "colab": {
          "base_uri": "https://localhost:8080/",
          "height": 282
        }
      },
      "source": [
        "a1 = df_eda[df_eda['editorsSelection']==1].recommendations.mean()\n",
        "a2 = df_eda[df_eda['editorsSelection']==0].recommendations.mean()\n",
        "plt.bar([1,0], [a1,a2])"
      ],
      "execution_count": 0,
      "outputs": [
        {
          "output_type": "execute_result",
          "data": {
            "text/plain": [
              "<BarContainer object of 2 artists>"
            ]
          },
          "metadata": {
            "tags": []
          },
          "execution_count": 66
        },
        {
          "output_type": "display_data",
          "data": {
            "image/png": "[encoded data removed]",
            "text/plain": [
              "<Figure size 432x288 with 1 Axes>"
            ]
          },
          "metadata": {
            "tags": []
          }
        }
      ]
    },
    {
      "cell_type": "code",
      "metadata": {
        "id": "2Nkz4GI7_Yts",
        "colab_type": "code",
        "outputId": "01165368-1282-4583-fbef-e1f63b096d40",
        "colab": {
          "base_uri": "https://localhost:8080/",
          "height": 317
        }
      },
      "source": [
        "fig1, ax1 = plt.subplots()   #######\n",
        "ax1.pie([len(df_eda[df_eda['editorsSelection']==1]),len(df_eda[df_eda['editorsSelection']==0])] ,  shadow=True, startangle=-2)\n",
        "ax1.axis('equal') "
      ],
      "execution_count": 0,
      "outputs": [
        {
          "output_type": "execute_result",
          "data": {
            "text/plain": [
              "(-1.1029348293816283,\n",
              " 1.100331088148356,\n",
              " -1.1010049278264027,\n",
              " 1.1057434751080812)"
            ]
          },
          "metadata": {
            "tags": []
          },
          "execution_count": 75
        },
        {
          "output_type": "display_data",
          "data": {
            "image/png": "[encoded data removed]",
            "text/plain": [
              "<Figure size 432x288 with 1 Axes>"
            ]
          },
          "metadata": {
            "tags": []
          }
        }
      ]
    },
    {
      "cell_type": "code",
      "metadata": {
        "id": "LHyaSBOY_iQf",
        "colab_type": "code",
        "outputId": "ace644f2-fa1e-464e-c088-73765caf3f23",
        "colab": {
          "base_uri": "https://localhost:8080/",
          "height": 279
        }
      },
      "source": [
        "vc=train['articleID'].value_counts()\n",
        "sns.distplot(vc);"
      ],
      "execution_count": 0,
      "outputs": [
        {
          "output_type": "display_data",
          "data": {
            "image/png": "[encoded data removed]",
            "text/plain": [
              "<Figure size 432x288 with 1 Axes>"
            ]
          },
          "metadata": {
            "tags": []
          }
        }
      ]
    },
    {
      "cell_type": "code",
      "metadata": {
        "id": "zBg-BFYrEC6c",
        "colab_type": "code",
        "outputId": "e09076dd-78f7-45f6-fd1d-eec0eaf8bc4e",
        "colab": {
          "base_uri": "https://localhost:8080/",
          "height": 86
        }
      },
      "source": [
        "train['commentType'].value_counts()"
      ],
      "execution_count": 0,
      "outputs": [
        {
          "output_type": "execute_result",
          "data": {
            "text/plain": [
              "comment          112939\n",
              "userReply         38253\n",
              "reporterReply         8\n",
              "Name: commentType, dtype: int64"
            ]
          },
          "metadata": {
            "tags": []
          },
          "execution_count": 87
        }
      ]
    },
    {
      "cell_type": "code",
      "metadata": {
        "id": "jv5HNWidEf60",
        "colab_type": "code",
        "outputId": "29ba05c4-4c0a-4358-940d-8f01a106f254",
        "colab": {
          "base_uri": "https://localhost:8080/",
          "height": 282
        }
      },
      "source": [
        "a1 = train[train['commentType']=='comment'].recommendations.mean()\n",
        "a2 = train[train['commentType']=='userReply'].recommendations.mean()\n",
        "a3 = train[train['commentType']=='reporterReply'].recommendations.mean()\n",
        "plt.bar(['comment','userReply','reporterReply'], [a1,a2,a3])\n",
        "plt.ylabel('avg_recommendations')"
      ],
      "execution_count": 0,
      "outputs": [
        {
          "output_type": "execute_result",
          "data": {
            "text/plain": [
              "Text(0, 0.5, 'avg_recommendations')"
            ]
          },
          "metadata": {
            "tags": []
          },
          "execution_count": 42
        },
        {
          "output_type": "display_data",
          "data": {
            "image/png": "[encoded data removed]",
            "text/plain": [
              "<Figure size 432x288 with 1 Axes>"
            ]
          },
          "metadata": {
            "tags": []
          }
        }
      ]
    },
    {
      "cell_type": "code",
      "metadata": {
        "id": "khQ8w8r2FbH0",
        "colab_type": "code",
        "colab": {}
      },
      "source": [
        "a=train[['recommendations','replyCount']].groupby(['replyCount'])['recommendations'].mean()"
      ],
      "execution_count": 0,
      "outputs": []
    },
    {
      "cell_type": "code",
      "metadata": {
        "id": "ugDHZYP9HJGC",
        "colab_type": "code",
        "colab": {}
      },
      "source": [
        "temp=pd.DataFrame()\n",
        "temp['recommendation_avg']=train[['recommendations','replyCount']].groupby(['replyCount'])['recommendations'].mean()\n",
        "temp['reply_counts']=train['replyCount'].unique()"
      ],
      "execution_count": 0,
      "outputs": []
    },
    {
      "cell_type": "code",
      "metadata": {
        "id": "5fjJwYwiGFB4",
        "colab_type": "code",
        "outputId": "d26fcdda-5831-4a63-ad5c-dac706c83312",
        "colab": {
          "base_uri": "https://localhost:8080/",
          "height": 296
        }
      },
      "source": [
        "# sns.jointplot(y=\"recommendation_avg\", x=\"reply_counts\", data=temp,kind='kde');\n",
        "plt.scatter( y=\"recommendation_avg\", x=\"reply_counts\",data=temp, linestyle='-', marker='o')\n",
        "plt.xlabel('createDate')\n",
        "plt.ylabel('recommendations')\n",
        "plt.xlim(0,100)"
      ],
      "execution_count": 0,
      "outputs": [
        {
          "output_type": "execute_result",
          "data": {
            "text/plain": [
              "(0, 100)"
            ]
          },
          "metadata": {
            "tags": []
          },
          "execution_count": 24
        },
        {
          "output_type": "display_data",
          "data": {
            "image/png": "[encoded data removed]",
            "text/plain": [
              "<Figure size 432x288 with 1 Axes>"
            ]
          },
          "metadata": {
            "tags": []
          }
        }
      ]
    },
    {
      "cell_type": "code",
      "metadata": {
        "id": "57shqk99GMce",
        "colab_type": "code",
        "outputId": "24eda737-f315-40e9-8bcf-f7c99518fe77",
        "colab": {
          "base_uri": "https://localhost:8080/",
          "height": 642
        }
      },
      "source": [
        "# a = sns.jointplot(y=\"recommendations\", x=\"createDate\", data=df_eda);\n",
        "# # axis = a.axes\n",
        "# a.set(xlim=(0, 10))\n",
        "# # sns.plt.xlim(0,)\n",
        "plt.scatter()"
      ],
      "execution_count": 0,
      "outputs": [
        {
          "output_type": "error",
          "ename": "AttributeError",
          "evalue": "ignored",
          "traceback": [
            "\u001b[0;31m---------------------------------------------------------------------------\u001b[0m",
            "\u001b[0;31mAttributeError\u001b[0m                            Traceback (most recent call last)",
            "\u001b[0;32m<ipython-input-114-537df9ae0312>\u001b[0m in \u001b[0;36m<module>\u001b[0;34m()\u001b[0m\n\u001b[1;32m      1\u001b[0m \u001b[0ma\u001b[0m \u001b[0;34m=\u001b[0m \u001b[0msns\u001b[0m\u001b[0;34m.\u001b[0m\u001b[0mjointplot\u001b[0m\u001b[0;34m(\u001b[0m\u001b[0my\u001b[0m\u001b[0;34m=\u001b[0m\u001b[0;34m\"recommendations\"\u001b[0m\u001b[0;34m,\u001b[0m \u001b[0mx\u001b[0m\u001b[0;34m=\u001b[0m\u001b[0;34m\"createDate\"\u001b[0m\u001b[0;34m,\u001b[0m \u001b[0mdata\u001b[0m\u001b[0;34m=\u001b[0m\u001b[0mdf_eda\u001b[0m\u001b[0;34m)\u001b[0m\u001b[0;34m;\u001b[0m\u001b[0;34m\u001b[0m\u001b[0;34m\u001b[0m\u001b[0m\n\u001b[1;32m      2\u001b[0m \u001b[0;31m# axis = a.axes\u001b[0m\u001b[0;34m\u001b[0m\u001b[0;34m\u001b[0m\u001b[0;34m\u001b[0m\u001b[0m\n\u001b[0;32m----> 3\u001b[0;31m \u001b[0ma\u001b[0m\u001b[0;34m.\u001b[0m\u001b[0mset\u001b[0m\u001b[0;34m(\u001b[0m\u001b[0mxlim\u001b[0m\u001b[0;34m=\u001b[0m\u001b[0;34m(\u001b[0m\u001b[0;36m0\u001b[0m\u001b[0;34m,\u001b[0m \u001b[0;36m10\u001b[0m\u001b[0;34m)\u001b[0m\u001b[0;34m)\u001b[0m\u001b[0;34m\u001b[0m\u001b[0;34m\u001b[0m\u001b[0m\n\u001b[0m\u001b[1;32m      4\u001b[0m \u001b[0;31m# sns.plt.xlim(0,)\u001b[0m\u001b[0;34m\u001b[0m\u001b[0;34m\u001b[0m\u001b[0;34m\u001b[0m\u001b[0m\n",
            "\u001b[0;31mAttributeError\u001b[0m: 'JointGrid' object has no attribute 'set'"
          ]
        },
        {
          "output_type": "display_data",
          "data": {
            "image/png": "[encoded data removed]",
            "text/plain": [
              "<Figure size 432x432 with 3 Axes>"
            ]
          },
          "metadata": {
            "tags": []
          }
        }
      ]
    },
    {
      "cell_type": "code",
      "metadata": {
        "id": "YuBWY1H_JAIj",
        "colab_type": "code",
        "outputId": "15ac304e-f1b7-4a5a-9903-c44203bb7c08",
        "colab": {
          "base_uri": "https://localhost:8080/",
          "height": 296
        }
      },
      "source": [
        "plt.scatter( y=\"recommendations\", x=\"createDate\",data=df_eda, linestyle='-', marker='o') ####\n",
        "plt.xlabel('createDate')\n",
        "plt.ylabel('recommendations')\n",
        "plt.xlim(0,100000)"
      ],
      "execution_count": 0,
      "outputs": [
        {
          "output_type": "execute_result",
          "data": {
            "text/plain": [
              "(0, 100000)"
            ]
          },
          "metadata": {
            "tags": []
          },
          "execution_count": 11
        },
        {
          "output_type": "display_data",
          "data": {
            "image/png": "[encoded data removed]",
            "text/plain": [
              "<Figure size 432x288 with 1 Axes>"
            ]
          },
          "metadata": {
            "tags": []
          }
        }
      ]
    },
    {
      "cell_type": "code",
      "metadata": {
        "id": "rsR8zCPh_eTQ",
        "colab_type": "code",
        "outputId": "17aafaed-2396-4832-8319-c9c8e4e57005",
        "colab": {
          "base_uri": "https://localhost:8080/",
          "height": 296
        }
      },
      "source": [
        "plt.scatter( y=\"recommendations\", x=\"articleWordCount\",data=df_eda, linestyle='-', marker='o') #####\n",
        "plt.xlabel('articleWordCount')\n",
        "plt.ylabel('recommendations')\n",
        "# plt.xlim(0,100000)"
      ],
      "execution_count": 0,
      "outputs": [
        {
          "output_type": "execute_result",
          "data": {
            "text/plain": [
              "Text(0, 0.5, 'recommendations')"
            ]
          },
          "metadata": {
            "tags": []
          },
          "execution_count": 14
        },
        {
          "output_type": "display_data",
          "data": {
            "image/png": "[encoded data removed]",
            "text/plain": [
              "<Figure size 432x288 with 1 Axes>"
            ]
          },
          "metadata": {
            "tags": []
          }
        }
      ]
    },
    {
      "cell_type": "code",
      "metadata": {
        "id": "KR-zAYuxA2MD",
        "colab_type": "code",
        "outputId": "269428b0-bbf3-4181-d1f7-7604cec8ef91",
        "colab": {
          "base_uri": "https://localhost:8080/",
          "height": 173
        }
      },
      "source": [
        "df_eda.articleWordCount.describe()"
      ],
      "execution_count": 0,
      "outputs": [
        {
          "output_type": "execute_result",
          "data": {
            "text/plain": [
              "count    151202.000000\n",
              "mean       1227.037777\n",
              "std         795.801593\n",
              "min          11.000000\n",
              "25%         832.000000\n",
              "50%        1087.000000\n",
              "75%        1430.000000\n",
              "max       16336.000000\n",
              "Name: articleWordCount, dtype: float64"
            ]
          },
          "metadata": {
            "tags": []
          },
          "execution_count": 15
        }
      ]
    },
    {
      "cell_type": "code",
      "metadata": {
        "id": "O2hXC0nPN6eI",
        "colab_type": "code",
        "outputId": "8fbcab2f-4d02-40c5-e139-e961832a4fbc",
        "colab": {
          "base_uri": "https://localhost:8080/",
          "height": 278
        }
      },
      "source": [
        "df_eda=  df1[['174',\n",
        "  'createDate',\n",
        " 'articleWordCount',\n",
        " 'depth',\n",
        " 'recommendations',\n",
        " 'replyCount',\n",
        " 'userTitleRC',\n",
        " 'userIDRC',\n",
        " 'editorsSelection',\n",
        " 'ratio_comment_article',\n",
        " 'word_count',\n",
        " 'comment',\n",
        " 'reporterReply',\n",
        " 'userReply']]\n",
        "df_eda['createDate'][df_eda['createDate']>1000000]=1000000\n",
        "# df_eda['createDate'].set_max(5000000)"
      ],
      "execution_count": 0,
      "outputs": [
        {
          "output_type": "stream",
          "text": [
            "/usr/local/lib/python3.6/dist-packages/ipykernel_launcher.py:15: SettingWithCopyWarning: \n",
            "A value is trying to be set on a copy of a slice from a DataFrame\n",
            "\n",
            "See the caveats in the documentation: http://pandas.pydata.org/pandas-docs/stable/user_guide/indexing.html#returning-a-view-versus-a-copy\n",
            "  from ipykernel import kernelapp as app\n",
            "/usr/local/lib/python3.6/dist-packages/pandas/core/generic.py:9114: SettingWithCopyWarning: \n",
            "A value is trying to be set on a copy of a slice from a DataFrame\n",
            "\n",
            "See the caveats in the documentation: http://pandas.pydata.org/pandas-docs/stable/user_guide/indexing.html#returning-a-view-versus-a-copy\n",
            "  self._update_inplace(new_data)\n",
            "/usr/local/lib/python3.6/dist-packages/IPython/core/interactiveshell.py:2882: SettingWithCopyWarning: \n",
            "A value is trying to be set on a copy of a slice from a DataFrame\n",
            "\n",
            "See the caveats in the documentation: http://pandas.pydata.org/pandas-docs/stable/user_guide/indexing.html#returning-a-view-versus-a-copy\n",
            "  exec(code_obj, self.user_global_ns, self.user_ns)\n"
          ],
          "name": "stderr"
        }
      ]
    },
    {
      "cell_type": "code",
      "metadata": {
        "id": "HFRJ_zT-LVsn",
        "colab_type": "code",
        "outputId": "a7ee1dc2-6320-4a59-8fd5-ce2103c09043",
        "colab": {
          "base_uri": "https://localhost:8080/",
          "height": 282
        }
      },
      "source": [
        "df_eda['createDate'].hist(bins=100)"
      ],
      "execution_count": 0,
      "outputs": [
        {
          "output_type": "execute_result",
          "data": {
            "text/plain": [
              "<matplotlib.axes._subplots.AxesSubplot at 0x7f9429a6aa90>"
            ]
          },
          "metadata": {
            "tags": []
          },
          "execution_count": 162
        },
        {
          "output_type": "display_data",
          "data": {
            "image/png": "[encoded data removed]",
            "text/plain": [
              "<Figure size 432x288 with 1 Axes>"
            ]
          },
          "metadata": {
            "tags": []
          }
        }
      ]
    },
    {
      "cell_type": "code",
      "metadata": {
        "id": "caD88lGxLmKC",
        "colab_type": "code",
        "outputId": "2021e2ec-3eee-4427-c25f-b99af02023ce",
        "colab": {
          "base_uri": "https://localhost:8080/",
          "height": 225
        }
      },
      "source": [
        "df_eda['word_count'].value_counts()"
      ],
      "execution_count": 0,
      "outputs": [
        {
          "output_type": "execute_result",
          "data": {
            "text/plain": [
              "124     341\n",
              "76      324\n",
              "98      322\n",
              "74      321\n",
              "75      321\n",
              "       ... \n",
              "1879      1\n",
              "1692      1\n",
              "1624      1\n",
              "1753      1\n",
              "1752      1\n",
              "Name: word_count, Length: 1787, dtype: int64"
            ]
          },
          "metadata": {
            "tags": []
          },
          "execution_count": 164
        }
      ]
    },
    {
      "cell_type": "code",
      "metadata": {
        "id": "FmZ2nHixQpae",
        "colab_type": "code",
        "outputId": "214a0c4e-2248-4feb-b95d-7dfd7255d6c0",
        "colab": {
          "base_uri": "https://localhost:8080/",
          "height": 282
        }
      },
      "source": [
        "df_eda['word_count'].hist(bins=100)"
      ],
      "execution_count": 0,
      "outputs": [
        {
          "output_type": "execute_result",
          "data": {
            "text/plain": [
              "<matplotlib.axes._subplots.AxesSubplot at 0x7f942b6bd5f8>"
            ]
          },
          "metadata": {
            "tags": []
          },
          "execution_count": 165
        },
        {
          "output_type": "display_data",
          "data": {
            "image/png": "[encoded data removed]",
            "text/plain": [
              "<Figure size 432x288 with 1 Axes>"
            ]
          },
          "metadata": {
            "tags": []
          }
        }
      ]
    },
    {
      "cell_type": "code",
      "metadata": {
        "id": "ZlyttA-sQpV_",
        "colab_type": "code",
        "outputId": "7426a875-b054-49cc-90ae-b346fff5359a",
        "colab": {
          "base_uri": "https://localhost:8080/",
          "height": 458
        }
      },
      "source": [
        "sns.jointplot( y=\"recommendations\", x=\"word_count\",data=df_eda,kind=\"kde\")"
      ],
      "execution_count": 0,
      "outputs": [
        {
          "output_type": "execute_result",
          "data": {
            "text/plain": [
              "<seaborn.axisgrid.JointGrid at 0x7f942b77a668>"
            ]
          },
          "metadata": {
            "tags": []
          },
          "execution_count": 168
        },
        {
          "output_type": "display_data",
          "data": {
            "image/png": "[encoded data removed]",
            "text/plain": [
              "<Figure size 432x432 with 3 Axes>"
            ]
          },
          "metadata": {
            "tags": []
          }
        }
      ]
    },
    {
      "cell_type": "code",
      "metadata": {
        "id": "NPDJrtkRSSE8",
        "colab_type": "code",
        "outputId": "0482f420-8592-440c-a57d-02781f014bbd",
        "colab": {
          "base_uri": "https://localhost:8080/",
          "height": 280
        }
      },
      "source": [
        "plt.scatter( 'word_count', 'recommendations', data=df_eda, linestyle='-', marker='.')\n",
        "plt.xlabel('word_count')\n",
        "plt.ylabel('recommendations')\n",
        "plt.show()"
      ],
      "execution_count": 0,
      "outputs": [
        {
          "output_type": "display_data",
          "data": {
            "image/png": "[encoded data removed]",
            "text/plain": [
              "<Figure size 432x288 with 1 Axes>"
            ]
          },
          "metadata": {
            "tags": []
          }
        }
      ]
    },
    {
      "cell_type": "code",
      "metadata": {
        "id": "i_w6pZ4ZRxPZ",
        "colab_type": "code",
        "outputId": "ec9a7b5f-847c-4f4c-e76e-45ee5f0f87f3",
        "colab": {
          "base_uri": "https://localhost:8080/",
          "height": 282
        }
      },
      "source": [
        "a = sns.distplot(df_eda.userIDRC.unique(),bins=100)\n",
        "a.set(xlim=(0,300))"
      ],
      "execution_count": 0,
      "outputs": [
        {
          "output_type": "execute_result",
          "data": {
            "text/plain": [
              "[(0, 300)]"
            ]
          },
          "metadata": {
            "tags": []
          },
          "execution_count": 30
        },
        {
          "output_type": "display_data",
          "data": {
            "image/png": "[encoded data removed]",
            "text/plain": [
              "<Figure size 432x288 with 1 Axes>"
            ]
          },
          "metadata": {
            "tags": []
          }
        }
      ]
    },
    {
      "cell_type": "code",
      "metadata": {
        "id": "98d1ZrkCTVbm",
        "colab_type": "code",
        "outputId": "66ae7b69-cb95-45b2-d96a-662364ccc3f9",
        "colab": {
          "base_uri": "https://localhost:8080/",
          "height": 278
        }
      },
      "source": [
        "df_eda['userIDRC'][df_eda['userIDRC']>200]=200"
      ],
      "execution_count": 0,
      "outputs": [
        {
          "output_type": "stream",
          "text": [
            "/usr/local/lib/python3.6/dist-packages/ipykernel_launcher.py:1: SettingWithCopyWarning: \n",
            "A value is trying to be set on a copy of a slice from a DataFrame\n",
            "\n",
            "See the caveats in the documentation: http://pandas.pydata.org/pandas-docs/stable/user_guide/indexing.html#returning-a-view-versus-a-copy\n",
            "  \"\"\"Entry point for launching an IPython kernel.\n",
            "/usr/local/lib/python3.6/dist-packages/pandas/core/generic.py:9114: SettingWithCopyWarning: \n",
            "A value is trying to be set on a copy of a slice from a DataFrame\n",
            "\n",
            "See the caveats in the documentation: http://pandas.pydata.org/pandas-docs/stable/user_guide/indexing.html#returning-a-view-versus-a-copy\n",
            "  self._update_inplace(new_data)\n",
            "/usr/local/lib/python3.6/dist-packages/IPython/core/interactiveshell.py:2882: SettingWithCopyWarning: \n",
            "A value is trying to be set on a copy of a slice from a DataFrame\n",
            "\n",
            "See the caveats in the documentation: http://pandas.pydata.org/pandas-docs/stable/user_guide/indexing.html#returning-a-view-versus-a-copy\n",
            "  exec(code_obj, self.user_global_ns, self.user_ns)\n"
          ],
          "name": "stderr"
        }
      ]
    },
    {
      "cell_type": "code",
      "metadata": {
        "id": "DU-lelUlHNpK",
        "colab_type": "code",
        "outputId": "be0200fe-c447-4e6b-96c0-53e9a5c1b43a",
        "colab": {
          "base_uri": "https://localhost:8080/",
          "height": 225
        }
      },
      "source": [
        "df_eda.ratio_comment_article.value_counts()"
      ],
      "execution_count": 0,
      "outputs": [
        {
          "output_type": "execute_result",
          "data": {
            "text/plain": [
              "39.741176    10134\n",
              "40.839286     4574\n",
              "62.750000     4518\n",
              "63.229508     3857\n",
              "47.690141     3386\n",
              "             ...  \n",
              "0.157895         3\n",
              "0.166667         2\n",
              "0.200000         2\n",
              "0.285714         2\n",
              "0.142857         1\n",
              "Name: ratio_comment_article, Length: 517, dtype: int64"
            ]
          },
          "metadata": {
            "tags": []
          },
          "execution_count": 37
        }
      ]
    },
    {
      "cell_type": "code",
      "metadata": {
        "id": "nQDg7ATLTwTm",
        "colab_type": "code",
        "outputId": "396e932a-fe1c-49ba-eec3-56e8a3122933",
        "colab": {
          "base_uri": "https://localhost:8080/",
          "height": 296
        }
      },
      "source": [
        "a = sns.distplot(df_eda.userIDRC)\n",
        "a.set(xlim=(0,100))"
      ],
      "execution_count": 0,
      "outputs": [
        {
          "output_type": "execute_result",
          "data": {
            "text/plain": [
              "[(0, 100)]"
            ]
          },
          "metadata": {
            "tags": []
          },
          "execution_count": 34
        },
        {
          "output_type": "display_data",
          "data": {
            "image/png": "[encoded data removed]",
            "text/plain": [
              "<Figure size 432x288 with 1 Axes>"
            ]
          },
          "metadata": {
            "tags": []
          }
        }
      ]
    },
    {
      "cell_type": "code",
      "metadata": {
        "id": "ojBmuaZ6T5_l",
        "colab_type": "code",
        "outputId": "bf29808d-4e14-4a51-acbb-9df75bb29d13",
        "colab": {
          "base_uri": "https://localhost:8080/",
          "height": 265
        }
      },
      "source": [
        "plt.scatter( 'ratio_comment_article', 'recommendations', data=df_eda, linestyle='-', marker='.')\n",
        "plt.xlim(0,100)\n",
        "plt.show()"
      ],
      "execution_count": 0,
      "outputs": [
        {
          "output_type": "display_data",
          "data": {
            "image/png": "[encoded data removed]",
            "text/plain": [
              "<Figure size 432x288 with 1 Axes>"
            ]
          },
          "metadata": {
            "tags": []
          }
        }
      ]
    }
  ]
}